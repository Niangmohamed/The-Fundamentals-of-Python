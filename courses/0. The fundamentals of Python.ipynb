{
 "cells": [
  {
   "cell_type": "markdown",
   "id": "925859f6",
   "metadata": {},
   "source": [
    "# Python: the fundamentals"
   ]
  },
  {
   "cell_type": "markdown",
   "id": "49074fa2",
   "metadata": {},
   "source": [
    "**Author: Mohamed NIANG, ML Scientist**"
   ]
  },
  {
   "cell_type": "markdown",
   "id": "ff6743f1",
   "metadata": {},
   "source": [
    "## Presentation"
   ]
  },
  {
   "cell_type": "markdown",
   "id": "81eadafc",
   "metadata": {},
   "source": [
    "This repository contains notebooks on the fundamentals of Python. The notebooks are provided with datasets to illustrate the concepts used."
   ]
  },
  {
   "cell_type": "markdown",
   "id": "6c86ac82",
   "metadata": {},
   "source": [
    "## Program Content"
   ]
  },
  {
   "cell_type": "markdown",
   "id": "71b45f29",
   "metadata": {},
   "source": [
    "1. Python the basics\n",
    "2. Files and loops in Python\n",
    "3. Booleans and IF Conditions in Python\n",
    "4. Dictionary in Python\n",
    "5. List operations in Python\n",
    "6. Introduction to functions in Python\n",
    "7. Improvements and errors on the functions in Python\n",
    "8. Datasets exploration in Python\n",
    "9. Modules in Python\n",
    "10. Classes in Python\n",
    "11. Errors management in Python\n",
    "12. List comprehension in Python\n",
    "13. Scope of variables in Python\n",
    "14. Regular expressions in Python\n",
    "15. Date manipulation in Python\n",
    "16. Datasets analysis without using Pandas in Python"
   ]
  }
 ],
 "metadata": {
  "kernelspec": {
   "display_name": "Python 3 (ipykernel)",
   "language": "python",
   "name": "python3"
  },
  "language_info": {
   "codemirror_mode": {
    "name": "ipython",
    "version": 3
   },
   "file_extension": ".py",
   "mimetype": "text/x-python",
   "name": "python",
   "nbconvert_exporter": "python",
   "pygments_lexer": "ipython3",
   "version": "3.9.7"
  }
 },
 "nbformat": 4,
 "nbformat_minor": 5
}
