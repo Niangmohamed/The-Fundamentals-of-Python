{
 "cells": [
  {
   "cell_type": "markdown",
   "id": "d5780f38",
   "metadata": {},
   "source": [
    "# Python: Scope of variables"
   ]
  },
  {
   "cell_type": "markdown",
   "id": "9ae64f5f",
   "metadata": {},
   "source": [
    "## Built-in functions"
   ]
  },
  {
   "cell_type": "code",
   "execution_count": 1,
   "id": "d9fb9564",
   "metadata": {},
   "outputs": [
    {
     "data": {
      "text/plain": [
       "6"
      ]
     },
     "execution_count": 1,
     "metadata": {},
     "output_type": "execute_result"
    }
   ],
   "source": [
    "# sum()\n",
    "sum([1,2,3])"
   ]
  },
  {
   "cell_type": "code",
   "execution_count": 2,
   "id": "e9cfc6d5",
   "metadata": {},
   "outputs": [
    {
     "data": {
      "text/plain": [
       "3"
      ]
     },
     "execution_count": 2,
     "metadata": {},
     "output_type": "execute_result"
    }
   ],
   "source": [
    "# len()\n",
    "len([1,2,3])"
   ]
  },
  {
   "cell_type": "code",
   "execution_count": 3,
   "id": "852a1958",
   "metadata": {},
   "outputs": [
    {
     "data": {
      "text/plain": [
       "1.0"
      ]
     },
     "execution_count": 3,
     "metadata": {},
     "output_type": "execute_result"
    }
   ],
   "source": [
    "# float()\n",
    "float(1)"
   ]
  },
  {
   "cell_type": "code",
   "execution_count": 4,
   "id": "04c36839",
   "metadata": {},
   "outputs": [
    {
     "data": {
      "text/plain": [
       "1"
      ]
     },
     "execution_count": 4,
     "metadata": {},
     "output_type": "execute_result"
    }
   ],
   "source": [
    "# min()\n",
    "min([1,2,3])"
   ]
  },
  {
   "cell_type": "code",
   "execution_count": 5,
   "id": "695b716e",
   "metadata": {},
   "outputs": [
    {
     "data": {
      "text/plain": [
       "3"
      ]
     },
     "execution_count": 5,
     "metadata": {},
     "output_type": "execute_result"
    }
   ],
   "source": [
    "# max()\n",
    "max([1,2,3])"
   ]
  },
  {
   "cell_type": "markdown",
   "id": "e3a7a4e1",
   "metadata": {},
   "source": [
    "**Remark:** in programming, you should generally avoid using the names of built-in functions as variable names."
   ]
  },
  {
   "cell_type": "code",
   "execution_count": 6,
   "id": "fde5fa06",
   "metadata": {},
   "outputs": [
    {
     "data": {
      "text/plain": [
       "6"
      ]
     },
     "execution_count": 6,
     "metadata": {},
     "output_type": "execute_result"
    }
   ],
   "source": [
    "# Example\n",
    "sum = sum([1,2,3])\n",
    "sum"
   ]
  },
  {
   "cell_type": "markdown",
   "id": "58f865f2",
   "metadata": {},
   "source": [
    "The following line didn't work because we declared as variable name the name of a function reserved for the language."
   ]
  },
  {
   "cell_type": "code",
   "execution_count": 7,
   "id": "7ff9b708",
   "metadata": {},
   "outputs": [
    {
     "ename": "TypeError",
     "evalue": "'int' object is not callable",
     "output_type": "error",
     "traceback": [
      "\u001b[1;31m---------------------------------------------------------------------------\u001b[0m",
      "\u001b[1;31mTypeError\u001b[0m                                 Traceback (most recent call last)",
      "\u001b[1;32m~\\AppData\\Local\\Temp/ipykernel_12884/980638477.py\u001b[0m in \u001b[0;36m<module>\u001b[1;34m\u001b[0m\n\u001b[1;32m----> 1\u001b[1;33m \u001b[0msum\u001b[0m\u001b[1;33m(\u001b[0m\u001b[1;33m[\u001b[0m\u001b[1;36m1\u001b[0m\u001b[1;33m,\u001b[0m\u001b[1;36m2\u001b[0m\u001b[1;33m,\u001b[0m\u001b[1;36m3\u001b[0m\u001b[1;33m]\u001b[0m\u001b[1;33m)\u001b[0m\u001b[1;33m\u001b[0m\u001b[1;33m\u001b[0m\u001b[0m\n\u001b[0m",
      "\u001b[1;31mTypeError\u001b[0m: 'int' object is not callable"
     ]
    }
   ],
   "source": [
    "sum([1,2,3])"
   ]
  },
  {
   "cell_type": "markdown",
   "id": "c4c3262a",
   "metadata": {},
   "source": [
    "## Scope of variables"
   ]
  },
  {
   "cell_type": "code",
   "execution_count": 8,
   "id": "695035df",
   "metadata": {},
   "outputs": [],
   "source": [
    "# Example\n",
    "def add(a,b):\n",
    "    total = a + b\n",
    "    return total\n",
    "\n",
    "total = 10"
   ]
  },
  {
   "cell_type": "code",
   "execution_count": 9,
   "id": "ee5a9aef",
   "metadata": {},
   "outputs": [
    {
     "data": {
      "text/plain": [
       "20"
      ]
     },
     "execution_count": 9,
     "metadata": {},
     "output_type": "execute_result"
    }
   ],
   "source": [
    "add(5,15)"
   ]
  },
  {
   "cell_type": "code",
   "execution_count": 10,
   "id": "db14457a",
   "metadata": {},
   "outputs": [
    {
     "data": {
      "text/plain": [
       "10"
      ]
     },
     "execution_count": 10,
     "metadata": {},
     "output_type": "execute_result"
    }
   ],
   "source": [
    "total "
   ]
  },
  {
   "cell_type": "markdown",
   "id": "91b42d2c",
   "metadata": {},
   "source": [
    "The **total variable** in the function is a **local variable** and the one outside the function is a **global variable**."
   ]
  },
  {
   "cell_type": "markdown",
   "id": "4b83ee76",
   "metadata": {},
   "source": [
    "### Local variables"
   ]
  },
  {
   "cell_type": "code",
   "execution_count": 11,
   "id": "226792c7",
   "metadata": {},
   "outputs": [],
   "source": [
    "# Example\n",
    "def add(a,b):\n",
    "    total = a + b\n",
    "    return total\n",
    "\n",
    "def subtract(a,b):\n",
    "    total = a - b\n",
    "    return total"
   ]
  },
  {
   "cell_type": "code",
   "execution_count": 12,
   "id": "7e860d96",
   "metadata": {},
   "outputs": [
    {
     "data": {
      "text/plain": [
       "15"
      ]
     },
     "execution_count": 12,
     "metadata": {},
     "output_type": "execute_result"
    }
   ],
   "source": [
    "add(10,5)"
   ]
  },
  {
   "cell_type": "code",
   "execution_count": 13,
   "id": "4d548a04",
   "metadata": {},
   "outputs": [
    {
     "data": {
      "text/plain": [
       "5"
      ]
     },
     "execution_count": 13,
     "metadata": {},
     "output_type": "execute_result"
    }
   ],
   "source": [
    "subtract(10,5)"
   ]
  },
  {
   "cell_type": "markdown",
   "id": "3efb590f",
   "metadata": {},
   "source": [
    "### Global variables"
   ]
  },
  {
   "cell_type": "code",
   "execution_count": 14,
   "id": "82e66176",
   "metadata": {},
   "outputs": [],
   "source": [
    "# Example\n",
    "total = 10\n",
    "\n",
    "def add_to_total(x):\n",
    "    global total\n",
    "    total += x"
   ]
  },
  {
   "cell_type": "code",
   "execution_count": 15,
   "id": "68065bc9",
   "metadata": {},
   "outputs": [
    {
     "data": {
      "text/plain": [
       "10"
      ]
     },
     "execution_count": 15,
     "metadata": {},
     "output_type": "execute_result"
    }
   ],
   "source": [
    "total"
   ]
  },
  {
   "cell_type": "code",
   "execution_count": 16,
   "id": "c47a0ece",
   "metadata": {},
   "outputs": [],
   "source": [
    "add_to_total(15)"
   ]
  },
  {
   "cell_type": "code",
   "execution_count": 17,
   "id": "3838a358",
   "metadata": {},
   "outputs": [
    {
     "data": {
      "text/plain": [
       "25"
      ]
     },
     "execution_count": 17,
     "metadata": {},
     "output_type": "execute_result"
    }
   ],
   "source": [
    "total"
   ]
  },
  {
   "cell_type": "markdown",
   "id": "bc5270e2",
   "metadata": {},
   "source": [
    "## The heritage"
   ]
  },
  {
   "cell_type": "code",
   "execution_count": 18,
   "id": "04b72d11",
   "metadata": {},
   "outputs": [],
   "source": [
    "# Example 1\n",
    "total = 12\n",
    "\n",
    "def find_average(column):\n",
    "    lenght = len(column)\n",
    "    return total/lenght"
   ]
  },
  {
   "cell_type": "code",
   "execution_count": 19,
   "id": "6f73c281",
   "metadata": {},
   "outputs": [
    {
     "data": {
      "text/plain": [
       "3.0"
      ]
     },
     "execution_count": 19,
     "metadata": {},
     "output_type": "execute_result"
    }
   ],
   "source": [
    "find_average([1,2,3,4])"
   ]
  },
  {
   "cell_type": "code",
   "execution_count": 20,
   "id": "554f1847",
   "metadata": {},
   "outputs": [],
   "source": [
    "# Example 2\n",
    "x = 5\n",
    "\n",
    "def double_x():\n",
    "    x = x * 2\n",
    "    return x"
   ]
  },
  {
   "cell_type": "code",
   "execution_count": 21,
   "id": "bc7c77c9",
   "metadata": {},
   "outputs": [
    {
     "ename": "UnboundLocalError",
     "evalue": "local variable 'x' referenced before assignment",
     "output_type": "error",
     "traceback": [
      "\u001b[1;31m---------------------------------------------------------------------------\u001b[0m",
      "\u001b[1;31mUnboundLocalError\u001b[0m                         Traceback (most recent call last)",
      "\u001b[1;32m~\\AppData\\Local\\Temp/ipykernel_12884/2925080024.py\u001b[0m in \u001b[0;36m<module>\u001b[1;34m\u001b[0m\n\u001b[1;32m----> 1\u001b[1;33m \u001b[0mdouble_x\u001b[0m\u001b[1;33m(\u001b[0m\u001b[1;33m)\u001b[0m\u001b[1;33m\u001b[0m\u001b[1;33m\u001b[0m\u001b[0m\n\u001b[0m",
      "\u001b[1;32m~\\AppData\\Local\\Temp/ipykernel_12884/4133690339.py\u001b[0m in \u001b[0;36mdouble_x\u001b[1;34m()\u001b[0m\n\u001b[0;32m      3\u001b[0m \u001b[1;33m\u001b[0m\u001b[0m\n\u001b[0;32m      4\u001b[0m \u001b[1;32mdef\u001b[0m \u001b[0mdouble_x\u001b[0m\u001b[1;33m(\u001b[0m\u001b[1;33m)\u001b[0m\u001b[1;33m:\u001b[0m\u001b[1;33m\u001b[0m\u001b[1;33m\u001b[0m\u001b[0m\n\u001b[1;32m----> 5\u001b[1;33m     \u001b[0mx\u001b[0m \u001b[1;33m=\u001b[0m \u001b[0mx\u001b[0m \u001b[1;33m*\u001b[0m \u001b[1;36m2\u001b[0m\u001b[1;33m\u001b[0m\u001b[1;33m\u001b[0m\u001b[0m\n\u001b[0m\u001b[0;32m      6\u001b[0m     \u001b[1;32mreturn\u001b[0m \u001b[0mx\u001b[0m\u001b[1;33m\u001b[0m\u001b[1;33m\u001b[0m\u001b[0m\n",
      "\u001b[1;31mUnboundLocalError\u001b[0m: local variable 'x' referenced before assignment"
     ]
    }
   ],
   "source": [
    "double_x()"
   ]
  },
  {
   "cell_type": "code",
   "execution_count": 22,
   "id": "b340ad69",
   "metadata": {},
   "outputs": [],
   "source": [
    "# Example 3\n",
    "del sum # kill previous sum variable\n",
    "def total(x):\n",
    "    return sum(x)"
   ]
  },
  {
   "cell_type": "code",
   "execution_count": 23,
   "id": "d1b79bd0",
   "metadata": {},
   "outputs": [
    {
     "data": {
      "text/plain": [
       "6"
      ]
     },
     "execution_count": 23,
     "metadata": {},
     "output_type": "execute_result"
    }
   ],
   "source": [
    "total([1,2,3])"
   ]
  }
 ],
 "metadata": {
  "kernelspec": {
   "display_name": "Python 3 (ipykernel)",
   "language": "python",
   "name": "python3"
  },
  "language_info": {
   "codemirror_mode": {
    "name": "ipython",
    "version": 3
   },
   "file_extension": ".py",
   "mimetype": "text/x-python",
   "name": "python",
   "nbconvert_exporter": "python",
   "pygments_lexer": "ipython3",
   "version": "3.9.7"
  }
 },
 "nbformat": 4,
 "nbformat_minor": 5
}
