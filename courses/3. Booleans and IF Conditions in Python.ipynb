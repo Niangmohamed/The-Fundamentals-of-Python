{
 "cells": [
  {
   "cell_type": "markdown",
   "id": "f9e86653",
   "metadata": {},
   "source": [
    "# Python: Booleans and IF Conditions"
   ]
  },
  {
   "cell_type": "markdown",
   "id": "8d7f5e5b",
   "metadata": {},
   "source": [
    "Goals:\n",
    "\n",
    "* interest of booleans\n",
    "* The IF condition\n",
    "* Associating IF and FOR\n",
    "* Real case : dataset of French departments "
   ]
  },
  {
   "cell_type": "markdown",
   "id": "dc6bab81",
   "metadata": {},
   "source": [
    "## Booleans and Operators"
   ]
  },
  {
   "cell_type": "code",
   "execution_count": 1,
   "id": "0a0a1c7f",
   "metadata": {},
   "outputs": [
    {
     "name": "stdout",
     "output_type": "stream",
     "text": [
      "True\n",
      "False\n"
     ]
    }
   ],
   "source": [
    "# Operator ==\n",
    "print(1 == 1)\n",
    "print(6 == 8)"
   ]
  },
  {
   "cell_type": "code",
   "execution_count": 2,
   "id": "881df1ac",
   "metadata": {},
   "outputs": [
    {
     "name": "stdout",
     "output_type": "stream",
     "text": [
      "False\n",
      "True\n"
     ]
    }
   ],
   "source": [
    "# Operator !=\n",
    "print(5 != 5)\n",
    "print(3 != 9)"
   ]
  },
  {
   "cell_type": "code",
   "execution_count": 3,
   "id": "ad6b9187",
   "metadata": {},
   "outputs": [
    {
     "name": "stdout",
     "output_type": "stream",
     "text": [
      "False\n",
      "True\n"
     ]
    }
   ],
   "source": [
    "# Operator > (>=) \n",
    "print(5 > 5)\n",
    "print(7 >= 3)"
   ]
  },
  {
   "cell_type": "code",
   "execution_count": 4,
   "id": "7619a336",
   "metadata": {},
   "outputs": [
    {
     "name": "stdout",
     "output_type": "stream",
     "text": [
      "False\n",
      "True\n"
     ]
    }
   ],
   "source": [
    "# Operator < (<=)\n",
    "print(9 <= 8)\n",
    "print(8 < 10)"
   ]
  },
  {
   "cell_type": "code",
   "execution_count": 5,
   "id": "572c0254",
   "metadata": {},
   "outputs": [
    {
     "name": "stdout",
     "output_type": "stream",
     "text": [
      "False\n"
     ]
    }
   ],
   "source": [
    "# With an variable\n",
    "x = (3 != 3)\n",
    "print(x)"
   ]
  },
  {
   "cell_type": "code",
   "execution_count": 6,
   "id": "440c8a19",
   "metadata": {},
   "outputs": [
    {
     "name": "stdout",
     "output_type": "stream",
     "text": [
      "False\n",
      "True\n"
     ]
    }
   ],
   "source": [
    "# With an list\n",
    "print([\"Dog\", \"Cat\"] == [\"Cat\", \"Dog\"])\n",
    "print([\"Dog\", \"Cat\"] == [\"Dog\", \"Cat\"])"
   ]
  },
  {
   "cell_type": "code",
   "execution_count": 7,
   "id": "f849bb9a",
   "metadata": {},
   "outputs": [
    {
     "name": "stdout",
     "output_type": "stream",
     "text": [
      "True\n"
     ]
    }
   ],
   "source": [
    "# With a floating variable\n",
    "print(5.0 == 5.0)"
   ]
  },
  {
   "cell_type": "code",
   "execution_count": 8,
   "id": "ce181063",
   "metadata": {},
   "outputs": [],
   "source": [
    "# Upload dataset for training\n",
    "f = open(\"departements_fr.csv\", \"r\")\n",
    "data = f.read()\n",
    "rows = data.split('\\n')\n",
    "\n",
    "departments = []\n",
    "int_dep_populations = []\n",
    "\n",
    "for row in rows:\n",
    "    values = row.split(',')\n",
    "    departments.append(values[0])\n",
    "    int_dep_populations.append(int(values[1]))"
   ]
  },
  {
   "cell_type": "code",
   "execution_count": 9,
   "id": "4cd0f8e5",
   "metadata": {},
   "outputs": [
    {
     "name": "stdout",
     "output_type": "stream",
     "text": [
      "['Ain', 'Aisne', 'Allier', 'Alpes-de-Haute-Provence', 'Alpes-Maritimes', 'Ardèche', 'Ardennes', 'Ariège', 'Aube', 'Aude', 'Aveyron', 'Bas-Rhin', 'Bouches-du-Rhône', 'Calvados', 'Cantal', 'Charente', 'Charente-Maritime', 'Cher', 'Corrèze', 'Corse-du-Sud', \"Côte-d'Or\", \"Côtes-d'Armor\", 'Creuse', 'Deux-Sèvres', 'Dordogne', 'Doubs', 'Drôme', 'Essonne', 'Eure', 'Eure-et-Loir', 'Finistère', 'Gard', 'Gers', 'Gironde', 'Guadeloupe', 'Guyane', 'Haute-Corse', 'Haute-Garonne', 'Haute-Loire', 'Haute-Marne', 'Hautes-Alpes', 'Haute-Saône', 'Haute-Savoie', 'Hautes-Pyrénées', 'Haute-Vienne', 'Haut-Rhin', 'Hauts-de-Seine', 'Hérault', 'Ille-et-Vilaine', 'Indre', 'Indre-et-Loire', 'Isère', 'Jura', 'La Réunion', 'Landes', 'Loire', 'Loire-Atlantique', 'Loiret', 'Loir-et-Cher', 'Lot', 'Lot-et-Garonne', 'Lozère', 'Maine-et-Loire', 'Manche', 'Marne', 'Martinique', 'Mayenne', 'Meurthe-et-Moselle', 'Meuse', 'Morbihan', 'Moselle', 'Nièvre', 'Nord', 'Oise', 'Orne', 'Paris', 'Pas-de-Calais', 'Puy-de-Dôme', 'Pyrénées-Atlantiques', 'Pyrénées-Orientales', 'Rhône', 'Saône-et-Loire', 'Sarthe', 'Savoie', 'Seine-et-Marne', 'Seine-Maritime', 'Seine-Saint-Denis', 'Somme', 'Tarn', 'Tarn-et-Garonne', 'Territoire de Belfort', 'Val-de-Marne', \"Val-d'Oise\", 'Var', 'Vaucluse', 'Vendée', 'Vienne', 'Vosges', 'Yonne', 'Yvelines']\n"
     ]
    }
   ],
   "source": [
    "print(departments)"
   ]
  },
  {
   "cell_type": "code",
   "execution_count": 10,
   "id": "f40a1818",
   "metadata": {},
   "outputs": [
    {
     "name": "stdout",
     "output_type": "stream",
     "text": [
      "[643309, 554040, 353262, 166298, 1098785, 332051, 287775, 158076, 316098, 375065, 289901, 1131812, 2035475, 708407, 152400, 366787, 656046, 318590, 249684, 154100, 545001, 617413, 124948, 384655, 428651, 549155, 514104, 1286908, 616076, 445083, 935393, 752382, 197988, 1556663, 406706, 254845, 175499, 1344579, 234078, 186698, 145213, 246022, 806447, 236577, 384708, 775941, 1617484, 1127333, 1060051, 232802, 619004, 1271938, 270826, 541487, 414090, 774262, 1382766, 688098, 344121, 180016, 343198, 80423, 829156, 518322, 584297, 390252, 317716, 746687, 197763, 764338, 1065894, 221048, 2640622, 838646, 297109, 2243739, 1497668, 661248, 688451, 474842, 1833002, 574229, 583961, 440777, 1400477, 1284107, 1582139, 583641, 396341, 258696, 147647, 1377511, 1221946, 1055745, 566592, 681469, 444347, 386978, 352433, 1449398]\n"
     ]
    }
   ],
   "source": [
    "print(int_dep_populations)"
   ]
  },
  {
   "cell_type": "markdown",
   "id": "9e659a01",
   "metadata": {},
   "source": [
    "### Training 1"
   ]
  },
  {
   "cell_type": "markdown",
   "id": "91fded54",
   "metadata": {},
   "source": [
    "Let's use Boolean operators to determine equivalences on the department variable."
   ]
  },
  {
   "cell_type": "code",
   "execution_count": 11,
   "id": "d4f3843a",
   "metadata": {},
   "outputs": [
    {
     "name": "stdout",
     "output_type": "stream",
     "text": [
      "True\n",
      "False\n",
      "False\n"
     ]
    }
   ],
   "source": [
    "first_ain = (departments[0] == \"Ain\")\n",
    "second_ain = (departments[1] == \"Ain\")\n",
    "first_last = (departments[0] == departments[len(departments) - 1])\n",
    "\n",
    "print(first_ain)\n",
    "print(second_ain)\n",
    "print(first_last)"
   ]
  },
  {
   "cell_type": "markdown",
   "id": "1ad20bea",
   "metadata": {},
   "source": [
    "### Training 2"
   ]
  },
  {
   "cell_type": "markdown",
   "id": "ecc33a07",
   "metadata": {},
   "source": [
    "Let's make comparisons on the variable int_dep_populations."
   ]
  },
  {
   "cell_type": "code",
   "execution_count": 12,
   "id": "71e682c5",
   "metadata": {},
   "outputs": [
    {
     "name": "stdout",
     "output_type": "stream",
     "text": [
      "True\n",
      "False\n",
      "False\n"
     ]
    }
   ],
   "source": [
    "first_500000 = (int_dep_populations[0] > 500000)\n",
    "first_650000 = (int_dep_populations[0] > 650000)\n",
    "first_last = (int_dep_populations[0] >= int_dep_populations[len(int_dep_populations) - 1])\n",
    "\n",
    "print(first_500000)\n",
    "print(first_650000)\n",
    "print(first_last)"
   ]
  },
  {
   "cell_type": "markdown",
   "id": "66ebe671",
   "metadata": {},
   "source": [
    "## The IF condition"
   ]
  },
  {
   "cell_type": "code",
   "execution_count": 13,
   "id": "92f55e5c",
   "metadata": {},
   "outputs": [
    {
     "name": "stdout",
     "output_type": "stream",
     "text": [
      "55\n"
     ]
    }
   ],
   "source": [
    "# Example 1\n",
    "age = 55\n",
    "greater = (age > 35)\n",
    "\n",
    "if greater:\n",
    "    print(age)"
   ]
  },
  {
   "cell_type": "code",
   "execution_count": 14,
   "id": "22cf3ab1",
   "metadata": {},
   "outputs": [
    {
     "name": "stdout",
     "output_type": "stream",
     "text": [
      "55\n"
     ]
    }
   ],
   "source": [
    "# Example 2\n",
    "if age > 35:\n",
    "    print(age)"
   ]
  },
  {
   "cell_type": "code",
   "execution_count": 15,
   "id": "48e5e803",
   "metadata": {},
   "outputs": [
    {
     "name": "stdout",
     "output_type": "stream",
     "text": [
      "This number is greater than 500!\n"
     ]
    }
   ],
   "source": [
    "# Example 3\n",
    "value = 1000\n",
    "\n",
    "if value > 100:\n",
    "    if value > 500:\n",
    "        print(\"This number is greater than 500!\")"
   ]
  },
  {
   "cell_type": "markdown",
   "id": "cd350665",
   "metadata": {},
   "source": [
    "### Training 1"
   ]
  },
  {
   "cell_type": "code",
   "execution_count": 16,
   "id": "c16e6e5a",
   "metadata": {},
   "outputs": [
    {
     "name": "stdout",
     "output_type": "stream",
     "text": [
      "1\n"
     ]
    }
   ],
   "source": [
    "result = 0\n",
    "\n",
    "if departments[5] == \"Ardèche\":\n",
    "    result = 1\n",
    "    \n",
    "print(result)"
   ]
  },
  {
   "cell_type": "markdown",
   "id": "57299790",
   "metadata": {},
   "source": [
    "### Training 2"
   ]
  },
  {
   "cell_type": "code",
   "execution_count": 17,
   "id": "fe545671",
   "metadata": {},
   "outputs": [
    {
     "name": "stdout",
     "output_type": "stream",
     "text": [
      "True\n"
     ]
    }
   ],
   "source": [
    "both_conditions = False\n",
    "\n",
    "if int_dep_populations[0] > 600000:\n",
    "    if int_dep_populations[1] > 300000:\n",
    "        both_conditions = True \n",
    "        \n",
    "print(both_conditions)"
   ]
  },
  {
   "cell_type": "markdown",
   "id": "0f489b00",
   "metadata": {},
   "source": [
    "## IF condition and FOR loop"
   ]
  },
  {
   "cell_type": "code",
   "execution_count": 18,
   "id": "af4c5a60",
   "metadata": {},
   "outputs": [
    {
     "name": "stdout",
     "output_type": "stream",
     "text": [
      "Paris is in the list of departments!\n"
     ]
    }
   ],
   "source": [
    "# Example 1\n",
    "found = False\n",
    "\n",
    "for dep in departments:\n",
    "    if dep == \"Paris\":\n",
    "        found = True\n",
    "\n",
    "if found:\n",
    "    print(\"Paris is in the list of departments!\")"
   ]
  },
  {
   "cell_type": "code",
   "execution_count": 19,
   "id": "c0c29c31",
   "metadata": {},
   "outputs": [
    {
     "name": "stdout",
     "output_type": "stream",
     "text": [
      "75\n",
      "100\n"
     ]
    }
   ],
   "source": [
    "# Example 2\n",
    "counter = 0\n",
    "index = 0\n",
    "\n",
    "for dep in departments:\n",
    "    if dep == \"Paris\":\n",
    "        index = counter\n",
    "    counter += 1\n",
    "    \n",
    "print(index)\n",
    "print(counter)"
   ]
  },
  {
   "cell_type": "markdown",
   "id": "d8b5169a",
   "metadata": {},
   "source": [
    "### Training"
   ]
  },
  {
   "cell_type": "code",
   "execution_count": 20,
   "id": "18635f89",
   "metadata": {},
   "outputs": [
    {
     "name": "stdout",
     "output_type": "stream",
     "text": [
      "[1098785, 1131812, 2035475, 1286908, 1556663, 1344579, 1617484, 1127333, 1060051, 1271938, 1382766, 1065894, 2640622, 2243739, 1497668, 1833002, 1400477, 1284107, 1582139, 1377511, 1221946, 1055745, 1449398]\n"
     ]
    }
   ],
   "source": [
    "million_list = []\n",
    "\n",
    "for pop in int_dep_populations:\n",
    "    if pop > 1000000:\n",
    "        million_list.append(pop)\n",
    "        \n",
    "print(million_list)"
   ]
  },
  {
   "cell_type": "markdown",
   "id": "3e7a427e",
   "metadata": {},
   "source": [
    "## Challenge"
   ]
  },
  {
   "cell_type": "markdown",
   "id": "849a399e",
   "metadata": {},
   "source": [
    "Statement 1:\n",
    "\n",
    "* Read the file 'unisex_names.csv\n",
    "* Assign this string to the variable names\n",
    "* Convert names to a list (split() method)\n",
    "* Assign the result to the variable name_list\n",
    "* Display the first 10 elements"
   ]
  },
  {
   "cell_type": "code",
   "execution_count": 21,
   "id": "0a0f3834",
   "metadata": {},
   "outputs": [
    {
     "name": "stdout",
     "output_type": "stream",
     "text": [
      "['Casey,176544.328149', 'Riley,154860.665173', 'Jessie,136381.830656', 'Jackie,132928.78874', 'Avery,121797.419516', 'Jaime,109870.18729', 'Peyton,94896.395216', 'Kerry,88963.92625', 'Jody,80400.519199', 'Kendall,79210.873961']\n"
     ]
    }
   ],
   "source": [
    "f = open(\"unisex_names.csv\", \"r\")\n",
    "names = f.read()\n",
    "names_list = names.split('\\n')\n",
    "print(names_list[0:10])"
   ]
  },
  {
   "cell_type": "markdown",
   "id": "b92e6509",
   "metadata": {},
   "source": [
    "Statement 2:\n",
    "\n",
    "* Create an empty list names_data\n",
    "* Write a loop that conveys our list into a list of lists"
   ]
  },
  {
   "cell_type": "code",
   "execution_count": 22,
   "id": "314cd1fe",
   "metadata": {},
   "outputs": [
    {
     "name": "stdout",
     "output_type": "stream",
     "text": [
      "[['Casey', '176544.328149'], ['Riley', '154860.665173'], ['Jessie', '136381.830656'], ['Jackie', '132928.78874'], ['Avery', '121797.419516']]\n"
     ]
    }
   ],
   "source": [
    "names_data = []\n",
    "\n",
    "for name in names_list:\n",
    "    comma_list = name.split(',')\n",
    "    names_data.append(comma_list)\n",
    "    \n",
    "print(names_data[0:5])"
   ]
  },
  {
   "cell_type": "markdown",
   "id": "eba26e93",
   "metadata": {},
   "source": [
    "Statement 3:\n",
    "\n",
    "* Create a new numerical_list\n",
    "* Write a loop that converts 'numbers' to decimal numbers"
   ]
  },
  {
   "cell_type": "code",
   "execution_count": 23,
   "id": "ac00abaa",
   "metadata": {},
   "outputs": [
    {
     "name": "stdout",
     "output_type": "stream",
     "text": [
      "[['Casey', 176544.328149], ['Riley', 154860.665173], ['Jessie', 136381.830656], ['Jackie', 132928.78874], ['Avery', 121797.419516]]\n"
     ]
    }
   ],
   "source": [
    "numerical_list = []\n",
    "\n",
    "for row in names_data:\n",
    "    name = row[0]\n",
    "    decimal_numbers = float(row[1])\n",
    "    new_list = [name, decimal_numbers]\n",
    "    numerical_list.append(new_list)\n",
    "\n",
    "print(numerical_list[0:5])"
   ]
  },
  {
   "cell_type": "markdown",
   "id": "4d9a08d3",
   "metadata": {},
   "source": [
    "Statement 4:\n",
    "\n",
    "* Create an empty list final_list\n",
    "* Write a loop that keeps only the names shared by at least 1000 people\n",
    "* Display the first 10 elements of final_list"
   ]
  },
  {
   "cell_type": "code",
   "execution_count": 24,
   "id": "bc12a069",
   "metadata": {},
   "outputs": [
    {
     "name": "stdout",
     "output_type": "stream",
     "text": [
      "[['Casey', 176544.328149], ['Riley', 154860.665173], ['Jessie', 136381.830656], ['Jackie', 132928.78874], ['Avery', 121797.419516], ['Jaime', 109870.18729], ['Peyton', 94896.395216], ['Kerry', 88963.92625], ['Jody', 80400.519199], ['Kendall', 79210.873961]]\n"
     ]
    }
   ],
   "source": [
    "final_list = []\n",
    "\n",
    "for row in numerical_list:\n",
    "    name = row[0]\n",
    "    number = row[1]\n",
    "    if number >= 1000:\n",
    "        final_list.append([name, number])\n",
    "        \n",
    "print(final_list[0:10])"
   ]
  }
 ],
 "metadata": {
  "kernelspec": {
   "display_name": "Python 3 (ipykernel)",
   "language": "python",
   "name": "python3"
  },
  "language_info": {
   "codemirror_mode": {
    "name": "ipython",
    "version": 3
   },
   "file_extension": ".py",
   "mimetype": "text/x-python",
   "name": "python",
   "nbconvert_exporter": "python",
   "pygments_lexer": "ipython3",
   "version": "3.9.7"
  }
 },
 "nbformat": 4,
 "nbformat_minor": 5
}
