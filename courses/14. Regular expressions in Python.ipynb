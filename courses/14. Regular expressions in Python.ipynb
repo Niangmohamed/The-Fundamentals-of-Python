{
 "cells": [
  {
   "cell_type": "markdown",
   "id": "669c66d0",
   "metadata": {},
   "source": [
    "# Python: Regular expressions (Regex)"
   ]
  },
  {
   "cell_type": "markdown",
   "id": "d8cff973",
   "metadata": {},
   "source": [
    "## Introduction"
   ]
  },
  {
   "cell_type": "markdown",
   "id": "8efad019",
   "metadata": {},
   "source": [
    "**Regex** are sequences of characters that describe searched elements. They are widely used in data science to **extract and search information from data**."
   ]
  },
  {
   "cell_type": "code",
   "execution_count": 1,
   "id": "b91200b7",
   "metadata": {},
   "outputs": [],
   "source": [
    "# Example\n",
    "ai = [\"data science\", \"big data\", \"statistics\", \"computer science\"]\n",
    "regex = \"data\"\n",
    "ai_after_regex = [\"data science\", \"big data\"]"
   ]
  },
  {
   "cell_type": "markdown",
   "id": "eea1ae30",
   "metadata": {},
   "source": [
    "## Generic characters"
   ]
  },
  {
   "cell_type": "markdown",
   "id": "5084e1d1",
   "metadata": {},
   "source": [
    "One of the most important generic characters in regex is the **dot(.)**. It allows to take any element in the regex."
   ]
  },
  {
   "cell_type": "code",
   "execution_count": 2,
   "id": "8ea999d2",
   "metadata": {},
   "outputs": [],
   "source": [
    "# Example\n",
    "strings = [\"but\", \"bat\", \"robotics\"]\n",
    "strings_regex = \"b.t\" # the matching regex"
   ]
  },
  {
   "cell_type": "markdown",
   "id": "1697e1ef",
   "metadata": {},
   "source": [
    "## Find the beginning and the end of a string"
   ]
  },
  {
   "cell_type": "markdown",
   "id": "3af4cfab",
   "metadata": {},
   "source": [
    "There are two symbols that allow you to search for the beginning and the end of a character string. These are the **symbol (^) for the beginning** of a string and the **symbol ($) for the end** of a string."
   ]
  },
  {
   "cell_type": "code",
   "execution_count": 3,
   "id": "95d03d20",
   "metadata": {},
   "outputs": [],
   "source": [
    "# Example\n",
    "strings = [\"he throws his bat\", \"robot\"]\n",
    "bad_string = \"it is good but not generous\"\n",
    "regex_for_strings = \"b.t$\""
   ]
  },
  {
   "cell_type": "markdown",
   "id": "27cd23eb",
   "metadata": {},
   "source": [
    "## Dataset"
   ]
  },
  {
   "cell_type": "code",
   "execution_count": 4,
   "id": "477e102e",
   "metadata": {},
   "outputs": [],
   "source": [
    "import csv\n",
    "\n",
    "posts = list(csv.reader(open(\"askreddit_2015.csv\", encoding=\"utf-8\")))"
   ]
  },
  {
   "cell_type": "code",
   "execution_count": 5,
   "id": "17fed8dc",
   "metadata": {},
   "outputs": [
    {
     "name": "stdout",
     "output_type": "stream",
     "text": [
      "[['Title', 'Score', 'Time', 'Gold', 'NumComs'], ['What\\'s your internet \"white whale\", something you\\'ve been searching for years to find with no luck?', '11510', '1433213314.0', '1', '26195'], [\"What's your favorite video that is 10 seconds or less?\", '8656', '1434205517.0', '4', '8479'], ['What are some interesting tests you can take to find out about yourself?', '8480', '1443409636.0', '1', '4055'], [\"PhD's of Reddit. What is a dumbed down summary of your thesis?\", '7927', '1440188623.0', '0', '13201']]\n"
     ]
    }
   ],
   "source": [
    "print(posts[0:5])"
   ]
  },
  {
   "cell_type": "code",
   "execution_count": 6,
   "id": "02dbb70d",
   "metadata": {},
   "outputs": [
    {
     "name": "stdout",
     "output_type": "stream",
     "text": [
      "['What\\'s your internet \"white whale\", something you\\'ve been searching for years to find with no luck?', '11510', '1433213314.0', '1', '26195']\n",
      "[\"What's your favorite video that is 10 seconds or less?\", '8656', '1434205517.0', '4', '8479']\n",
      "['What are some interesting tests you can take to find out about yourself?', '8480', '1443409636.0', '1', '4055']\n",
      "[\"PhD's of Reddit. What is a dumbed down summary of your thesis?\", '7927', '1440188623.0', '0', '13201']\n",
      "['What is cool to be good at, yet uncool to be REALLY good at?', '7711', '1440082910.0', '0', '20325']\n",
      "['[Serious] Redditors currently in a relationship, besides dinner and a movie, what are your favorite activities for date night?', '7598', '1439993280.0', '2', '5389']\n",
      "[\"Parents of Reddit, what's something that your kid has done that you pretended to be angry about but secretly impressed or amused you?\", '7553', '1439161809.0', '0', '11520']\n",
      "['What is a good subreddit to binge read the All Time Top Posts of?', '7498', '1438822288.0', '0', '2780']\n",
      "['What would the person who named Walkie Talkies have named other items?', '7501', '1447904351.0', '4', '6720']\n",
      "[\"People who grew up in a different socioeconomic class as your significant others, what are the notable differences you've noticed and how does it affect your relationship (if at all)?\", '7419', '1440358069.0', '0', '8603']\n"
     ]
    }
   ],
   "source": [
    "posts = posts[1:]\n",
    "\n",
    "for post in posts[:10]:\n",
    "    print(post)"
   ]
  },
  {
   "cell_type": "markdown",
   "id": "a2d08218",
   "metadata": {},
   "source": [
    "## Counting matches with the re module"
   ]
  },
  {
   "cell_type": "markdown",
   "id": "64c8ecbe",
   "metadata": {},
   "source": [
    "In this section, we will discuss the **re** module. A useful method of this module is the **search()** function. It allows to check if there is a **match between a string and a regex**."
   ]
  },
  {
   "cell_type": "code",
   "execution_count": 7,
   "id": "dd85963e",
   "metadata": {},
   "outputs": [],
   "source": [
    "import re"
   ]
  },
  {
   "cell_type": "code",
   "execution_count": 8,
   "id": "22bf4658",
   "metadata": {},
   "outputs": [
    {
     "name": "stdout",
     "output_type": "stream",
     "text": [
      "Match not found!\n"
     ]
    }
   ],
   "source": [
    "# Example 1\n",
    "\n",
    "if re.search(\"artificial intelligence\", \"big data\") is not None:\n",
    "    print(\"Match found!\")\n",
    "else:\n",
    "    print(\"Match not found!\")"
   ]
  },
  {
   "cell_type": "code",
   "execution_count": 9,
   "id": "40eeb69c",
   "metadata": {},
   "outputs": [
    {
     "name": "stdout",
     "output_type": "stream",
     "text": [
      "Match found!\n"
     ]
    }
   ],
   "source": [
    "# Example 2\n",
    "\n",
    "if re.search(\"b.\", \"big data\") is not None:\n",
    "    print(\"Match found!\")\n",
    "else:\n",
    "    print(\"Match not found!\")"
   ]
  },
  {
   "cell_type": "markdown",
   "id": "b69bff59",
   "metadata": {},
   "source": [
    "### Training"
   ]
  },
  {
   "cell_type": "markdown",
   "id": "645d1168",
   "metadata": {},
   "source": [
    "Let's count the number of posts that contain the matcher \"of Reddit\" in the titles."
   ]
  },
  {
   "cell_type": "code",
   "execution_count": 10,
   "id": "77b147f3",
   "metadata": {},
   "outputs": [],
   "source": [
    "of_reddit_count = 0\n",
    "\n",
    "for row in posts:\n",
    "    if re.search(\"of Reddit\", row[0]) is not None:\n",
    "        of_reddit_count += 1"
   ]
  },
  {
   "cell_type": "code",
   "execution_count": 11,
   "id": "4978f907",
   "metadata": {},
   "outputs": [
    {
     "name": "stdout",
     "output_type": "stream",
     "text": [
      "76\n"
     ]
    }
   ],
   "source": [
    "print(of_reddit_count)"
   ]
  },
  {
   "cell_type": "markdown",
   "id": "83518e58",
   "metadata": {},
   "source": [
    "## Hooks to match several letters"
   ]
  },
  {
   "cell_type": "markdown",
   "id": "6653ff7d",
   "metadata": {},
   "source": [
    "To match several characters, we use the brackets **\\[ \\]**."
   ]
  },
  {
   "cell_type": "markdown",
   "id": "d13e4d31",
   "metadata": {},
   "source": [
    "### Training"
   ]
  },
  {
   "cell_type": "markdown",
   "id": "964b9ac4",
   "metadata": {},
   "source": [
    "Let's count the number of posts that contain the matchers \"of Reddit\" and \"of reddit\" in the titles."
   ]
  },
  {
   "cell_type": "code",
   "execution_count": 12,
   "id": "43a865b1",
   "metadata": {},
   "outputs": [],
   "source": [
    "of_reddit_count = 0\n",
    "\n",
    "for row in posts:\n",
    "    if re.search(\"of [Rr]eddit\", row[0]) is not None:\n",
    "        of_reddit_count += 1"
   ]
  },
  {
   "cell_type": "code",
   "execution_count": 13,
   "id": "203bb2d9",
   "metadata": {},
   "outputs": [
    {
     "name": "stdout",
     "output_type": "stream",
     "text": [
      "102\n"
     ]
    }
   ],
   "source": [
    "print(of_reddit_count)"
   ]
  },
  {
   "cell_type": "markdown",
   "id": "f2e4c11a",
   "metadata": {},
   "source": [
    "## Ignore special characters"
   ]
  },
  {
   "cell_type": "markdown",
   "id": "4dbe42d6",
   "metadata": {},
   "source": [
    "To ignore special characters, use the **\\** character."
   ]
  },
  {
   "cell_type": "markdown",
   "id": "51637711",
   "metadata": {},
   "source": [
    "### Training"
   ]
  },
  {
   "cell_type": "markdown",
   "id": "556915fa",
   "metadata": {},
   "source": [
    "Let's count the number of posts whose title contains the tag [Serious]."
   ]
  },
  {
   "cell_type": "code",
   "execution_count": 14,
   "id": "0da670b5",
   "metadata": {},
   "outputs": [],
   "source": [
    "serious_count = 0\n",
    "\n",
    "for row in posts:\n",
    "    if re.search(\"\\[Serious\\]\", row[0]) is not None:\n",
    "        serious_count += 1"
   ]
  },
  {
   "cell_type": "code",
   "execution_count": 15,
   "id": "60b540e7",
   "metadata": {},
   "outputs": [
    {
     "name": "stdout",
     "output_type": "stream",
     "text": [
      "69\n"
     ]
    }
   ],
   "source": [
    "print(serious_count)"
   ]
  },
  {
   "cell_type": "markdown",
   "id": "1a858119",
   "metadata": {},
   "source": [
    "## Improve our regex"
   ]
  },
  {
   "cell_type": "markdown",
   "id": "5e3b69d6",
   "metadata": {},
   "source": [
    "### Training"
   ]
  },
  {
   "cell_type": "markdown",
   "id": "37127952",
   "metadata": {},
   "source": [
    "Let's go count the posts with the following tags in the title: (Serious) - (serious) - [Serious] - [serious]."
   ]
  },
  {
   "cell_type": "code",
   "execution_count": 16,
   "id": "1d9be074",
   "metadata": {},
   "outputs": [],
   "source": [
    "serious_count = 0\n",
    "\n",
    "for row in posts:\n",
    "    if re.search(\"[\\[\\(][Ss]erious[\\)\\]]\", row[0]) is not None:\n",
    "        serious_count += 1"
   ]
  },
  {
   "cell_type": "code",
   "execution_count": 17,
   "id": "df10cd49",
   "metadata": {},
   "outputs": [
    {
     "name": "stdout",
     "output_type": "stream",
     "text": [
      "80\n"
     ]
    }
   ],
   "source": [
    "print(serious_count)"
   ]
  },
  {
   "cell_type": "markdown",
   "id": "44e48c56",
   "metadata": {},
   "source": [
    "## Combine multiple regex"
   ]
  },
  {
   "cell_type": "markdown",
   "id": "e80bdf98",
   "metadata": {},
   "source": [
    "To combine several regex, we use the **|** character."
   ]
  },
  {
   "cell_type": "markdown",
   "id": "39cb5c1c",
   "metadata": {},
   "source": [
    "### Training"
   ]
  },
  {
   "cell_type": "markdown",
   "id": "781f0e52",
   "metadata": {},
   "source": [
    "Let's go count for all the posts, all the tags that are at the beginning, at the end and both at the same time."
   ]
  },
  {
   "cell_type": "code",
   "execution_count": 18,
   "id": "b7907815",
   "metadata": {},
   "outputs": [],
   "source": [
    "serious_start_count = 0\n",
    "serious_end_count = 0\n",
    "serious_final_count = 0\n",
    "\n",
    "for row in posts:\n",
    "    if re.search(\"^[\\[\\(][Ss]erious[\\)\\]]\", row[0]) is not None:\n",
    "        serious_start_count += 1\n",
    "    if re.search(\"[\\[\\(][Ss]erious[\\)\\]]$\", row[0]) is not None:\n",
    "        serious_end_count += 1\n",
    "    if re.search(\"^[\\[\\(][Ss]erious[\\)\\]]|[\\[\\(][Ss]erious[\\)\\]]$\", row[0]) is not None:\n",
    "        serious_final_count += 1"
   ]
  },
  {
   "cell_type": "code",
   "execution_count": 19,
   "id": "b6468254",
   "metadata": {},
   "outputs": [
    {
     "name": "stdout",
     "output_type": "stream",
     "text": [
      "69\n",
      "11\n",
      "80\n"
     ]
    }
   ],
   "source": [
    "print(serious_start_count)\n",
    "print(serious_end_count)\n",
    "print(serious_final_count)"
   ]
  },
  {
   "cell_type": "markdown",
   "id": "18e3f0ba",
   "metadata": {},
   "source": [
    "## Editing strings with regex"
   ]
  },
  {
   "cell_type": "markdown",
   "id": "e93b46ac",
   "metadata": {},
   "source": [
    "The approach that allows to modify one element by another is the **sub()** method of the **re** module."
   ]
  },
  {
   "cell_type": "code",
   "execution_count": 20,
   "id": "6b4de3db",
   "metadata": {},
   "outputs": [
    {
     "data": {
      "text/plain": [
       "'hi world!'"
      ]
     },
     "execution_count": 20,
     "metadata": {},
     "output_type": "execute_result"
    }
   ],
   "source": [
    "# Example 1\n",
    "re.sub(\"hello\", \"hi\", \"hello world!\") "
   ]
  },
  {
   "cell_type": "code",
   "execution_count": 21,
   "id": "6ac2c6cf",
   "metadata": {},
   "outputs": [
    {
     "data": {
      "text/plain": [
       "'hello world!'"
      ]
     },
     "execution_count": 21,
     "metadata": {},
     "output_type": "execute_result"
    }
   ],
   "source": [
    "# Example 2\n",
    "re.sub(\"hey\", \"hi\", \"hello world!\")"
   ]
  },
  {
   "cell_type": "markdown",
   "id": "80fc4b99",
   "metadata": {},
   "source": [
    "### Training"
   ]
  },
  {
   "cell_type": "code",
   "execution_count": 22,
   "id": "8c9f30c0",
   "metadata": {},
   "outputs": [],
   "source": [
    "posts_new = []\n",
    "\n",
    "for row in posts:\n",
    "    row[0] = re.sub(\"[\\[\\(][Ss]erious[\\)\\]]\", \"[Serious]\", row[0])\n",
    "    posts_new.append(row)"
   ]
  },
  {
   "cell_type": "code",
   "execution_count": 23,
   "id": "95c5a0b5",
   "metadata": {},
   "outputs": [
    {
     "name": "stdout",
     "output_type": "stream",
     "text": [
      "[['What\\'s your internet \"white whale\", something you\\'ve been searching for years to find with no luck?', '11510', '1433213314.0', '1', '26195'], [\"What's your favorite video that is 10 seconds or less?\", '8656', '1434205517.0', '4', '8479'], ['What are some interesting tests you can take to find out about yourself?', '8480', '1443409636.0', '1', '4055'], [\"PhD's of Reddit. What is a dumbed down summary of your thesis?\", '7927', '1440188623.0', '0', '13201'], ['What is cool to be good at, yet uncool to be REALLY good at?', '7711', '1440082910.0', '0', '20325'], ['[Serious] Redditors currently in a relationship, besides dinner and a movie, what are your favorite activities for date night?', '7598', '1439993280.0', '2', '5389'], [\"Parents of Reddit, what's something that your kid has done that you pretended to be angry about but secretly impressed or amused you?\", '7553', '1439161809.0', '0', '11520'], ['What is a good subreddit to binge read the All Time Top Posts of?', '7498', '1438822288.0', '0', '2780'], ['What would the person who named Walkie Talkies have named other items?', '7501', '1447904351.0', '4', '6720'], [\"People who grew up in a different socioeconomic class as your significant others, what are the notable differences you've noticed and how does it affect your relationship (if at all)?\", '7419', '1440358069.0', '0', '8603']]\n"
     ]
    }
   ],
   "source": [
    "print(posts_new[0:10])"
   ]
  },
  {
   "cell_type": "markdown",
   "id": "f1b2fb86",
   "metadata": {},
   "source": [
    "## Matching years with regex"
   ]
  },
  {
   "cell_type": "markdown",
   "id": "b4b28e41",
   "metadata": {},
   "source": [
    "To match numbers and alphabetical letters, the following regexes are used respectively: **[0-9]** and **[a-z]** or **[A-Z]** for capital letters."
   ]
  },
  {
   "cell_type": "code",
   "execution_count": 24,
   "id": "7c4c3798",
   "metadata": {},
   "outputs": [],
   "source": [
    "# Example\n",
    "strings = ['he throws his bat in 1995', 'robot']\n",
    "year_string = []\n",
    "\n",
    "for string in strings:\n",
    "    if re.search(\"[1-2][0-9]{3}\", string) is not None: # [1-2][0-9]{3} <==> [1-2][0-9][0-9][0-9]\n",
    "        year_string.append(string)"
   ]
  },
  {
   "cell_type": "code",
   "execution_count": 25,
   "id": "2c6993bf",
   "metadata": {},
   "outputs": [
    {
     "data": {
      "text/plain": [
       "['he throws his bat in 1995']"
      ]
     },
     "execution_count": 25,
     "metadata": {},
     "output_type": "execute_result"
    }
   ],
   "source": [
    "year_string"
   ]
  },
  {
   "cell_type": "markdown",
   "id": "1f1fdbc9",
   "metadata": {},
   "source": [
    "## Extract all years"
   ]
  },
  {
   "cell_type": "markdown",
   "id": "89c0706d",
   "metadata": {},
   "source": [
    "To extract characters, it is also possible to use the **findall()** method of the **re** module."
   ]
  },
  {
   "cell_type": "code",
   "execution_count": 26,
   "id": "d1b8edea",
   "metadata": {},
   "outputs": [
    {
     "data": {
      "text/plain": [
       "['a', 'b', 'c', 'd']"
      ]
     },
     "execution_count": 26,
     "metadata": {},
     "output_type": "execute_result"
    }
   ],
   "source": [
    "# Example 1\n",
    "re.findall(\"[a-z]\", \"abcd1234\")"
   ]
  },
  {
   "cell_type": "code",
   "execution_count": 27,
   "id": "78f126dc",
   "metadata": {},
   "outputs": [
    {
     "data": {
      "text/plain": [
       "['2022', '2021', '2023']"
      ]
     },
     "execution_count": 27,
     "metadata": {},
     "output_type": "execute_result"
    }
   ],
   "source": [
    "# Example 2\n",
    "years_string = \"We are already in 2022, one year more than 2021 and less than 2023!\"\n",
    "years = re.findall(\"[2][0-9][0-9][0-9]\", years_string)\n",
    "years"
   ]
  }
 ],
 "metadata": {
  "kernelspec": {
   "display_name": "Python 3 (ipykernel)",
   "language": "python",
   "name": "python3"
  },
  "language_info": {
   "codemirror_mode": {
    "name": "ipython",
    "version": 3
   },
   "file_extension": ".py",
   "mimetype": "text/x-python",
   "name": "python",
   "nbconvert_exporter": "python",
   "pygments_lexer": "ipython3",
   "version": "3.9.7"
  }
 },
 "nbformat": 4,
 "nbformat_minor": 5
}
