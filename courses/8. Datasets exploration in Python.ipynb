{
 "cells": [
  {
   "cell_type": "markdown",
   "id": "7da0905e",
   "metadata": {},
   "source": [
    "# Project: Explore US births since 2000"
   ]
  },
  {
   "cell_type": "markdown",
   "id": "271772e9",
   "metadata": {},
   "source": [
    "## Introduction to dataset"
   ]
  },
  {
   "cell_type": "code",
   "execution_count": 1,
   "id": "91df092e",
   "metadata": {},
   "outputs": [
    {
     "name": "stdout",
     "output_type": "stream",
     "text": [
      "['year,month,date_of_month,day_of_week,births', '2000,1,1,6,9083', '2000,1,2,7,8006', '2000,1,3,1,11363', '2000,1,4,2,13032', '2000,1,5,3,12558', '2000,1,6,4,12466', '2000,1,7,5,12516', '2000,1,8,6,8934', '2000,1,9,7,7949']\n"
     ]
    }
   ],
   "source": [
    "f = open(\"US_births_2000-2014.csv\", \"r\")\n",
    "us_births = f.read()\n",
    "births_split = us_births.split('\\n')\n",
    "print(births_split[0:10])"
   ]
  },
  {
   "cell_type": "markdown",
   "id": "7e99450e",
   "metadata": {},
   "source": [
    "## Convert data to a list of lists"
   ]
  },
  {
   "cell_type": "code",
   "execution_count": 2,
   "id": "4df75de3",
   "metadata": {},
   "outputs": [],
   "source": [
    "def read_csv(file):\n",
    "    \n",
    "    f = open(file, \"r\")\n",
    "    string = f.read()\n",
    "    string_list = string.split('\\n')\n",
    "    string_list = string_list[1:]\n",
    "    \n",
    "    final_list = []\n",
    "    \n",
    "    for row in string_list:\n",
    "        int_fields = []\n",
    "        string_fields = row.split(',')\n",
    "        for row in string_fields:\n",
    "            int_fields.append(int(row))\n",
    "        final_list.append(int_fields)\n",
    "        \n",
    "    return final_list"
   ]
  },
  {
   "cell_type": "code",
   "execution_count": 3,
   "id": "46ffe79d",
   "metadata": {},
   "outputs": [
    {
     "name": "stdout",
     "output_type": "stream",
     "text": [
      "[[2000, 1, 1, 6, 9083], [2000, 1, 2, 7, 8006], [2000, 1, 3, 1, 11363], [2000, 1, 4, 2, 13032], [2000, 1, 5, 3, 12558], [2000, 1, 6, 4, 12466], [2000, 1, 7, 5, 12516], [2000, 1, 8, 6, 8934], [2000, 1, 9, 7, 7949], [2000, 1, 10, 1, 11668]]\n"
     ]
    }
   ],
   "source": [
    "us_births_list = read_csv(\"US_births_2000-2014.csv\")\n",
    "print(us_births_list[0:10])"
   ]
  },
  {
   "cell_type": "markdown",
   "id": "cf455f59",
   "metadata": {},
   "source": [
    "## Calculate the number of births per month"
   ]
  },
  {
   "cell_type": "code",
   "execution_count": 4,
   "id": "f0cc2c25",
   "metadata": {},
   "outputs": [],
   "source": [
    "def month_birth(list):\n",
    "    \n",
    "    births_per_month = {}\n",
    "    \n",
    "    for item in list:\n",
    "        month = item[1]\n",
    "        births = item[4]\n",
    "        \n",
    "        if month in births_per_month:\n",
    "            births_per_month[month] += births\n",
    "        else:\n",
    "            births_per_month[month] = births\n",
    "            \n",
    "    return births_per_month"
   ]
  },
  {
   "cell_type": "code",
   "execution_count": 5,
   "id": "25f22fb4",
   "metadata": {},
   "outputs": [
    {
     "name": "stdout",
     "output_type": "stream",
     "text": [
      "{1: 5072588, 2: 4725693, 3: 5172961, 4: 4960750, 5: 5195445, 6: 5163360, 7: 5450418, 8: 5540170, 9: 5399592, 10: 5302865, 11: 5008750, 12: 5194432}\n"
     ]
    }
   ],
   "source": [
    "us_month_births = month_birth(us_births_list)\n",
    "print(us_month_births)"
   ]
  },
  {
   "cell_type": "markdown",
   "id": "4865f538",
   "metadata": {},
   "source": [
    "## Calculate the number of births each day of the week"
   ]
  },
  {
   "cell_type": "code",
   "execution_count": 6,
   "id": "ca05bfd3",
   "metadata": {},
   "outputs": [],
   "source": [
    "def day_birth(list):\n",
    "    \n",
    "    births_per_day = {}\n",
    "    \n",
    "    for item in list:\n",
    "        day = item[3]\n",
    "        births = item[4]\n",
    "        \n",
    "        if day in births_per_day:\n",
    "            births_per_day[day] += births\n",
    "        else:\n",
    "            births_per_day[day] = births\n",
    "            \n",
    "    return births_per_day"
   ]
  },
  {
   "cell_type": "code",
   "execution_count": 7,
   "id": "48163709",
   "metadata": {},
   "outputs": [
    {
     "name": "stdout",
     "output_type": "stream",
     "text": [
      "{6: 6704495, 7: 5886889, 1: 9316001, 2: 10274874, 3: 10109130, 4: 10045436, 5: 9850199}\n"
     ]
    }
   ],
   "source": [
    "us_days_births = day_birth(us_births_list)\n",
    "print(us_days_births)"
   ]
  },
  {
   "cell_type": "markdown",
   "id": "428bb0a7",
   "metadata": {},
   "source": [
    "## Create a more general function"
   ]
  },
  {
   "cell_type": "code",
   "execution_count": 8,
   "id": "0d9a7100",
   "metadata": {},
   "outputs": [],
   "source": [
    "def general_counts(list, column):\n",
    "    \n",
    "    births_per_column = {}\n",
    "    \n",
    "    for item in list:\n",
    "        key = item[column]\n",
    "        births = item[4]\n",
    "        \n",
    "        if key in births_per_column:\n",
    "            births_per_column[key] += births\n",
    "        else:\n",
    "            births_per_column[key] = births\n",
    "            \n",
    "    return births_per_column"
   ]
  },
  {
   "cell_type": "code",
   "execution_count": 9,
   "id": "a89a1c29",
   "metadata": {},
   "outputs": [
    {
     "name": "stdout",
     "output_type": "stream",
     "text": [
      "{2000: 4149598, 2001: 4110963, 2002: 4099313, 2003: 4163060, 2004: 4186863, 2005: 4211941, 2006: 4335154, 2007: 4380784, 2008: 4310737, 2009: 4190991, 2010: 4055975, 2011: 4006908, 2012: 4000868, 2013: 3973337, 2014: 4010532}\n"
     ]
    }
   ],
   "source": [
    "us_years_births = general_counts(us_births_list, 0)\n",
    "print(us_years_births)"
   ]
  }
 ],
 "metadata": {
  "kernelspec": {
   "display_name": "Python 3 (ipykernel)",
   "language": "python",
   "name": "python3"
  },
  "language_info": {
   "codemirror_mode": {
    "name": "ipython",
    "version": 3
   },
   "file_extension": ".py",
   "mimetype": "text/x-python",
   "name": "python",
   "nbconvert_exporter": "python",
   "pygments_lexer": "ipython3",
   "version": "3.9.7"
  }
 },
 "nbformat": 4,
 "nbformat_minor": 5
}
