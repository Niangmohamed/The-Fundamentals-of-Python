{
 "cells": [
  {
   "cell_type": "markdown",
   "id": "42edfe30",
   "metadata": {},
   "source": [
    "# Python: Introduction to OOP"
   ]
  },
  {
   "cell_type": "markdown",
   "id": "bf38d09f",
   "metadata": {},
   "source": [
    "**Goal**: understand the basics concepts of object-oriented programming in Python!"
   ]
  },
  {
   "cell_type": "markdown",
   "id": "154d7866",
   "metadata": {
    "toc": true
   },
   "source": [
    "<h1>Table of Contents<span class=\"tocSkip\"></span></h1>\n",
    "<div class=\"toc\"><ul class=\"toc-item\"><li><span><a href=\"#Class-definition\" data-toc-modified-id=\"Class-definition-1\"><span class=\"toc-item-num\">1&nbsp;&nbsp;</span>Class definition</a></span></li><li><span><a href=\"#Encapsulation-principle\" data-toc-modified-id=\"Encapsulation-principle-2\"><span class=\"toc-item-num\">2&nbsp;&nbsp;</span>Encapsulation principle</a></span></li><li><span><a href=\"#Inheritance-principle\" data-toc-modified-id=\"Inheritance-principle-3\"><span class=\"toc-item-num\">3&nbsp;&nbsp;</span>Inheritance principle</a></span></li><li><span><a href=\"#Polymorphism-principle\" data-toc-modified-id=\"Polymorphism-principle-4\"><span class=\"toc-item-num\">4&nbsp;&nbsp;</span>Polymorphism principle</a></span></li><li><span><a href=\"#Abstraction-principle\" data-toc-modified-id=\"Abstraction-principle-5\"><span class=\"toc-item-num\">5&nbsp;&nbsp;</span>Abstraction principle</a></span></li><li><span><a href=\"#Super-classes\" data-toc-modified-id=\"Super-classes-6\"><span class=\"toc-item-num\">6&nbsp;&nbsp;</span>Super classes</a></span></li></ul></div>"
   ]
  },
  {
   "cell_type": "markdown",
   "id": "7a1c5af2",
   "metadata": {},
   "source": [
    "## Class definition"
   ]
  },
  {
   "cell_type": "markdown",
   "id": "174f2754",
   "metadata": {},
   "source": [
    "``Object-oriented programming`` is the next step after ``procedural programming``. It does not represent a total revolution of the programming mode. It does, however, represent a better structuring of your software products. It allows you to gain in ``abstraction``, which implies a better ``modularity`` of your source codes, a better ``maintainability`` of your source codes and a better ``reuse`` of your codes (``inheritance`` concepts). In this course, we will focus on ``classes``."
   ]
  },
  {
   "cell_type": "markdown",
   "id": "7d6e2f64",
   "metadata": {},
   "source": [
    "Ins simple word, a ``class`` represents a data type. An ``object`` (also called instance) represents a data whose type is a class. An ``attribute`` is a part of the state of the class (for example the numerator or the denominator of a rational number). A ``method`` is almost a function that is invoked on an ``object`` (for example a simplification method on a rational number : 2/8 => ¼). A ``property`` is often a pair (although there may be only one) of access methods (read and write) to an ``attribute``."
   ]
  },
  {
   "cell_type": "markdown",
   "id": "9966c63f",
   "metadata": {},
   "source": [
    "In the following example, we will define a ``Rational`` class to simplify or make rational a fraction."
   ]
  },
  {
   "cell_type": "code",
   "execution_count": 1,
   "id": "9f46c4ec",
   "metadata": {},
   "outputs": [],
   "source": [
    "class Rational(object):\n",
    "    def __init__(self, num, den):\n",
    "        if den == 0:\n",
    "            raise ZeroDivisionError(\"The denominator cannot be null\")\n",
    "        self.numerator = num\n",
    "        self.denominator = den\n",
    "        self.simplify()\n",
    "\n",
    "    def simplify(self):\n",
    "        divisor = 2\n",
    "        while divisor <= min(self.numerator, self.denominator):\n",
    "            while self.numerator % divisor == 0 and self.denominator % divisor == 0:\n",
    "                self.numerator /= divisor\n",
    "                self.denominator /= divisor\n",
    "            divisor += 1\n",
    "\n",
    "    def __repr__(self):\n",
    "        return \"%d/%d\" % (self.numerator, self.denominator)"
   ]
  },
  {
   "cell_type": "markdown",
   "id": "56ea6254",
   "metadata": {},
   "source": [
    "The special method **\\_\\_init\\_\\_** represents the ``constructor`` of the class. A ``constructor`` is a ``special method`` that the program calls upon an object’s creation. The ``constructor`` is used in the class to initialize data members to the object. With our ``Rational`` class example, you can use a ``constructor`` to assign characteristics to each rational number object. The special method **\\_\\_init\\_\\_** is the Python ``constructor``. The **\\_\\_init\\_\\_** method is the Python equivalent of the **C++ constructor** in an object-oriented approach. The **\\_\\_init\\_\\_**  function is called every time an object is created from a class. The **\\_\\_init\\_\\_** method lets the class initialize the object’s attributes and serves no other purpose. It is only used within classes. "
   ]
  },
  {
   "cell_type": "markdown",
   "id": "3720c497",
   "metadata": {},
   "source": [
    "The **simplify()** function represents the transformation method to make a denominator rational. This is to make the fraction irreducible.And finally, the special method **\\_\\_repr__** is used to **display** the object of a class directly without using the **print()** function. Indeed, for the display with the **print()** function, the special method **\\_\\_str__** is used."
   ]
  },
  {
   "cell_type": "code",
   "execution_count": 2,
   "id": "5ab5022d",
   "metadata": {},
   "outputs": [
    {
     "ename": "ZeroDivisionError",
     "evalue": "The denominator cannot be null",
     "output_type": "error",
     "traceback": [
      "\u001b[1;31m---------------------------------------------------------------------------\u001b[0m",
      "\u001b[1;31mZeroDivisionError\u001b[0m                         Traceback (most recent call last)",
      "\u001b[1;32m~\\AppData\\Local\\Temp/ipykernel_404/2661717133.py\u001b[0m in \u001b[0;36m<module>\u001b[1;34m\u001b[0m\n\u001b[1;32m----> 1\u001b[1;33m \u001b[0mr\u001b[0m \u001b[1;33m=\u001b[0m \u001b[0mRational\u001b[0m\u001b[1;33m(\u001b[0m\u001b[1;36m2\u001b[0m\u001b[1;33m,\u001b[0m \u001b[1;36m0\u001b[0m\u001b[1;33m)\u001b[0m\u001b[1;33m\u001b[0m\u001b[1;33m\u001b[0m\u001b[0m\n\u001b[0m\u001b[0;32m      2\u001b[0m \u001b[0mr\u001b[0m\u001b[1;33m\u001b[0m\u001b[1;33m\u001b[0m\u001b[0m\n",
      "\u001b[1;32m~\\AppData\\Local\\Temp/ipykernel_404/1140889088.py\u001b[0m in \u001b[0;36m__init__\u001b[1;34m(self, num, den)\u001b[0m\n\u001b[0;32m      2\u001b[0m     \u001b[1;32mdef\u001b[0m \u001b[0m__init__\u001b[0m\u001b[1;33m(\u001b[0m\u001b[0mself\u001b[0m\u001b[1;33m,\u001b[0m \u001b[0mnum\u001b[0m\u001b[1;33m,\u001b[0m \u001b[0mden\u001b[0m\u001b[1;33m)\u001b[0m\u001b[1;33m:\u001b[0m\u001b[1;33m\u001b[0m\u001b[1;33m\u001b[0m\u001b[0m\n\u001b[0;32m      3\u001b[0m         \u001b[1;32mif\u001b[0m \u001b[0mden\u001b[0m \u001b[1;33m==\u001b[0m \u001b[1;36m0\u001b[0m\u001b[1;33m:\u001b[0m\u001b[1;33m\u001b[0m\u001b[1;33m\u001b[0m\u001b[0m\n\u001b[1;32m----> 4\u001b[1;33m             \u001b[1;32mraise\u001b[0m \u001b[0mZeroDivisionError\u001b[0m\u001b[1;33m(\u001b[0m\u001b[1;34m\"The denominator cannot be null\"\u001b[0m\u001b[1;33m)\u001b[0m\u001b[1;33m\u001b[0m\u001b[1;33m\u001b[0m\u001b[0m\n\u001b[0m\u001b[0;32m      5\u001b[0m         \u001b[0mself\u001b[0m\u001b[1;33m.\u001b[0m\u001b[0mnumerator\u001b[0m \u001b[1;33m=\u001b[0m \u001b[0mnum\u001b[0m\u001b[1;33m\u001b[0m\u001b[1;33m\u001b[0m\u001b[0m\n\u001b[0;32m      6\u001b[0m         \u001b[0mself\u001b[0m\u001b[1;33m.\u001b[0m\u001b[0mdenominator\u001b[0m \u001b[1;33m=\u001b[0m \u001b[0mden\u001b[0m\u001b[1;33m\u001b[0m\u001b[1;33m\u001b[0m\u001b[0m\n",
      "\u001b[1;31mZeroDivisionError\u001b[0m: The denominator cannot be null"
     ]
    }
   ],
   "source": [
    "r = Rational(2, 0)\n",
    "r"
   ]
  },
  {
   "cell_type": "code",
   "execution_count": 3,
   "id": "524ef151",
   "metadata": {},
   "outputs": [
    {
     "data": {
      "text/plain": [
       "1/2"
      ]
     },
     "execution_count": 3,
     "metadata": {},
     "output_type": "execute_result"
    }
   ],
   "source": [
    "r = Rational(4, 8)\n",
    "r"
   ]
  },
  {
   "cell_type": "code",
   "execution_count": 4,
   "id": "d314049f",
   "metadata": {},
   "outputs": [
    {
     "data": {
      "text/plain": [
       "(1.0, 2.0)"
      ]
     },
     "execution_count": 4,
     "metadata": {},
     "output_type": "execute_result"
    }
   ],
   "source": [
    "r.numerator, r.denominator"
   ]
  },
  {
   "cell_type": "code",
   "execution_count": 5,
   "id": "354c6dbc",
   "metadata": {},
   "outputs": [
    {
     "data": {
      "text/plain": [
       "1/0"
      ]
     },
     "execution_count": 5,
     "metadata": {},
     "output_type": "execute_result"
    }
   ],
   "source": [
    "r = Rational(2, 4)\n",
    "r.denominator = 0\n",
    "r"
   ]
  },
  {
   "cell_type": "markdown",
   "id": "715c078c",
   "metadata": {},
   "source": [
    "## Encapsulation principle"
   ]
  },
  {
   "cell_type": "markdown",
   "id": "10d267c9",
   "metadata": {},
   "source": [
    "``Encapsulation`` is a **mechanism** to secure your classes. It consists in forbidding direct access to your attributes via the notion of visibility (public/private). It also consists in providing a property per attribute, to allow a secure access to your data. Traditionally, a **property** consists of two methods (but this can vary):\n",
    "\n",
    "   - the **getter** allowing the retrieval of the value of the associated attribute;\n",
    "   - the **setter** allowing the secure modification of the attribute value.\n",
    "    \n",
    "The ``encapsulation`` allows among other things to provide a constructor to define the initial state of an object. This ``constructor`` will have to pass through the properties to set the value of each attribute."
   ]
  },
  {
   "cell_type": "markdown",
   "id": "a40d6fd9",
   "metadata": {},
   "source": [
    "To replace the notion of **visibility (public or private non-existent)**, Python proposes to ``scramble`` some class members. These members must have a name that starts with **two underscore characters**. Methods ending with two of these characters will not be impacted. They will be accessible from inside the class. However, from the outside, the names of these attributes will be ``scrambled``. From the outside, the real name of a member will be **_ClassName__attrName**."
   ]
  },
  {
   "cell_type": "markdown",
   "id": "f07f3101",
   "metadata": {},
   "source": [
    "The following code shows an example of method and attribute scrambling done on our previous class. The goal is, on the one hand, to hide the attributes of the constructor **\\_\\_numerator__** and **\\_\\_denominator__** and, on the other hand, to hide all the methods for displaying and modifying attributes."
   ]
  },
  {
   "cell_type": "code",
   "execution_count": 6,
   "id": "5ff12d28",
   "metadata": {},
   "outputs": [],
   "source": [
    "# first encapsulation method\n",
    "class Rational(object):\n",
    "    def __init__(self, num, den):\n",
    "        self.__setNumerator(num)\n",
    "        self.__setDenominator(den)\n",
    "        self.simplify()\n",
    "\n",
    "    def __getNumerator(self):\n",
    "        return self.__numerator\n",
    "\n",
    "    def __setNumerator(self, newNum):\n",
    "        if isinstance(newNum, int) == False:\n",
    "            raise BaseException(\"Numerator must be an integer\")\n",
    "        self.__numerator = newNum\n",
    "\n",
    "    def __getDenominator(self):\n",
    "        self.__denominator\n",
    "\n",
    "    def __setDenominator(self, newDen):\n",
    "        if isinstance(newDen, int) == False:\n",
    "            raise BaseException(\"Denominator must be an integer\")\n",
    "        if newDen == 0:\n",
    "            raise ZeroDivisionError(\"The denominator cannot be null\")\n",
    "        self.__denominator = newDen\n",
    "\n",
    "    numerator = property(__getNumerator, __setNumerator)\n",
    "    denominator = property(__getDenominator, __setDenominator)\n",
    "\n",
    "    def simplify(self):\n",
    "        divisor = 2\n",
    "        while divisor <= min(self.__numerator, self.__denominator):\n",
    "            while self.__numerator % divisor == 0 and self.__denominator % divisor == 0:\n",
    "                self.__numerator /= divisor\n",
    "                self.__denominator /= divisor\n",
    "            divisor += 1\n",
    "\n",
    "    def __repr__(self):\n",
    "        return \"%d/%d\" % (self.__numerator, self.__denominator)"
   ]
  },
  {
   "cell_type": "code",
   "execution_count": 7,
   "id": "843e5da4",
   "metadata": {},
   "outputs": [
    {
     "data": {
      "text/plain": [
       "3/2"
      ]
     },
     "execution_count": 7,
     "metadata": {},
     "output_type": "execute_result"
    }
   ],
   "source": [
    "r = Rational(3, 2)\n",
    "r"
   ]
  },
  {
   "cell_type": "code",
   "execution_count": 8,
   "id": "371991a4",
   "metadata": {},
   "outputs": [
    {
     "data": {
      "text/plain": [
       "3/15"
      ]
     },
     "execution_count": 8,
     "metadata": {},
     "output_type": "execute_result"
    }
   ],
   "source": [
    "r.denominator = 15\n",
    "r"
   ]
  },
  {
   "cell_type": "code",
   "execution_count": 9,
   "id": "f7851f06",
   "metadata": {},
   "outputs": [
    {
     "data": {
      "text/plain": [
       "3"
      ]
     },
     "execution_count": 9,
     "metadata": {},
     "output_type": "execute_result"
    }
   ],
   "source": [
    "r.numerator"
   ]
  },
  {
   "cell_type": "code",
   "execution_count": 10,
   "id": "0b534a47",
   "metadata": {},
   "outputs": [
    {
     "ename": "ZeroDivisionError",
     "evalue": "The denominator cannot be null",
     "output_type": "error",
     "traceback": [
      "\u001b[1;31m---------------------------------------------------------------------------\u001b[0m",
      "\u001b[1;31mZeroDivisionError\u001b[0m                         Traceback (most recent call last)",
      "\u001b[1;32m~\\AppData\\Local\\Temp/ipykernel_404/2014414743.py\u001b[0m in \u001b[0;36m<module>\u001b[1;34m\u001b[0m\n\u001b[1;32m----> 1\u001b[1;33m \u001b[0mr\u001b[0m\u001b[1;33m.\u001b[0m\u001b[0mdenominator\u001b[0m \u001b[1;33m=\u001b[0m \u001b[1;36m0\u001b[0m\u001b[1;33m\u001b[0m\u001b[1;33m\u001b[0m\u001b[0m\n\u001b[0m\u001b[0;32m      2\u001b[0m \u001b[0mr\u001b[0m\u001b[1;33m\u001b[0m\u001b[1;33m\u001b[0m\u001b[0m\n",
      "\u001b[1;32m~\\AppData\\Local\\Temp/ipykernel_404/3014378157.py\u001b[0m in \u001b[0;36m__setDenominator\u001b[1;34m(self, newDen)\u001b[0m\n\u001b[0;32m     21\u001b[0m             \u001b[1;32mraise\u001b[0m \u001b[0mBaseException\u001b[0m\u001b[1;33m(\u001b[0m\u001b[1;34m\"Denominator must be an integer\"\u001b[0m\u001b[1;33m)\u001b[0m\u001b[1;33m\u001b[0m\u001b[1;33m\u001b[0m\u001b[0m\n\u001b[0;32m     22\u001b[0m         \u001b[1;32mif\u001b[0m \u001b[0mnewDen\u001b[0m \u001b[1;33m==\u001b[0m \u001b[1;36m0\u001b[0m\u001b[1;33m:\u001b[0m\u001b[1;33m\u001b[0m\u001b[1;33m\u001b[0m\u001b[0m\n\u001b[1;32m---> 23\u001b[1;33m             \u001b[1;32mraise\u001b[0m \u001b[0mZeroDivisionError\u001b[0m\u001b[1;33m(\u001b[0m\u001b[1;34m\"The denominator cannot be null\"\u001b[0m\u001b[1;33m)\u001b[0m\u001b[1;33m\u001b[0m\u001b[1;33m\u001b[0m\u001b[0m\n\u001b[0m\u001b[0;32m     24\u001b[0m         \u001b[0mself\u001b[0m\u001b[1;33m.\u001b[0m\u001b[0m__denominator\u001b[0m \u001b[1;33m=\u001b[0m \u001b[0mnewDen\u001b[0m\u001b[1;33m\u001b[0m\u001b[1;33m\u001b[0m\u001b[0m\n\u001b[0;32m     25\u001b[0m \u001b[1;33m\u001b[0m\u001b[0m\n",
      "\u001b[1;31mZeroDivisionError\u001b[0m: The denominator cannot be null"
     ]
    }
   ],
   "source": [
    "r.denominator = 0\n",
    "r"
   ]
  },
  {
   "cell_type": "markdown",
   "id": "ac3a38af",
   "metadata": {},
   "source": [
    "The following example proposes another encapsulation method similar to the first one done above but using this time **decorators**. Python allows to define a **property** which is in fact a couple of secure access methods to an attribute. It is done by using the ``@property decorator`` above a method."
   ]
  },
  {
   "cell_type": "code",
   "execution_count": 11,
   "id": "e5187558",
   "metadata": {},
   "outputs": [],
   "source": [
    "# second encapsulation method\n",
    "class Rational(object):\n",
    "    def __init__(self, num, den):\n",
    "        self.numerator = num\n",
    "        self.denominator = den\n",
    "        self.simplify()\n",
    "\n",
    "    @property\n",
    "    def numerator(self):\n",
    "        return self.__numerator\n",
    "\n",
    "    @numerator.setter\n",
    "    def numerator(self, newNum):\n",
    "        if isinstance(newNum, int) == False:\n",
    "            raise BaseException(\"Numerator must be an integer\")\n",
    "        self.__numerator = newNum\n",
    "\n",
    "    @property\n",
    "    def denominator(self):\n",
    "        self.__denominator\n",
    "\n",
    "    @denominator.setter\n",
    "    def denominator(self, newDen):\n",
    "        if isinstance(newDen, int) == False:\n",
    "            raise BaseException(\"Denominator must be an integer\")\n",
    "        if newDen == 0:\n",
    "            raise ZeroDivisionError(\"The denominator cannot be null\")\n",
    "        self.__denominator = newDen\n",
    "\n",
    "    def simplify(self):\n",
    "        divisor = 2\n",
    "        while divisor <= min(self.__numerator, self.__denominator):\n",
    "            while self.__numerator % divisor == 0 and self.__denominator % divisor == 0:\n",
    "                self.__numerator /= divisor\n",
    "                self.__denominator /= divisor\n",
    "            divisor += 1\n",
    "\n",
    "    def __repr__(self):\n",
    "        return \"%d/%d\" % (self.__numerator, self.__denominator)"
   ]
  },
  {
   "cell_type": "code",
   "execution_count": 12,
   "id": "17207eeb",
   "metadata": {},
   "outputs": [
    {
     "ename": "ZeroDivisionError",
     "evalue": "The denominator cannot be null",
     "output_type": "error",
     "traceback": [
      "\u001b[1;31m---------------------------------------------------------------------------\u001b[0m",
      "\u001b[1;31mZeroDivisionError\u001b[0m                         Traceback (most recent call last)",
      "\u001b[1;32m~\\AppData\\Local\\Temp/ipykernel_404/3113763244.py\u001b[0m in \u001b[0;36m<module>\u001b[1;34m\u001b[0m\n\u001b[1;32m----> 1\u001b[1;33m \u001b[0mr\u001b[0m \u001b[1;33m=\u001b[0m \u001b[0mRational\u001b[0m\u001b[1;33m(\u001b[0m\u001b[1;36m3\u001b[0m\u001b[1;33m,\u001b[0m \u001b[1;36m0\u001b[0m\u001b[1;33m)\u001b[0m\u001b[1;33m\u001b[0m\u001b[1;33m\u001b[0m\u001b[0m\n\u001b[0m\u001b[0;32m      2\u001b[0m \u001b[0mr\u001b[0m\u001b[1;33m\u001b[0m\u001b[1;33m\u001b[0m\u001b[0m\n",
      "\u001b[1;32m~\\AppData\\Local\\Temp/ipykernel_404/3483353246.py\u001b[0m in \u001b[0;36m__init__\u001b[1;34m(self, num, den)\u001b[0m\n\u001b[0;32m      3\u001b[0m     \u001b[1;32mdef\u001b[0m \u001b[0m__init__\u001b[0m\u001b[1;33m(\u001b[0m\u001b[0mself\u001b[0m\u001b[1;33m,\u001b[0m \u001b[0mnum\u001b[0m\u001b[1;33m,\u001b[0m \u001b[0mden\u001b[0m\u001b[1;33m)\u001b[0m\u001b[1;33m:\u001b[0m\u001b[1;33m\u001b[0m\u001b[1;33m\u001b[0m\u001b[0m\n\u001b[0;32m      4\u001b[0m         \u001b[0mself\u001b[0m\u001b[1;33m.\u001b[0m\u001b[0mnumerator\u001b[0m \u001b[1;33m=\u001b[0m \u001b[0mnum\u001b[0m\u001b[1;33m\u001b[0m\u001b[1;33m\u001b[0m\u001b[0m\n\u001b[1;32m----> 5\u001b[1;33m         \u001b[0mself\u001b[0m\u001b[1;33m.\u001b[0m\u001b[0mdenominator\u001b[0m \u001b[1;33m=\u001b[0m \u001b[0mden\u001b[0m\u001b[1;33m\u001b[0m\u001b[1;33m\u001b[0m\u001b[0m\n\u001b[0m\u001b[0;32m      6\u001b[0m         \u001b[0mself\u001b[0m\u001b[1;33m.\u001b[0m\u001b[0msimplify\u001b[0m\u001b[1;33m(\u001b[0m\u001b[1;33m)\u001b[0m\u001b[1;33m\u001b[0m\u001b[1;33m\u001b[0m\u001b[0m\n\u001b[0;32m      7\u001b[0m \u001b[1;33m\u001b[0m\u001b[0m\n",
      "\u001b[1;32m~\\AppData\\Local\\Temp/ipykernel_404/3483353246.py\u001b[0m in \u001b[0;36mdenominator\u001b[1;34m(self, newDen)\u001b[0m\n\u001b[0;32m     25\u001b[0m             \u001b[1;32mraise\u001b[0m \u001b[0mBaseException\u001b[0m\u001b[1;33m(\u001b[0m\u001b[1;34m\"Denominator must be an integer\"\u001b[0m\u001b[1;33m)\u001b[0m\u001b[1;33m\u001b[0m\u001b[1;33m\u001b[0m\u001b[0m\n\u001b[0;32m     26\u001b[0m         \u001b[1;32mif\u001b[0m \u001b[0mnewDen\u001b[0m \u001b[1;33m==\u001b[0m \u001b[1;36m0\u001b[0m\u001b[1;33m:\u001b[0m\u001b[1;33m\u001b[0m\u001b[1;33m\u001b[0m\u001b[0m\n\u001b[1;32m---> 27\u001b[1;33m             \u001b[1;32mraise\u001b[0m \u001b[0mZeroDivisionError\u001b[0m\u001b[1;33m(\u001b[0m\u001b[1;34m\"The denominator cannot be null\"\u001b[0m\u001b[1;33m)\u001b[0m\u001b[1;33m\u001b[0m\u001b[1;33m\u001b[0m\u001b[0m\n\u001b[0m\u001b[0;32m     28\u001b[0m         \u001b[0mself\u001b[0m\u001b[1;33m.\u001b[0m\u001b[0m__denominator\u001b[0m \u001b[1;33m=\u001b[0m \u001b[0mnewDen\u001b[0m\u001b[1;33m\u001b[0m\u001b[1;33m\u001b[0m\u001b[0m\n\u001b[0;32m     29\u001b[0m \u001b[1;33m\u001b[0m\u001b[0m\n",
      "\u001b[1;31mZeroDivisionError\u001b[0m: The denominator cannot be null"
     ]
    }
   ],
   "source": [
    "r = Rational(3, 0)\n",
    "r"
   ]
  },
  {
   "cell_type": "code",
   "execution_count": 13,
   "id": "e9cf62c5",
   "metadata": {},
   "outputs": [
    {
     "data": {
      "text/plain": [
       "3/4"
      ]
     },
     "execution_count": 13,
     "metadata": {},
     "output_type": "execute_result"
    }
   ],
   "source": [
    "r.denominator = 4\n",
    "r"
   ]
  },
  {
   "cell_type": "markdown",
   "id": "7e6a4c53",
   "metadata": {},
   "source": [
    "## Inheritance principle"
   ]
  },
  {
   "cell_type": "markdown",
   "id": "a80bb3d5",
   "metadata": {},
   "source": [
    "``Inheritance`` is a concept that allows better **factoring** and **reuse** of code. To put it simply, you can define a new data type by enriching another data type. For example an administrator can be considered as a user of the application, but with additional possibilities. Even better, Python allows you to do **simple inheritance**, but also **multiple inheritance**. Let's learn more about this concept with the following example."
   ]
  },
  {
   "cell_type": "code",
   "execution_count": 14,
   "id": "9de9c091",
   "metadata": {},
   "outputs": [],
   "source": [
    "class User(object):\n",
    "    def __init__(self, firstName, lastName):\n",
    "        self.firstName = firstName\n",
    "        self.lastName = lastName\n",
    "\n",
    "    @property\n",
    "    def firstName(self):\n",
    "        return self.__firstName\n",
    "\n",
    "    @firstName.setter\n",
    "    def firstName(self, firstName):\n",
    "        if isinstance(firstName, str) == False:\n",
    "            raise BaseException(\"firstName must be an string\")\n",
    "        firstName = firstName.strip()\n",
    "        if firstName == '':\n",
    "            raise BaseException(\"The firstName cannot be empty\")\n",
    "        self.__firstName = firstName.capitalize()\n",
    "\n",
    "    @property\n",
    "    def lastName(self):\n",
    "        self.__lastName\n",
    "\n",
    "    @lastName.setter\n",
    "    def lastName(self, lastName):\n",
    "        if isinstance(lastName, str) == False:\n",
    "            raise BaseException(\"lastName must be an string\")\n",
    "        lastName = lastName.strip()\n",
    "        if lastName == '':\n",
    "            raise BaseException(\"The lastName cannot be empty\")\n",
    "        self.__lastName = lastName.upper()\n",
    "    \n",
    "    def identity(self):\n",
    "        return \"the user!\"\n",
    "\n",
    "    def __repr__(self):\n",
    "        return \"%s %s\" % (self.__firstName, self.__lastName)"
   ]
  },
  {
   "cell_type": "code",
   "execution_count": 15,
   "id": "a75c36e2",
   "metadata": {},
   "outputs": [
    {
     "data": {
      "text/plain": [
       "Mohamed NIANG"
      ]
     },
     "execution_count": 15,
     "metadata": {},
     "output_type": "execute_result"
    }
   ],
   "source": [
    "me = User(\"mohamed\", \"niang\")\n",
    "me"
   ]
  },
  {
   "cell_type": "markdown",
   "id": "925f784d",
   "metadata": {},
   "source": [
    "``User`` is our base class **(Parent class)**. We will start from this class to create a new class **(derived class)** with other attributes."
   ]
  },
  {
   "cell_type": "code",
   "execution_count": 16,
   "id": "dd0bfa7b",
   "metadata": {},
   "outputs": [],
   "source": [
    "class Admin(User):\n",
    "    def __init__(self, firstName, lastName, rights):\n",
    "        User.__init__(self, firstName, lastName)\n",
    "        self.rights = rights"
   ]
  },
  {
   "cell_type": "code",
   "execution_count": 17,
   "id": "926bc28e",
   "metadata": {},
   "outputs": [
    {
     "data": {
      "text/plain": [
       "Seyni DIOP"
      ]
     },
     "execution_count": 17,
     "metadata": {},
     "output_type": "execute_result"
    }
   ],
   "source": [
    "other = Admin(\"seyni\", \"diop\", \"r\")\n",
    "other"
   ]
  },
  {
   "cell_type": "code",
   "execution_count": 18,
   "id": "1ca725b6",
   "metadata": {},
   "outputs": [
    {
     "data": {
      "text/plain": [
       "'Seyni DIOP'"
      ]
     },
     "execution_count": 18,
     "metadata": {},
     "output_type": "execute_result"
    }
   ],
   "source": [
    "other.__str__()"
   ]
  },
  {
   "cell_type": "code",
   "execution_count": 19,
   "id": "366a78f7",
   "metadata": {},
   "outputs": [
    {
     "name": "stdout",
     "output_type": "stream",
     "text": [
      "Seyni DIOP\n"
     ]
    }
   ],
   "source": [
    "print(other.__str__())"
   ]
  },
  {
   "cell_type": "markdown",
   "id": "654e33a1",
   "metadata": {},
   "source": [
    "Our **child** class **Admin** uses the data of our **parent** class **User** which itself **derives** from the class **object**. It is the latter that allows the display of several other **methods (\\_\\_str__() for example)** within the **Admin** and **User** classes. Let's go further by expanding our **Admin** class."
   ]
  },
  {
   "cell_type": "code",
   "execution_count": 20,
   "id": "b12af64c",
   "metadata": {},
   "outputs": [],
   "source": [
    "class Admin(User):\n",
    "    def __init__(self, firstName, lastName, rights):\n",
    "        User.__init__(self, firstName, lastName)\n",
    "        self.rights = rights\n",
    "\n",
    "    @property\n",
    "    def rights(self):\n",
    "        return self.__rights\n",
    "\n",
    "    @rights.setter\n",
    "    def rights(self, rights):\n",
    "        if isinstance(rights, str) == False:\n",
    "            raise BaseException(\"rights must be an string\")\n",
    "        rights = rights.strip()\n",
    "        if rights == '':\n",
    "            raise BaseException(\"rights cannot be empty\")\n",
    "        self.__rights = rights.lower()\n",
    "        \n",
    "    def __repr__(self):\n",
    "        return \"%s %s\" % (User.__repr__(self), self.rights)"
   ]
  },
  {
   "cell_type": "code",
   "execution_count": 21,
   "id": "ce67a19a",
   "metadata": {},
   "outputs": [
    {
     "data": {
      "text/plain": [
       "Seyni DIOP r"
      ]
     },
     "execution_count": 21,
     "metadata": {},
     "output_type": "execute_result"
    }
   ],
   "source": [
    "other = Admin(\"seyni\", \"diop\", \"r\")\n",
    "other"
   ]
  },
  {
   "cell_type": "markdown",
   "id": "0ff4d017",
   "metadata": {},
   "source": [
    "## Polymorphism principle"
   ]
  },
  {
   "cell_type": "markdown",
   "id": "393177b9",
   "metadata": {},
   "source": [
    "``Polymorphism`` means that an ``object`` can be seen in several ``forms``. When you do ``inheritance`` it induces ``polymorphism``. In short, it is when two **classes** linked by **inheritance** each have a **method** with the same name but which **performs a same or different task**. Let's illustrate this concept with the following example."
   ]
  },
  {
   "cell_type": "code",
   "execution_count": 22,
   "id": "ff2e0467",
   "metadata": {},
   "outputs": [],
   "source": [
    "# first example with methods performing the same tasks\n",
    "class Admin(User):\n",
    "    def __init__(self, firstName, lastName, rights):\n",
    "        User.__init__(self, firstName, lastName)\n",
    "        self.rights = rights\n",
    "\n",
    "    @property\n",
    "    def rights(self):\n",
    "        return self.__rights\n",
    "\n",
    "    @rights.setter\n",
    "    def rights(self, rights):\n",
    "        if isinstance(rights, str) == False:\n",
    "            raise BaseException(\"rights must be an string\")\n",
    "        rights = rights.strip()\n",
    "        if rights == '':\n",
    "            raise BaseException(\"rights cannot be empty\")\n",
    "        self.__rights = rights.lower()\n",
    "        \n",
    "    def identity(self):\n",
    "        return \"I am the administrator\"\n",
    "    \n",
    "    def __repr__(self):\n",
    "        return \"%s %s\" % (User.__repr__(self), self.rights)"
   ]
  },
  {
   "cell_type": "code",
   "execution_count": 23,
   "id": "b0f25259",
   "metadata": {},
   "outputs": [
    {
     "data": {
      "text/plain": [
       "Mohamed NIANG r"
      ]
     },
     "execution_count": 23,
     "metadata": {},
     "output_type": "execute_result"
    }
   ],
   "source": [
    "me = Admin(\"mohamed\", \"niang\", \"r\")\n",
    "me"
   ]
  },
  {
   "cell_type": "code",
   "execution_count": 24,
   "id": "37339f1a",
   "metadata": {},
   "outputs": [
    {
     "data": {
      "text/plain": [
       "'I am the administrator'"
      ]
     },
     "execution_count": 24,
     "metadata": {},
     "output_type": "execute_result"
    }
   ],
   "source": [
    "me.identity()"
   ]
  },
  {
   "cell_type": "code",
   "execution_count": 25,
   "id": "7beff23c",
   "metadata": {},
   "outputs": [],
   "source": [
    "# second example with methods performing a different tasks\n",
    "class Admin(User):\n",
    "    def __init__(self, firstName, lastName, rights):\n",
    "        User.__init__(self, firstName, lastName)\n",
    "        self.rights = rights\n",
    "\n",
    "    @property\n",
    "    def rights(self):\n",
    "        return self.__rights\n",
    "\n",
    "    @rights.setter\n",
    "    def rights(self, rights):\n",
    "        if isinstance(rights, str) == False:\n",
    "            raise BaseException(\"rights must be an string\")\n",
    "        rights = rights.strip()\n",
    "        if rights == '':\n",
    "            raise BaseException(\"rights cannot be empty\")\n",
    "        self.__rights = rights.lower()\n",
    "        \n",
    "    def identity(self):\n",
    "        return \"I am the administrator\" + \" who supervises \" + User.identity(self)\n",
    "    \n",
    "    def __repr__(self):\n",
    "        return \"%s %s\" % (User.__repr__(self), self.rights)"
   ]
  },
  {
   "cell_type": "code",
   "execution_count": 26,
   "id": "a376fe90",
   "metadata": {},
   "outputs": [
    {
     "data": {
      "text/plain": [
       "Mohamed NIANG r"
      ]
     },
     "execution_count": 26,
     "metadata": {},
     "output_type": "execute_result"
    }
   ],
   "source": [
    "me = Admin(\"mohamed\", \"niang\", \"r\")\n",
    "me"
   ]
  },
  {
   "cell_type": "code",
   "execution_count": 27,
   "id": "62d440ec",
   "metadata": {},
   "outputs": [
    {
     "data": {
      "text/plain": [
       "'I am the administrator who supervises the user!'"
      ]
     },
     "execution_count": 27,
     "metadata": {},
     "output_type": "execute_result"
    }
   ],
   "source": [
    "me.identity()"
   ]
  },
  {
   "cell_type": "markdown",
   "id": "e25e4f42",
   "metadata": {},
   "source": [
    "## Abstraction principle"
   ]
  },
  {
   "cell_type": "markdown",
   "id": "b95da923",
   "metadata": {},
   "source": [
    "``Abstract`` classes are classes that are meant to be ``inherited`` but avoid implementing specific ``methods``, leaving behind only method signatures that subclasses must implement. Abstract classes are useful for defining and enforcing class ``abstractions`` at a high level, similar to the concept of interfaces in typed languages, without the need for method implementation. One conceptual approach to defining an abstract class is to stub out the class methods, and then raise a ``NotImplementedError`` if accessed. This prevents ``children classes`` from accessing parent methods without overriding them first. Let's take the example with our User class where the identity method is not implemented and call the Admin class defined above."
   ]
  },
  {
   "cell_type": "code",
   "execution_count": 28,
   "id": "1654addf",
   "metadata": {},
   "outputs": [],
   "source": [
    "class User(object):\n",
    "    def __init__(self, firstName, lastName):\n",
    "        self.firstName = firstName\n",
    "        self.lastName = lastName\n",
    "\n",
    "    @property\n",
    "    def firstName(self):\n",
    "        return self.__firstName\n",
    "\n",
    "    @firstName.setter\n",
    "    def firstName(self, firstName):\n",
    "        if isinstance(firstName, str) == False:\n",
    "            raise BaseException(\"firstName must be an string\")\n",
    "        firstName = firstName.strip()\n",
    "        if firstName == '':\n",
    "            raise BaseException(\"The firstName cannot be empty\")\n",
    "        self.__firstName = firstName.capitalize()\n",
    "\n",
    "    @property\n",
    "    def lastName(self):\n",
    "        self.__lastName\n",
    "\n",
    "    @lastName.setter\n",
    "    def lastName(self, lastName):\n",
    "        if isinstance(lastName, str) == False:\n",
    "            raise BaseException(\"lastName must be an string\")\n",
    "        lastName = lastName.strip()\n",
    "        if lastName == '':\n",
    "            raise BaseException(\"The lastName cannot be empty\")\n",
    "        self.__lastName = lastName.upper()\n",
    "    \n",
    "    def identity(self):\n",
    "        raise NotImplementedError(\"identity_user method not implemented!\")\n",
    "\n",
    "    def __repr__(self):\n",
    "        return \"%s %s\" % (self.__firstName, self.__lastName)"
   ]
  },
  {
   "cell_type": "code",
   "execution_count": 29,
   "id": "97103cd4",
   "metadata": {},
   "outputs": [],
   "source": [
    "class Admin(User):\n",
    "    def __init__(self, firstName, lastName, rights):\n",
    "        User.__init__(self, firstName, lastName)\n",
    "        self.rights = rights\n",
    "\n",
    "    @property\n",
    "    def rights(self):\n",
    "        return self.__rights\n",
    "\n",
    "    @rights.setter\n",
    "    def rights(self, rights):\n",
    "        if isinstance(rights, str) == False:\n",
    "            raise BaseException(\"rights must be an string\")\n",
    "        rights = rights.strip()\n",
    "        if rights == '':\n",
    "            raise BaseException(\"rights cannot be empty\")\n",
    "        self.__rights = rights.lower()\n",
    "        \n",
    "    def identity(self):\n",
    "        return \"I am the administrator\" + \" who supervises \" + User.identity(self)\n",
    "    \n",
    "    def __repr__(self):\n",
    "        return \"%s %s\" % (User.__repr__(self), self.rights)"
   ]
  },
  {
   "cell_type": "code",
   "execution_count": 30,
   "id": "3bc8ffc0",
   "metadata": {},
   "outputs": [
    {
     "data": {
      "text/plain": [
       "Mohamed NIANG r"
      ]
     },
     "execution_count": 30,
     "metadata": {},
     "output_type": "execute_result"
    }
   ],
   "source": [
    "me = Admin(\"mohamed\", \"niang\", \"r\")\n",
    "me"
   ]
  },
  {
   "cell_type": "code",
   "execution_count": 31,
   "id": "e09957c5",
   "metadata": {},
   "outputs": [
    {
     "ename": "NotImplementedError",
     "evalue": "identity_user method not implemented!",
     "output_type": "error",
     "traceback": [
      "\u001b[1;31m---------------------------------------------------------------------------\u001b[0m",
      "\u001b[1;31mNotImplementedError\u001b[0m                       Traceback (most recent call last)",
      "\u001b[1;32m~\\AppData\\Local\\Temp/ipykernel_404/550923974.py\u001b[0m in \u001b[0;36m<module>\u001b[1;34m\u001b[0m\n\u001b[1;32m----> 1\u001b[1;33m \u001b[0mme\u001b[0m\u001b[1;33m.\u001b[0m\u001b[0midentity\u001b[0m\u001b[1;33m(\u001b[0m\u001b[1;33m)\u001b[0m\u001b[1;33m\u001b[0m\u001b[1;33m\u001b[0m\u001b[0m\n\u001b[0m",
      "\u001b[1;32m~\\AppData\\Local\\Temp/ipykernel_404/169310269.py\u001b[0m in \u001b[0;36midentity\u001b[1;34m(self)\u001b[0m\n\u001b[0;32m     18\u001b[0m \u001b[1;33m\u001b[0m\u001b[0m\n\u001b[0;32m     19\u001b[0m     \u001b[1;32mdef\u001b[0m \u001b[0midentity\u001b[0m\u001b[1;33m(\u001b[0m\u001b[0mself\u001b[0m\u001b[1;33m)\u001b[0m\u001b[1;33m:\u001b[0m\u001b[1;33m\u001b[0m\u001b[1;33m\u001b[0m\u001b[0m\n\u001b[1;32m---> 20\u001b[1;33m         \u001b[1;32mreturn\u001b[0m \u001b[1;34m\"I am the administrator\"\u001b[0m \u001b[1;33m+\u001b[0m \u001b[1;34m\" who supervises \"\u001b[0m \u001b[1;33m+\u001b[0m \u001b[0mUser\u001b[0m\u001b[1;33m.\u001b[0m\u001b[0midentity\u001b[0m\u001b[1;33m(\u001b[0m\u001b[0mself\u001b[0m\u001b[1;33m)\u001b[0m\u001b[1;33m\u001b[0m\u001b[1;33m\u001b[0m\u001b[0m\n\u001b[0m\u001b[0;32m     21\u001b[0m \u001b[1;33m\u001b[0m\u001b[0m\n\u001b[0;32m     22\u001b[0m     \u001b[1;32mdef\u001b[0m \u001b[0m__repr__\u001b[0m\u001b[1;33m(\u001b[0m\u001b[0mself\u001b[0m\u001b[1;33m)\u001b[0m\u001b[1;33m:\u001b[0m\u001b[1;33m\u001b[0m\u001b[1;33m\u001b[0m\u001b[0m\n",
      "\u001b[1;32m~\\AppData\\Local\\Temp/ipykernel_404/172071342.py\u001b[0m in \u001b[0;36midentity\u001b[1;34m(self)\u001b[0m\n\u001b[0;32m     31\u001b[0m \u001b[1;33m\u001b[0m\u001b[0m\n\u001b[0;32m     32\u001b[0m     \u001b[1;32mdef\u001b[0m \u001b[0midentity\u001b[0m\u001b[1;33m(\u001b[0m\u001b[0mself\u001b[0m\u001b[1;33m)\u001b[0m\u001b[1;33m:\u001b[0m\u001b[1;33m\u001b[0m\u001b[1;33m\u001b[0m\u001b[0m\n\u001b[1;32m---> 33\u001b[1;33m         \u001b[1;32mraise\u001b[0m \u001b[0mNotImplementedError\u001b[0m\u001b[1;33m(\u001b[0m\u001b[1;34m\"identity_user method not implemented!\"\u001b[0m\u001b[1;33m)\u001b[0m\u001b[1;33m\u001b[0m\u001b[1;33m\u001b[0m\u001b[0m\n\u001b[0m\u001b[0;32m     34\u001b[0m \u001b[1;33m\u001b[0m\u001b[0m\n\u001b[0;32m     35\u001b[0m     \u001b[1;32mdef\u001b[0m \u001b[0m__repr__\u001b[0m\u001b[1;33m(\u001b[0m\u001b[0mself\u001b[0m\u001b[1;33m)\u001b[0m\u001b[1;33m:\u001b[0m\u001b[1;33m\u001b[0m\u001b[1;33m\u001b[0m\u001b[0m\n",
      "\u001b[1;31mNotImplementedError\u001b[0m: identity_user method not implemented!"
     ]
    }
   ],
   "source": [
    "me.identity()"
   ]
  },
  {
   "cell_type": "markdown",
   "id": "e2cedd2c",
   "metadata": {},
   "source": [
    "Creating an ``abstract`` class in this way prevents improper usage of methods that are not ``overridden``, and certainly encourages methods to be defined in ``child classes``, but it does not enforce their definition. With the ``abc module`` we can prevent child classes from being instantiated when they fail to ``override abstract class methods`` of their parents and ancestors."
   ]
  },
  {
   "cell_type": "markdown",
   "id": "66b09341",
   "metadata": {},
   "source": [
    "## Super classes"
   ]
  },
  {
   "cell_type": "markdown",
   "id": "14399437",
   "metadata": {},
   "source": [
    "``Super classes`` are used in ``inheritance`` concepts by the built-in python ``super()`` function. It allows to access direct ``parents`` during ``inheritance`` and to solve different problems due to ``multiple inheritance``. Let's go back to the examples we dealt with earlier about ``inheritance`` and try to apply the ``super()`` function on the ``class parent constructor``."
   ]
  },
  {
   "cell_type": "code",
   "execution_count": 32,
   "id": "f42ae6d4",
   "metadata": {},
   "outputs": [],
   "source": [
    "class User(object):\n",
    "    def __init__(self, firstName, lastName):\n",
    "        self.firstName = firstName\n",
    "        self.lastName = lastName\n",
    "\n",
    "    @property\n",
    "    def firstName(self):\n",
    "        return self.__firstName\n",
    "\n",
    "    @firstName.setter\n",
    "    def firstName(self, firstName):\n",
    "        if isinstance(firstName, str) == False:\n",
    "            raise BaseException(\"firstName must be an string\")\n",
    "        firstName = firstName.strip()\n",
    "        if firstName == '':\n",
    "            raise BaseException(\"The firstName cannot be empty\")\n",
    "        self.__firstName = firstName.capitalize()\n",
    "\n",
    "    @property\n",
    "    def lastName(self):\n",
    "        self.__lastName\n",
    "\n",
    "    @lastName.setter\n",
    "    def lastName(self, lastName):\n",
    "        if isinstance(lastName, str) == False:\n",
    "            raise BaseException(\"lastName must be an string\")\n",
    "        lastName = lastName.strip()\n",
    "        if lastName == '':\n",
    "            raise BaseException(\"The lastName cannot be empty\")\n",
    "        self.__lastName = lastName.upper()\n",
    "    \n",
    "    def identity(self):\n",
    "        return \"the user!\"\n",
    "\n",
    "    def __repr__(self):\n",
    "        return \"%s %s\" % (self.__firstName, self.__lastName)"
   ]
  },
  {
   "cell_type": "markdown",
   "id": "a79f099e",
   "metadata": {},
   "source": [
    "In the following ``Admin`` class, we will use the ``super()`` function to ``automatically instantiate`` all attributes of the parent ``User`` class. The ``power`` of the super function lies in the fact that it can ``instantiate`` all the attributes of the parent classes, for example when there are ``multiple inheritances``."
   ]
  },
  {
   "cell_type": "code",
   "execution_count": 33,
   "id": "40d2ca64",
   "metadata": {},
   "outputs": [],
   "source": [
    "class Admin(User):\n",
    "    def __init__(self, firstName, lastName, rights):\n",
    "        super().__init__(firstName, lastName)\n",
    "        self.rights = rights\n",
    "\n",
    "    @property\n",
    "    def rights(self):\n",
    "        return self.__rights\n",
    "\n",
    "    @rights.setter\n",
    "    def rights(self, rights):\n",
    "        if isinstance(rights, str) == False:\n",
    "            raise BaseException(\"rights must be an string\")\n",
    "        rights = rights.strip()\n",
    "        if rights == '':\n",
    "            raise BaseException(\"rights cannot be empty\")\n",
    "        self.__rights = rights.lower()\n",
    "        \n",
    "    def __repr__(self):\n",
    "        return \"%s %s\" % (User.__repr__(self), self.rights)"
   ]
  },
  {
   "cell_type": "code",
   "execution_count": 34,
   "id": "76f1d8ec",
   "metadata": {},
   "outputs": [
    {
     "data": {
      "text/plain": [
       "Mohamed NIANG r"
      ]
     },
     "execution_count": 34,
     "metadata": {},
     "output_type": "execute_result"
    }
   ],
   "source": [
    "me = Admin(\"mohamed\", \"niang\", \"r\")\n",
    "me"
   ]
  }
 ],
 "metadata": {
  "kernelspec": {
   "display_name": "Python 3 (ipykernel)",
   "language": "python",
   "name": "python3"
  },
  "language_info": {
   "codemirror_mode": {
    "name": "ipython",
    "version": 3
   },
   "file_extension": ".py",
   "mimetype": "text/x-python",
   "name": "python",
   "nbconvert_exporter": "python",
   "pygments_lexer": "ipython3",
   "version": "3.9.7"
  },
  "latex_envs": {
   "LaTeX_envs_menu_present": true,
   "autoclose": false,
   "autocomplete": true,
   "bibliofile": "biblio.bib",
   "cite_by": "apalike",
   "current_citInitial": 1,
   "eqLabelWithNumbers": true,
   "eqNumInitial": 1,
   "hotkeys": {
    "equation": "Ctrl-E",
    "itemize": "Ctrl-I"
   },
   "labels_anchors": false,
   "latex_user_defs": false,
   "report_style_numbering": false,
   "user_envs_cfg": false
  },
  "nbTranslate": {
   "displayLangs": [
    "*"
   ],
   "hotkey": "alt-t",
   "langInMainMenu": true,
   "sourceLang": "en",
   "targetLang": "fr",
   "useGoogleTranslate": true
  },
  "toc": {
   "base_numbering": 1,
   "nav_menu": {},
   "number_sections": true,
   "sideBar": true,
   "skip_h1_title": true,
   "title_cell": "Table of Contents",
   "title_sidebar": "Contents",
   "toc_cell": true,
   "toc_position": {},
   "toc_section_display": true,
   "toc_window_display": true
  }
 },
 "nbformat": 4,
 "nbformat_minor": 5
}
