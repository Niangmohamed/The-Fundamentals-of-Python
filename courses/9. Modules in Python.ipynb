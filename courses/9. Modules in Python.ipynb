{
 "cells": [
  {
   "cell_type": "markdown",
   "id": "395cca39",
   "metadata": {},
   "source": [
    "# Python: Modules"
   ]
  },
  {
   "cell_type": "markdown",
   "id": "7f9f74bd",
   "metadata": {},
   "source": [
    "## Modules"
   ]
  },
  {
   "cell_type": "markdown",
   "id": "7053bfa8",
   "metadata": {},
   "source": [
    "To use a **module**, we use the following syntax: **import my_module**. \n",
    "\n",
    "Modules contain functions and variables. For example, to import the function **my_function** from **my_module**, use the following syntax: \n",
    "\n",
    "**import my_module.my_function()**;\n",
    "\n",
    "**from my_module import my_function()**."
   ]
  },
  {
   "cell_type": "code",
   "execution_count": 1,
   "id": "7d36aaf2",
   "metadata": {},
   "outputs": [],
   "source": [
    "# Module math\n",
    "import math"
   ]
  },
  {
   "cell_type": "code",
   "execution_count": 2,
   "id": "c4afca60",
   "metadata": {},
   "outputs": [
    {
     "data": {
      "text/plain": [
       "5.0"
      ]
     },
     "execution_count": 2,
     "metadata": {},
     "output_type": "execute_result"
    }
   ],
   "source": [
    "# Function sqrt() in math module\n",
    "math.sqrt(25)"
   ]
  },
  {
   "cell_type": "code",
   "execution_count": 3,
   "id": "61f49ef2",
   "metadata": {},
   "outputs": [
    {
     "data": {
      "text/plain": [
       "13"
      ]
     },
     "execution_count": 3,
     "metadata": {},
     "output_type": "execute_result"
    }
   ],
   "source": [
    "# Function ceil() in math module\n",
    "math.ceil(12.3)"
   ]
  },
  {
   "cell_type": "code",
   "execution_count": 4,
   "id": "1127fb53",
   "metadata": {},
   "outputs": [
    {
     "data": {
      "text/plain": [
       "45"
      ]
     },
     "execution_count": 4,
     "metadata": {},
     "output_type": "execute_result"
    }
   ],
   "source": [
    "# Function floor() in math module\n",
    "math.floor(45.6)"
   ]
  },
  {
   "cell_type": "code",
   "execution_count": 5,
   "id": "fb21dca3",
   "metadata": {},
   "outputs": [
    {
     "data": {
      "text/plain": [
       "3.141592653589793"
      ]
     },
     "execution_count": 5,
     "metadata": {},
     "output_type": "execute_result"
    }
   ],
   "source": [
    "# Variable pi in math module\n",
    "math.pi"
   ]
  },
  {
   "cell_type": "markdown",
   "id": "3bad1924",
   "metadata": {},
   "source": [
    "## The CSV module"
   ]
  },
  {
   "cell_type": "code",
   "execution_count": 6,
   "id": "53d95299",
   "metadata": {},
   "outputs": [],
   "source": [
    "import csv\n",
    "\n",
    "f = open(\"nfl.csv\")\n",
    "f_csv_reader = csv.reader(f)\n",
    "nfl = list(f_csv_reader)"
   ]
  },
  {
   "cell_type": "code",
   "execution_count": 7,
   "id": "00770f90",
   "metadata": {},
   "outputs": [
    {
     "name": "stdout",
     "output_type": "stream",
     "text": [
      "[['2009', '1', 'Pittsburgh Steelers', 'Tennessee Titans'], ['2009', '1', 'Minnesota Vikings', 'Cleveland Browns'], ['2009', '1', 'New York Giants', 'Washington Redskins'], ['2009', '1', 'San Francisco 49ers', 'Arizona Cardinals'], ['2009', '1', 'Seattle Seahawks', 'St. Louis Rams'], ['2009', '1', 'Philadelphia Eagles', 'Carolina Panthers']]\n"
     ]
    }
   ],
   "source": [
    "print(nfl[0:6])"
   ]
  },
  {
   "cell_type": "markdown",
   "id": "bd09d84f",
   "metadata": {},
   "source": [
    "## Count the number of times a team has won"
   ]
  },
  {
   "cell_type": "markdown",
   "id": "23eabedf",
   "metadata": {},
   "source": [
    "Let's go count the number of times the San Francisco team has won. \n",
    "\n",
    "NB: the first column represents the year, the second the week, the third the winning team and the fourth the losing team."
   ]
  },
  {
   "cell_type": "code",
   "execution_count": 8,
   "id": "473f616b",
   "metadata": {},
   "outputs": [
    {
     "data": {
      "text/plain": [
       "51"
      ]
     },
     "execution_count": 8,
     "metadata": {},
     "output_type": "execute_result"
    }
   ],
   "source": [
    "sf_wins = 0\n",
    "\n",
    "for row in nfl:\n",
    "    if row[2] == \"San Francisco 49ers\":\n",
    "        sf_wins += 1\n",
    "        \n",
    "sf_wins"
   ]
  },
  {
   "cell_type": "markdown",
   "id": "983e374c",
   "metadata": {},
   "source": [
    "### Training"
   ]
  },
  {
   "cell_type": "markdown",
   "id": "7c7da491",
   "metadata": {},
   "source": [
    "Let's create a function that counts the number of times a team has won. And let's test it on the team 'New York Giants'."
   ]
  },
  {
   "cell_type": "code",
   "execution_count": 9,
   "id": "8588f937",
   "metadata": {},
   "outputs": [],
   "source": [
    "def nfl_wins(team):\n",
    "    \n",
    "    count = 0\n",
    "    \n",
    "    for row in nfl:\n",
    "        if row[2] == team:\n",
    "            count += 1\n",
    "            \n",
    "    return count"
   ]
  },
  {
   "cell_type": "code",
   "execution_count": 10,
   "id": "8fff5734",
   "metadata": {},
   "outputs": [
    {
     "data": {
      "text/plain": [
       "43"
      ]
     },
     "execution_count": 10,
     "metadata": {},
     "output_type": "execute_result"
    }
   ],
   "source": [
    "ny_giants_wins = nfl_wins('New York Giants')\n",
    "ny_giants_wins"
   ]
  },
  {
   "cell_type": "markdown",
   "id": "f98a189d",
   "metadata": {},
   "source": [
    "## AND and OR operators"
   ]
  },
  {
   "cell_type": "code",
   "execution_count": 11,
   "id": "0ee7ac06",
   "metadata": {},
   "outputs": [
    {
     "data": {
      "text/plain": [
       "True"
      ]
     },
     "execution_count": 11,
     "metadata": {},
     "output_type": "execute_result"
    }
   ],
   "source": [
    "# Example 1\n",
    "a = 5\n",
    "b = 10\n",
    "result = (a < 5 or b > a)\n",
    "result"
   ]
  },
  {
   "cell_type": "code",
   "execution_count": 12,
   "id": "3a5322ac",
   "metadata": {},
   "outputs": [
    {
     "data": {
      "text/plain": [
       "False"
      ]
     },
     "execution_count": 12,
     "metadata": {},
     "output_type": "execute_result"
    }
   ],
   "source": [
    "# Example 2\n",
    "a = 5\n",
    "b = 10\n",
    "result = (a < 5 and b > a)\n",
    "result"
   ]
  },
  {
   "cell_type": "code",
   "execution_count": 13,
   "id": "4312d057",
   "metadata": {},
   "outputs": [
    {
     "data": {
      "text/plain": [
       "True"
      ]
     },
     "execution_count": 13,
     "metadata": {},
     "output_type": "execute_result"
    }
   ],
   "source": [
    "# Example 3\n",
    "a = 5\n",
    "b = 10\n",
    "result = (a == 5 or b == 4)\n",
    "result"
   ]
  },
  {
   "cell_type": "code",
   "execution_count": 14,
   "id": "e146df80",
   "metadata": {},
   "outputs": [
    {
     "data": {
      "text/plain": [
       "False"
      ]
     },
     "execution_count": 14,
     "metadata": {},
     "output_type": "execute_result"
    }
   ],
   "source": [
    "# Example 4\n",
    "a = 5\n",
    "b = 10\n",
    "result = (a > b or a == 10 and b == 10)\n",
    "result"
   ]
  },
  {
   "cell_type": "markdown",
   "id": "cd522143",
   "metadata": {},
   "source": [
    "## Count the wins for a given year"
   ]
  },
  {
   "cell_type": "markdown",
   "id": "e466902c",
   "metadata": {},
   "source": [
    "### Training"
   ]
  },
  {
   "cell_type": "code",
   "execution_count": 15,
   "id": "3196799a",
   "metadata": {},
   "outputs": [],
   "source": [
    "def nfl_wins(team, year):\n",
    "    \n",
    "    count = 0\n",
    "    \n",
    "    for row in nfl:\n",
    "        if row[2] == team and row[0] == year:\n",
    "            count += 1\n",
    "            \n",
    "    return count"
   ]
  },
  {
   "cell_type": "code",
   "execution_count": 16,
   "id": "881ceca1",
   "metadata": {},
   "outputs": [
    {
     "data": {
      "text/plain": [
       "12"
      ]
     },
     "execution_count": 16,
     "metadata": {},
     "output_type": "execute_result"
    }
   ],
   "source": [
    "sf_2012_wins = nfl_wins('San Francisco 49ers', '2012')\n",
    "sf_2012_wins"
   ]
  }
 ],
 "metadata": {
  "kernelspec": {
   "display_name": "Python 3 (ipykernel)",
   "language": "python",
   "name": "python3"
  },
  "language_info": {
   "codemirror_mode": {
    "name": "ipython",
    "version": 3
   },
   "file_extension": ".py",
   "mimetype": "text/x-python",
   "name": "python",
   "nbconvert_exporter": "python",
   "pygments_lexer": "ipython3",
   "version": "3.9.7"
  }
 },
 "nbformat": 4,
 "nbformat_minor": 5
}
