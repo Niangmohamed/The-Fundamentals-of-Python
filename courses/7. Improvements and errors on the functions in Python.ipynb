{
 "cells": [
  {
   "cell_type": "markdown",
   "id": "cf19277b",
   "metadata": {},
   "source": [
    "# Python: Improvements and errors on functions "
   ]
  },
  {
   "cell_type": "markdown",
   "id": "3879d38b",
   "metadata": {},
   "source": [
    "## Functions with multiple execution paths"
   ]
  },
  {
   "cell_type": "code",
   "execution_count": 1,
   "id": "38bae760",
   "metadata": {},
   "outputs": [],
   "source": [
    "# Example 1\n",
    "def your_age(age):\n",
    "    if age >= 60:\n",
    "        return(\"Old!\")\n",
    "    else:\n",
    "        return(\"Young\")"
   ]
  },
  {
   "cell_type": "code",
   "execution_count": 2,
   "id": "dd47853a",
   "metadata": {},
   "outputs": [
    {
     "data": {
      "text/plain": [
       "'Old!'"
      ]
     },
     "execution_count": 2,
     "metadata": {},
     "output_type": "execute_result"
    }
   ],
   "source": [
    "your_age(70)"
   ]
  },
  {
   "cell_type": "code",
   "execution_count": 3,
   "id": "7e6641c2",
   "metadata": {},
   "outputs": [],
   "source": [
    "# Example 2\n",
    "def is_old(age):\n",
    "    if age >= 60:\n",
    "        return(\"Old!\")\n",
    "\n",
    "def is_young(age):\n",
    "    if age < 60:\n",
    "        return(\"Young!\")"
   ]
  },
  {
   "cell_type": "code",
   "execution_count": 4,
   "id": "66beb550",
   "metadata": {},
   "outputs": [
    {
     "data": {
      "text/plain": [
       "'Old!'"
      ]
     },
     "execution_count": 4,
     "metadata": {},
     "output_type": "execute_result"
    }
   ],
   "source": [
    "is_old(70)"
   ]
  },
  {
   "cell_type": "code",
   "execution_count": 5,
   "id": "af964c67",
   "metadata": {},
   "outputs": [
    {
     "data": {
      "text/plain": [
       "'Young!'"
      ]
     },
     "execution_count": 5,
     "metadata": {},
     "output_type": "execute_result"
    }
   ],
   "source": [
    "is_young(40)"
   ]
  },
  {
   "cell_type": "markdown",
   "id": "95d8258f",
   "metadata": {},
   "source": [
    "## Arguments"
   ]
  },
  {
   "cell_type": "code",
   "execution_count": 6,
   "id": "97bd95ca",
   "metadata": {},
   "outputs": [],
   "source": [
    "vocabulary = open(\"dictionnaire.txt\", \"r\", encoding=\"utf-8\").read()\n",
    "text_string = open(\"texte.txt\", \"r\", encoding=\"utf-8\").read()\n",
    "\n",
    "def clean_text(string, change_string_list, replacement_string):\n",
    "    \n",
    "    cleaned_string = string\n",
    "    \n",
    "    for change_string in change_string_list:\n",
    "        cleaned_string = cleaned_string.replace(change_string, replacement_string)\n",
    "    cleaned_string = cleaned_string.lower()\n",
    "    \n",
    "    return cleaned_string\n",
    "\n",
    "change_string_list = [\".\", \",\", \"'\", \"\\n\"]\n",
    "replacement_string = \"\""
   ]
  },
  {
   "cell_type": "code",
   "execution_count": 7,
   "id": "5ef9edf3",
   "metadata": {},
   "outputs": [],
   "source": [
    "def tokenize(string, change_string_list, replacement_string, clean = False):\n",
    "    \n",
    "    cleaned_text = string\n",
    "    if clean:\n",
    "        cleaned_text = clean_text(string, change_string_list, replacement_string)\n",
    "    text_tokens = cleaned_text.split(\" \")\n",
    "    \n",
    "    return text_tokens"
   ]
  },
  {
   "cell_type": "code",
   "execution_count": 8,
   "id": "f3f8221b",
   "metadata": {},
   "outputs": [
    {
     "name": "stdout",
     "output_type": "stream",
     "text": [
      "['En', 'termes', 'généraux,', 'la', 'scence', 'des', 'données', 'est', \"l'extraction\", 'de']\n"
     ]
    }
   ],
   "source": [
    "tokenized_text = tokenize(text_string, change_string_list, replacement_string)\n",
    "print(tokenized_text[0:10])"
   ]
  },
  {
   "cell_type": "code",
   "execution_count": 9,
   "id": "cadcde48",
   "metadata": {},
   "outputs": [
    {
     "name": "stdout",
     "output_type": "stream",
     "text": [
      "['en', 'termes', 'généraux', 'la', 'scence', 'des', 'données', 'est', 'lextraction', 'de']\n"
     ]
    }
   ],
   "source": [
    "tokenized_text = tokenize(text_string, change_string_list, replacement_string, True)\n",
    "print(tokenized_text[0:10])"
   ]
  },
  {
   "cell_type": "markdown",
   "id": "fab1ebe5",
   "metadata": {},
   "source": [
    "## Training: Improvement of our spell checker"
   ]
  },
  {
   "cell_type": "code",
   "execution_count": 10,
   "id": "492bee5a",
   "metadata": {},
   "outputs": [],
   "source": [
    "def spell_check(vocabulary_file, text_file, special_characters=[\",\", \".\", \"'\", \"\\n\"], replacement_string=\"\"):\n",
    "    \n",
    "    misspelled_words = []\n",
    "    \n",
    "    vocabulary = open(vocabulary_file, \"r\", encoding=\"utf-8\").read()\n",
    "    text = open(text_file, \"r\", encoding=\"utf-8\").read()\n",
    "    \n",
    "    tokenized_vocabulary = tokenize(vocabulary, special_characters, replacement_string, clean=True)\n",
    "    tokenized_text = tokenize(text, special_characters, replacement_string, clean=True)\n",
    "    \n",
    "    for token in tokenized_text:\n",
    "        if token not in tokenized_vocabulary and token != \"\":\n",
    "            misspelled_words.append(token)\n",
    "    \n",
    "    return misspelled_words"
   ]
  },
  {
   "cell_type": "code",
   "execution_count": 11,
   "id": "fe44b508",
   "metadata": {},
   "outputs": [
    {
     "name": "stdout",
     "output_type": "stream",
     "text": [
      "['scence', 'conaissance', 'téorie', 'statistiqe', 'stokage', 'dicipline', 'come']\n"
     ]
    }
   ],
   "source": [
    "final_misspelled_words = spell_check(vocabulary_file=\"dictionnaire.txt\", text_file=\"texte.txt\")\n",
    "print(final_misspelled_words)"
   ]
  },
  {
   "cell_type": "markdown",
   "id": "7a99d613",
   "metadata": {},
   "source": [
    "## Errors types"
   ]
  },
  {
   "cell_type": "markdown",
   "id": "0d670155",
   "metadata": {},
   "source": [
    "### Syntax errors"
   ]
  },
  {
   "cell_type": "code",
   "execution_count": 12,
   "id": "9724b5c3",
   "metadata": {},
   "outputs": [
    {
     "ename": "SyntaxError",
     "evalue": "EOL while scanning string literal (Temp/ipykernel_4240/2962720375.py, line 2)",
     "output_type": "error",
     "traceback": [
      "\u001b[1;36m  File \u001b[1;32m\"C:\\Users\\HP\\AppData\\Local\\Temp/ipykernel_4240/2962720375.py\"\u001b[1;36m, line \u001b[1;32m2\u001b[0m\n\u001b[1;33m    answer = 12'\u001b[0m\n\u001b[1;37m                ^\u001b[0m\n\u001b[1;31mSyntaxError\u001b[0m\u001b[1;31m:\u001b[0m EOL while scanning string literal\n"
     ]
    }
   ],
   "source": [
    "# SyntaxError\n",
    "answer = 12'"
   ]
  },
  {
   "cell_type": "code",
   "execution_count": 13,
   "id": "07644f1c",
   "metadata": {},
   "outputs": [
    {
     "ename": "SyntaxError",
     "evalue": "invalid syntax (Temp/ipykernel_4240/141079354.py, line 2)",
     "output_type": "error",
     "traceback": [
      "\u001b[1;36m  File \u001b[1;32m\"C:\\Users\\HP\\AppData\\Local\\Temp/ipykernel_4240/141079354.py\"\u001b[1;36m, line \u001b[1;32m2\u001b[0m\n\u001b[1;33m    de show():\u001b[0m\n\u001b[1;37m       ^\u001b[0m\n\u001b[1;31mSyntaxError\u001b[0m\u001b[1;31m:\u001b[0m invalid syntax\n"
     ]
    }
   ],
   "source": [
    "# SyntaxError\n",
    "de show():\n",
    "    print(\"Show!\")"
   ]
  },
  {
   "cell_type": "code",
   "execution_count": 14,
   "id": "80d5b92e",
   "metadata": {},
   "outputs": [
    {
     "ename": "IndentationError",
     "evalue": "unexpected indent (Temp/ipykernel_4240/3354422552.py, line 4)",
     "output_type": "error",
     "traceback": [
      "\u001b[1;36m  File \u001b[1;32m\"C:\\Users\\HP\\AppData\\Local\\Temp/ipykernel_4240/3354422552.py\"\u001b[1;36m, line \u001b[1;32m4\u001b[0m\n\u001b[1;33m    print(\"Look!\")\u001b[0m\n\u001b[1;37m    ^\u001b[0m\n\u001b[1;31mIndentationError\u001b[0m\u001b[1;31m:\u001b[0m unexpected indent\n"
     ]
    }
   ],
   "source": [
    "# IndentationError\n",
    "def look():\n",
    "    print(\"Hey!\")\n",
    "        print(\"Look!\")"
   ]
  },
  {
   "cell_type": "markdown",
   "id": "b4896020",
   "metadata": {},
   "source": [
    "### Runtime errors"
   ]
  },
  {
   "cell_type": "code",
   "execution_count": 15,
   "id": "7f48dc6b",
   "metadata": {},
   "outputs": [
    {
     "ename": "TypeError",
     "evalue": "unsupported operand type(s) for +: 'int' and 'str'",
     "output_type": "error",
     "traceback": [
      "\u001b[1;31m---------------------------------------------------------------------------\u001b[0m",
      "\u001b[1;31mTypeError\u001b[0m                                 Traceback (most recent call last)",
      "\u001b[1;32m~\\AppData\\Local\\Temp/ipykernel_4240/697016413.py\u001b[0m in \u001b[0;36m<module>\u001b[1;34m\u001b[0m\n\u001b[0;32m      1\u001b[0m \u001b[1;31m# TypeError\u001b[0m\u001b[1;33m\u001b[0m\u001b[1;33m\u001b[0m\u001b[0m\n\u001b[0;32m      2\u001b[0m \u001b[0mnine\u001b[0m \u001b[1;33m=\u001b[0m \u001b[1;36m9\u001b[0m\u001b[1;33m\u001b[0m\u001b[1;33m\u001b[0m\u001b[0m\n\u001b[1;32m----> 3\u001b[1;33m \u001b[0mnine\u001b[0m \u001b[1;33m+\u001b[0m \u001b[1;34m\"9\"\u001b[0m\u001b[1;33m\u001b[0m\u001b[1;33m\u001b[0m\u001b[0m\n\u001b[0m",
      "\u001b[1;31mTypeError\u001b[0m: unsupported operand type(s) for +: 'int' and 'str'"
     ]
    }
   ],
   "source": [
    "# TypeError\n",
    "nine = 9\n",
    "nine + \"9\""
   ]
  },
  {
   "cell_type": "code",
   "execution_count": 16,
   "id": "f33a3cae",
   "metadata": {},
   "outputs": [
    {
     "ename": "ValueError",
     "evalue": "could not convert string to float: 'Bye!'",
     "output_type": "error",
     "traceback": [
      "\u001b[1;31m---------------------------------------------------------------------------\u001b[0m",
      "\u001b[1;31mValueError\u001b[0m                                Traceback (most recent call last)",
      "\u001b[1;32m~\\AppData\\Local\\Temp/ipykernel_4240/4025691914.py\u001b[0m in \u001b[0;36m<module>\u001b[1;34m\u001b[0m\n\u001b[0;32m      1\u001b[0m \u001b[1;31m# ValueError\u001b[0m\u001b[1;33m\u001b[0m\u001b[1;33m\u001b[0m\u001b[0m\n\u001b[1;32m----> 2\u001b[1;33m \u001b[0mfloat\u001b[0m\u001b[1;33m(\u001b[0m\u001b[1;34m\"Bye!\"\u001b[0m\u001b[1;33m)\u001b[0m\u001b[1;33m\u001b[0m\u001b[1;33m\u001b[0m\u001b[0m\n\u001b[0m",
      "\u001b[1;31mValueError\u001b[0m: could not convert string to float: 'Bye!'"
     ]
    }
   ],
   "source": [
    "# ValueError\n",
    "float(\"Bye!\")"
   ]
  },
  {
   "cell_type": "code",
   "execution_count": 17,
   "id": "70af478d",
   "metadata": {},
   "outputs": [
    {
     "ename": "IndexError",
     "evalue": "list index out of range",
     "output_type": "error",
     "traceback": [
      "\u001b[1;31m---------------------------------------------------------------------------\u001b[0m",
      "\u001b[1;31mIndexError\u001b[0m                                Traceback (most recent call last)",
      "\u001b[1;32m~\\AppData\\Local\\Temp/ipykernel_4240/3509908200.py\u001b[0m in \u001b[0;36m<module>\u001b[1;34m\u001b[0m\n\u001b[0;32m      1\u001b[0m \u001b[1;31m# IndexError\u001b[0m\u001b[1;33m\u001b[0m\u001b[1;33m\u001b[0m\u001b[0m\n\u001b[0;32m      2\u001b[0m \u001b[0mage\u001b[0m \u001b[1;33m=\u001b[0m \u001b[1;33m[\u001b[0m\u001b[1;36m12\u001b[0m\u001b[1;33m,\u001b[0m \u001b[1;36m15\u001b[0m\u001b[1;33m,\u001b[0m \u001b[1;36m18\u001b[0m\u001b[1;33m]\u001b[0m\u001b[1;33m\u001b[0m\u001b[1;33m\u001b[0m\u001b[0m\n\u001b[1;32m----> 3\u001b[1;33m \u001b[0mage\u001b[0m\u001b[1;33m[\u001b[0m\u001b[1;36m3\u001b[0m\u001b[1;33m]\u001b[0m\u001b[1;33m\u001b[0m\u001b[1;33m\u001b[0m\u001b[0m\n\u001b[0m",
      "\u001b[1;31mIndexError\u001b[0m: list index out of range"
     ]
    }
   ],
   "source": [
    "# IndexError\n",
    "age = [12, 15, 18]\n",
    "age[3]"
   ]
  },
  {
   "cell_type": "code",
   "execution_count": 18,
   "id": "f334b71f",
   "metadata": {},
   "outputs": [
    {
     "ename": "AttributeError",
     "evalue": "'_io.TextIOWrapper' object has no attribute 'split'",
     "output_type": "error",
     "traceback": [
      "\u001b[1;31m---------------------------------------------------------------------------\u001b[0m",
      "\u001b[1;31mAttributeError\u001b[0m                            Traceback (most recent call last)",
      "\u001b[1;32m~\\AppData\\Local\\Temp/ipykernel_4240/214392333.py\u001b[0m in \u001b[0;36m<module>\u001b[1;34m\u001b[0m\n\u001b[0;32m      1\u001b[0m \u001b[1;31m# AttributeError\u001b[0m\u001b[1;33m\u001b[0m\u001b[1;33m\u001b[0m\u001b[0m\n\u001b[0;32m      2\u001b[0m \u001b[0mf\u001b[0m \u001b[1;33m=\u001b[0m \u001b[0mopen\u001b[0m\u001b[1;33m(\u001b[0m\u001b[1;34m\"texte.txt\"\u001b[0m\u001b[1;33m)\u001b[0m\u001b[1;33m\u001b[0m\u001b[1;33m\u001b[0m\u001b[0m\n\u001b[1;32m----> 3\u001b[1;33m \u001b[0mg\u001b[0m \u001b[1;33m=\u001b[0m \u001b[0mf\u001b[0m\u001b[1;33m.\u001b[0m\u001b[0msplit\u001b[0m\u001b[1;33m(\u001b[0m\u001b[1;34m','\u001b[0m\u001b[1;33m)\u001b[0m\u001b[1;33m\u001b[0m\u001b[1;33m\u001b[0m\u001b[0m\n\u001b[0m",
      "\u001b[1;31mAttributeError\u001b[0m: '_io.TextIOWrapper' object has no attribute 'split'"
     ]
    }
   ],
   "source": [
    "# AttributeError\n",
    "f = open(\"texte.txt\")\n",
    "g = f.split(',')"
   ]
  }
 ],
 "metadata": {
  "kernelspec": {
   "display_name": "Python 3 (ipykernel)",
   "language": "python",
   "name": "python3"
  },
  "language_info": {
   "codemirror_mode": {
    "name": "ipython",
    "version": 3
   },
   "file_extension": ".py",
   "mimetype": "text/x-python",
   "name": "python",
   "nbconvert_exporter": "python",
   "pygments_lexer": "ipython3",
   "version": "3.9.7"
  }
 },
 "nbformat": 4,
 "nbformat_minor": 5
}
