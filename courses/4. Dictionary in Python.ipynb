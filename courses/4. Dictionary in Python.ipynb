{
 "cells": [
  {
   "cell_type": "markdown",
   "id": "a727ff4b",
   "metadata": {},
   "source": [
    "# Python: Dictionaries "
   ]
  },
  {
   "cell_type": "markdown",
   "id": "8bb38b42",
   "metadata": {},
   "source": [
    "## What is a dictionary?"
   ]
  },
  {
   "cell_type": "code",
   "execution_count": 1,
   "id": "b6f7c1d2",
   "metadata": {},
   "outputs": [
    {
     "name": "stdout",
     "output_type": "stream",
     "text": [
      "17\n"
     ]
    }
   ],
   "source": [
    "# Motivation\n",
    "students = [\"Lecun\", \"Benjio\", \"Karpathy\", \"Hinton\"]\n",
    "scores = [16, 15, 17, 14]\n",
    "\n",
    "index = [0, 1, 2, 3]\n",
    "name = \"Karpathy\"\n",
    "score = 0\n",
    "\n",
    "for id in index:\n",
    "    if students[id] == name:\n",
    "        score = scores[id]\n",
    "        \n",
    "print(score)"
   ]
  },
  {
   "cell_type": "code",
   "execution_count": 2,
   "id": "bd6dd97d",
   "metadata": {},
   "outputs": [
    {
     "name": "stdout",
     "output_type": "stream",
     "text": [
      "{'Lecun': 16, 'Benjio': 15, 'Karpathy': 17, 'Hinton': 14}\n"
     ]
    }
   ],
   "source": [
    "# With dictionaries\n",
    "scores = {}\n",
    "\n",
    "scores[\"Lecun\"] = 16\n",
    "scores[\"Benjio\"] = 15\n",
    "scores[\"Karpathy\"] = 17\n",
    "scores[\"Hinton\"] = 14\n",
    "\n",
    "print(scores)"
   ]
  },
  {
   "cell_type": "code",
   "execution_count": 3,
   "id": "7dbbf6d8",
   "metadata": {},
   "outputs": [
    {
     "data": {
      "text/plain": [
       "{'Dog': 110, 'Cat': 50, 'Chicken': 30, 'Cow': 10}"
      ]
     },
     "execution_count": 3,
     "metadata": {},
     "output_type": "execute_result"
    }
   ],
   "source": [
    "# Create dictionary with values\n",
    "animals = {\"Dog\": 110, \"Cat\": 50, \"Chicken\": 30, \"Cow\": 10}\n",
    "animals"
   ]
  },
  {
   "cell_type": "code",
   "execution_count": 4,
   "id": "fbc738a7",
   "metadata": {},
   "outputs": [
    {
     "data": {
      "text/plain": [
       "{'Dog': 120, 'Cat': 50, 'Chicken': 30, 'Cow': 10}"
      ]
     },
     "execution_count": 4,
     "metadata": {},
     "output_type": "execute_result"
    }
   ],
   "source": [
    "# Modifying dictionary values\n",
    "animals[\"Dog\"] = 120\n",
    "animals"
   ]
  },
  {
   "cell_type": "code",
   "execution_count": 5,
   "id": "6373d4ed",
   "metadata": {},
   "outputs": [
    {
     "data": {
      "text/plain": [
       "{'Dog': 120, 'Cat': 50, 'Chicken': 30, 'Cow': 15}"
      ]
     },
     "execution_count": 5,
     "metadata": {},
     "output_type": "execute_result"
    }
   ],
   "source": [
    "animals[\"Cow\"] = animals[\"Cow\"] + 5\n",
    "animals"
   ]
  },
  {
   "cell_type": "markdown",
   "id": "8a09c45f",
   "metadata": {},
   "source": [
    "### Training"
   ]
  },
  {
   "cell_type": "code",
   "execution_count": 6,
   "id": "c30191d4",
   "metadata": {},
   "outputs": [
    {
     "data": {
      "text/plain": [
       "{'Lecun': 16, 'Benjio': 15, 'Karpathy': 17, 'Hinton': 14}"
      ]
     },
     "execution_count": 6,
     "metadata": {},
     "output_type": "execute_result"
    }
   ],
   "source": [
    "scores"
   ]
  },
  {
   "cell_type": "code",
   "execution_count": 7,
   "id": "a88c40f6",
   "metadata": {},
   "outputs": [
    {
     "data": {
      "text/plain": [
       "{'Lecun': 16, 'Benjio': 15, 'Karpathy': 17, 'Hinton': 14, 'Niang': 18}"
      ]
     },
     "execution_count": 7,
     "metadata": {},
     "output_type": "execute_result"
    }
   ],
   "source": [
    "scores[\"Niang\"] = 18\n",
    "scores"
   ]
  },
  {
   "cell_type": "code",
   "execution_count": 8,
   "id": "fe27ce40",
   "metadata": {},
   "outputs": [
    {
     "data": {
      "text/plain": [
       "{'Lecun': 16, 'Benjio': 15, 'Karpathy': 17, 'Hinton': 18, 'Niang': 18}"
      ]
     },
     "execution_count": 8,
     "metadata": {},
     "output_type": "execute_result"
    }
   ],
   "source": [
    "scores[\"Hinton\"] = scores[\"Hinton\"] + 4\n",
    "scores"
   ]
  },
  {
   "cell_type": "code",
   "execution_count": 9,
   "id": "25a15210",
   "metadata": {},
   "outputs": [
    {
     "data": {
      "text/plain": [
       "{'Lecun': 16, 'Benjio': 15, 'Karpathy': 17, 'Hinton': 18, 'Niang': 10}"
      ]
     },
     "execution_count": 9,
     "metadata": {},
     "output_type": "execute_result"
    }
   ],
   "source": [
    "scores[\"Niang\"] = 10\n",
    "scores"
   ]
  },
  {
   "cell_type": "code",
   "execution_count": 10,
   "id": "a0d095e9",
   "metadata": {},
   "outputs": [
    {
     "data": {
      "text/plain": [
       "True"
      ]
     },
     "execution_count": 10,
     "metadata": {},
     "output_type": "execute_result"
    }
   ],
   "source": [
    "benjio_found = \"Benjio\" in scores\n",
    "benjio_found"
   ]
  },
  {
   "cell_type": "code",
   "execution_count": 11,
   "id": "0cdc7e2a",
   "metadata": {},
   "outputs": [
    {
     "data": {
      "text/plain": [
       "False"
      ]
     },
     "execution_count": 11,
     "metadata": {},
     "output_type": "execute_result"
    }
   ],
   "source": [
    "musk_found = \"Musk\" in scores\n",
    "musk_found"
   ]
  },
  {
   "cell_type": "markdown",
   "id": "a1206552",
   "metadata": {},
   "source": [
    "## The IF/ELSE condition"
   ]
  },
  {
   "cell_type": "code",
   "execution_count": 12,
   "id": "474c62bc",
   "metadata": {},
   "outputs": [
    {
     "name": "stdout",
     "output_type": "stream",
     "text": [
      "It is hot!\n"
     ]
    }
   ],
   "source": [
    "# Motivation\n",
    "temperature = 50\n",
    "\n",
    "if temperature > 40:\n",
    "    print(\"It is hot!\")\n",
    "if temperature <= 40:\n",
    "    print(\"It's cold!\")"
   ]
  },
  {
   "cell_type": "code",
   "execution_count": 13,
   "id": "26b93253",
   "metadata": {},
   "outputs": [
    {
     "name": "stdout",
     "output_type": "stream",
     "text": [
      "It's cold!\n"
     ]
    }
   ],
   "source": [
    "# Example 1\n",
    "temperature = 20\n",
    "\n",
    "if temperature > 40:\n",
    "    print(\"It is hot!\")\n",
    "else:\n",
    "    print(\"It's cold!\")"
   ]
  },
  {
   "cell_type": "code",
   "execution_count": 14,
   "id": "75ff782a",
   "metadata": {},
   "outputs": [
    {
     "name": "stdout",
     "output_type": "stream",
     "text": [
      "[50]\n",
      "[20, 10, 35]\n"
     ]
    }
   ],
   "source": [
    "# Example 2\n",
    "temperatures = [50, 20, 10, 35]\n",
    "\n",
    "high_temperatures = []\n",
    "low_temperatures = []\n",
    "\n",
    "for temperature in temperatures:\n",
    "    if temperature > 40:\n",
    "        high_temperatures.append(temperature)\n",
    "    else:\n",
    "        low_temperatures.append(temperature)\n",
    "\n",
    "print(high_temperatures)\n",
    "print(low_temperatures)"
   ]
  },
  {
   "cell_type": "markdown",
   "id": "5febf716",
   "metadata": {},
   "source": [
    "### Training"
   ]
  },
  {
   "cell_type": "code",
   "execution_count": 15,
   "id": "d5872bc9",
   "metadata": {},
   "outputs": [
    {
     "name": "stdout",
     "output_type": "stream",
     "text": [
      "['Mercure', 'Jupyter', 'Saturne', 'Neptune', 'Uranus']\n",
      "['Venus', 'Terre', 'Mars']\n"
     ]
    }
   ],
   "source": [
    "planet_names = [\"Mercure\", \"Venus\", \"Terre\", \"Mars\", \"Jupyter\", \"Saturne\", \"Neptune\", \"Uranus\"]\n",
    "\n",
    "long_names = []\n",
    "short_names = []\n",
    "\n",
    "for planet in planet_names:\n",
    "    if len(planet) > 5:\n",
    "        long_names.append(planet)\n",
    "    else:\n",
    "        short_names.append(planet)\n",
    "\n",
    "print(long_names)\n",
    "print(short_names)"
   ]
  },
  {
   "cell_type": "markdown",
   "id": "13df6c17",
   "metadata": {},
   "source": [
    "## Count the elements of a list and present the results in a dictionary"
   ]
  },
  {
   "cell_type": "code",
   "execution_count": 16,
   "id": "95fe55e6",
   "metadata": {},
   "outputs": [
    {
     "name": "stdout",
     "output_type": "stream",
     "text": [
      "{'Lemon': 1, 'Banana': 3, 'Apple': 4}\n"
     ]
    }
   ],
   "source": [
    "# Example\n",
    "fruits = [\"Lemon\", \"Banana\", \"Apple\", \"Apple\", \"Apple\", \"Banana\", \"Banana\", \"Apple\"]\n",
    "\n",
    "fruits_counts = {}\n",
    "\n",
    "for fruit in fruits:\n",
    "    if fruit in fruits_counts:\n",
    "        fruits_counts[fruit] += 1\n",
    "    else:\n",
    "        fruits_counts[fruit] = 1\n",
    "        \n",
    "print(fruits_counts)"
   ]
  },
  {
   "cell_type": "markdown",
   "id": "1948684a",
   "metadata": {},
   "source": [
    "### Training"
   ]
  },
  {
   "cell_type": "code",
   "execution_count": 17,
   "id": "49549aaa",
   "metadata": {},
   "outputs": [
    {
     "name": "stdout",
     "output_type": "stream",
     "text": [
      "['Soleil', 'Soleil', 'Soleil', 'Soleil', 'Soleil']\n"
     ]
    }
   ],
   "source": [
    "weather_data = []\n",
    "\n",
    "f = open(\"madrid_weather_2016.csv\", \"r\")\n",
    "data = f.read()\n",
    "rows = data.split('\\n')\n",
    "for row in rows:\n",
    "    split_row = row.split(',')\n",
    "    weather_data.append(split_row)\n",
    "\n",
    "weather_data = weather_data[1:]\n",
    "\n",
    "weathers = []\n",
    "\n",
    "for row in weather_data:\n",
    "    weathers.append(row[1])\n",
    "    \n",
    "print(weathers[0:5])"
   ]
  },
  {
   "cell_type": "code",
   "execution_count": 18,
   "id": "e38f84b5",
   "metadata": {},
   "outputs": [
    {
     "name": "stdout",
     "output_type": "stream",
     "text": [
      "{'Soleil': 210, 'Pluie': 25, 'Nuage': 125, 'Nuage-Pluie': 4, 'Orage': 1}\n"
     ]
    }
   ],
   "source": [
    "weather_counts = {}\n",
    "\n",
    "for weather in weathers:\n",
    "    if weather not in weather_counts:\n",
    "        weather_counts[weather] = 1\n",
    "    else:\n",
    "        weather_counts[weather] += 1\n",
    "    \n",
    "print(weather_counts)"
   ]
  }
 ],
 "metadata": {
  "kernelspec": {
   "display_name": "Python 3 (ipykernel)",
   "language": "python",
   "name": "python3"
  },
  "language_info": {
   "codemirror_mode": {
    "name": "ipython",
    "version": 3
   },
   "file_extension": ".py",
   "mimetype": "text/x-python",
   "name": "python",
   "nbconvert_exporter": "python",
   "pygments_lexer": "ipython3",
   "version": "3.9.7"
  }
 },
 "nbformat": 4,
 "nbformat_minor": 5
}
