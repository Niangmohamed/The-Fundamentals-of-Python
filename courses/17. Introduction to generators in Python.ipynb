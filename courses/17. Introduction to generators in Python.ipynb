{
 "cells": [
  {
   "cell_type": "markdown",
   "id": "50e9c4d4",
   "metadata": {},
   "source": [
    "# Python: Introduction to generators"
   ]
  },
  {
   "cell_type": "markdown",
   "id": "1f3f0b14",
   "metadata": {},
   "source": [
    "**Goal**: Understanding generators and how to use them!"
   ]
  },
  {
   "cell_type": "markdown",
   "id": "a110d82e",
   "metadata": {},
   "source": [
    "## Introduction"
   ]
  },
  {
   "cell_type": "markdown",
   "id": "6ad40501",
   "metadata": {},
   "source": [
    "Before you start talking about ``generators``, first let understand ``iterators``. An ``iterator`` is an ``object`` that enables a programmer a container, particularly ``lists``. However, an ``iterator`` performs traversal and gives access to data elements in a container, but does not perform iteration. You might be confused, so lets take it a bit slow. There are three parts namely: ``iterable``, ``iterator`` and ``iteration``. All of these parts are linked to each other. We will discuss them one by one and later talk about ``generators``."
   ]
  },
  {
   "cell_type": "markdown",
   "id": "1ec962fe",
   "metadata": {},
   "source": [
    "## Iterable"
   ]
  },
  {
   "cell_type": "markdown",
   "id": "4cc8b39e",
   "metadata": {},
   "source": [
    "An ``iterable`` is any object in Python which has an ``__iter__`` or a ``__getitem__`` method defined which returns an ``iterator`` or can take indexes. In short an ``iterable`` is any object which can provide us with an ``iterator``. So what is an ``iterator``."
   ]
  },
  {
   "cell_type": "markdown",
   "id": "a74df6d8",
   "metadata": {},
   "source": [
    "## Iterator"
   ]
  },
  {
   "cell_type": "markdown",
   "id": "02f68fdf",
   "metadata": {},
   "source": [
    "An ``iterator`` is any object in Python which has a ``next()`` or ``__next__`` method defined. Now let's understand ``iteration``."
   ]
  },
  {
   "cell_type": "markdown",
   "id": "3bb231a2",
   "metadata": {},
   "source": [
    "## Iteration"
   ]
  },
  {
   "cell_type": "markdown",
   "id": "6249df20",
   "metadata": {},
   "source": [
    "In simple words it is the process of taking an item from something e.g a list. When we use a loop to loop over something it is called ``iteration``. It is the name given to the process itself. Now as we have a basic understanding of these terms let's understand ``generators``."
   ]
  },
  {
   "cell_type": "markdown",
   "id": "98fb433c",
   "metadata": {},
   "source": [
    "## Generators"
   ]
  },
  {
   "cell_type": "markdown",
   "id": "6362e34f",
   "metadata": {},
   "source": [
    "``Generators`` are ``iterators``, but you can only iterate over them once. It's because they do not store all the values in memory, they generate the values on the fly. Python ``generators`` are the functions that are similar to a normal functions defined using ``def`` keyword but uses ``yield`` statement instead of a ``return`` statement. You use them by iterating over them, a ``generators`` function returns the ``generator`` object with a sequences of elements, which we can iterate over. Elements in a ``generators`` object can be accessed either by using the ``next()`` function or using a ``for`` loop. Most of the time, ``generators`` are implemented as functions. "
   ]
  },
  {
   "cell_type": "markdown",
   "id": "ce69ed11",
   "metadata": {},
   "source": [
    "## Creating generator"
   ]
  },
  {
   "cell_type": "code",
   "execution_count": 1,
   "id": "54864f8c",
   "metadata": {},
   "outputs": [],
   "source": [
    "def generator_func():\n",
    "    yield 10 \n",
    "    yield 20.0\n",
    "    yield \"Hello World!\""
   ]
  },
  {
   "cell_type": "code",
   "execution_count": 2,
   "id": "3b0faef1",
   "metadata": {},
   "outputs": [
    {
     "name": "stdout",
     "output_type": "stream",
     "text": [
      "<generator object generator_func at 0x0000012FD881CEB0>\n"
     ]
    }
   ],
   "source": [
    "print(generator_func())"
   ]
  },
  {
   "cell_type": "code",
   "execution_count": 3,
   "id": "2fc6e86f",
   "metadata": {},
   "outputs": [
    {
     "name": "stdout",
     "output_type": "stream",
     "text": [
      "<class 'generator'>\n"
     ]
    }
   ],
   "source": [
    "print(type(generator_func()))"
   ]
  },
  {
   "cell_type": "markdown",
   "id": "6af8ea90",
   "metadata": {},
   "source": [
    "## Accessing generator elements using next()"
   ]
  },
  {
   "cell_type": "code",
   "execution_count": 4,
   "id": "6c0a0d7e",
   "metadata": {},
   "outputs": [],
   "source": [
    "# creating a generator object\n",
    "generator_obj = generator_func()"
   ]
  },
  {
   "cell_type": "code",
   "execution_count": 5,
   "id": "a99bbcb6",
   "metadata": {},
   "outputs": [
    {
     "name": "stdout",
     "output_type": "stream",
     "text": [
      "10\n"
     ]
    }
   ],
   "source": [
    "# access to first element\n",
    "print(next(generator_obj))"
   ]
  },
  {
   "cell_type": "code",
   "execution_count": 6,
   "id": "bc25ce7d",
   "metadata": {},
   "outputs": [
    {
     "name": "stdout",
     "output_type": "stream",
     "text": [
      "20.0\n"
     ]
    }
   ],
   "source": [
    "# access to second element\n",
    "print(next(generator_obj))"
   ]
  },
  {
   "cell_type": "code",
   "execution_count": 7,
   "id": "2ff2a013",
   "metadata": {},
   "outputs": [
    {
     "name": "stdout",
     "output_type": "stream",
     "text": [
      "Hello World!\n"
     ]
    }
   ],
   "source": [
    "# access to third element\n",
    "print(next(generator_obj))"
   ]
  },
  {
   "cell_type": "code",
   "execution_count": 8,
   "id": "eb8d8d78",
   "metadata": {},
   "outputs": [
    {
     "ename": "StopIteration",
     "evalue": "",
     "output_type": "error",
     "traceback": [
      "\u001b[1;31m---------------------------------------------------------------------------\u001b[0m",
      "\u001b[1;31mStopIteration\u001b[0m                             Traceback (most recent call last)",
      "\u001b[1;32m~\\AppData\\Local\\Temp/ipykernel_8772/2238312109.py\u001b[0m in \u001b[0;36m<module>\u001b[1;34m\u001b[0m\n\u001b[0;32m      1\u001b[0m \u001b[1;31m# ???\u001b[0m\u001b[1;33m\u001b[0m\u001b[1;33m\u001b[0m\u001b[0m\n\u001b[1;32m----> 2\u001b[1;33m \u001b[0mprint\u001b[0m\u001b[1;33m(\u001b[0m\u001b[0mnext\u001b[0m\u001b[1;33m(\u001b[0m\u001b[0mgenerator_obj\u001b[0m\u001b[1;33m)\u001b[0m\u001b[1;33m)\u001b[0m\u001b[1;33m\u001b[0m\u001b[1;33m\u001b[0m\u001b[0m\n\u001b[0m",
      "\u001b[1;31mStopIteration\u001b[0m: "
     ]
    }
   ],
   "source": [
    "# ???\n",
    "print(next(generator_obj))"
   ]
  },
  {
   "cell_type": "markdown",
   "id": "4b09afb7",
   "metadata": {},
   "source": [
    "As we can see that after yielding all the values ``next()`` caused a ``StopIteration error``. Basically this error informs us that all the values have been yielded. You might be wondering why we don’t get this error when using a for loop? Well the answer is simple. The ``for`` loop automatically catches this error and stops calling next."
   ]
  },
  {
   "cell_type": "markdown",
   "id": "640ba8b9",
   "metadata": {},
   "source": [
    "## Accessing generator elements using for loop"
   ]
  },
  {
   "cell_type": "code",
   "execution_count": 9,
   "id": "765d3386",
   "metadata": {},
   "outputs": [],
   "source": [
    "# creating a generator object\n",
    "generator_obj = generator_func()"
   ]
  },
  {
   "cell_type": "code",
   "execution_count": 10,
   "id": "eaeaef74",
   "metadata": {},
   "outputs": [
    {
     "name": "stdout",
     "output_type": "stream",
     "text": [
      "10\n",
      "20.0\n",
      "Hello World!\n"
     ]
    }
   ],
   "source": [
    "# access to elements using for loop\n",
    "for element1 in generator_obj:\n",
    "    print(element1)\n",
    "    \n",
    "for element2 in generator_obj:\n",
    "    print(element2)"
   ]
  },
  {
   "cell_type": "markdown",
   "id": "aada1f5d",
   "metadata": {},
   "source": [
    "## Iteration in a generator"
   ]
  },
  {
   "cell_type": "markdown",
   "id": "2aec0d45",
   "metadata": {},
   "source": [
    "The ``generator`` objects can be iterated ``only once``. As you can see, in previous example we iterated over ``generator`` object two times but the ``generator`` elements are printed only once which illustrates that we can iterate over ``generator`` object ``once``. So to iterate over ``generator`` again, we need to create another ``generator`` object as shown in the following example."
   ]
  },
  {
   "cell_type": "code",
   "execution_count": 11,
   "id": "a0657cdc",
   "metadata": {},
   "outputs": [],
   "source": [
    "# creating two generators object\n",
    "generator_obj_1 = generator_func()\n",
    "generator_obj_2 = generator_func()"
   ]
  },
  {
   "cell_type": "code",
   "execution_count": 12,
   "id": "dc446e5e",
   "metadata": {},
   "outputs": [
    {
     "name": "stdout",
     "output_type": "stream",
     "text": [
      "10\n",
      "20.0\n",
      "Hello World!\n"
     ]
    }
   ],
   "source": [
    "# using the first generator\n",
    "for element1 in generator_obj_1:\n",
    "    print(element1)"
   ]
  },
  {
   "cell_type": "code",
   "execution_count": 13,
   "id": "e3697ddd",
   "metadata": {},
   "outputs": [
    {
     "name": "stdout",
     "output_type": "stream",
     "text": [
      "10\n",
      "20.0\n",
      "Hello World!\n"
     ]
    }
   ],
   "source": [
    "# using the second generator\n",
    "for element2 in generator_obj_2:\n",
    "    print(element2)"
   ]
  },
  {
   "cell_type": "markdown",
   "id": "96070348",
   "metadata": {},
   "source": [
    "## Generator expression"
   ]
  },
  {
   "cell_type": "markdown",
   "id": "d38f2492",
   "metadata": {},
   "source": [
    "``Generator`` expression provides an easy and concise way to create ``generators`` without definiting the ``generator`` function. ``Generator`` expression is similar to the ``list comprehension`` in Python. But the only difference is that it uses round parentheses instead of square brackets. A ``list comprehension`` produces the entire list, whereas the ``generator`` expression doesn't produce the immediate result instead it returns the ``generator`` object and produces one item at a time (only when asked for)."
   ]
  },
  {
   "cell_type": "code",
   "execution_count": 14,
   "id": "1b57c605",
   "metadata": {},
   "outputs": [
    {
     "data": {
      "text/plain": [
       "[1, 2, 3, 4, 5]"
      ]
     },
     "execution_count": 14,
     "metadata": {},
     "output_type": "execute_result"
    }
   ],
   "source": [
    "# example\n",
    "numbers = [1, 2, 3, 4, 5]\n",
    "numbers"
   ]
  },
  {
   "cell_type": "code",
   "execution_count": 15,
   "id": "c769069b",
   "metadata": {},
   "outputs": [
    {
     "data": {
      "text/plain": [
       "[1, 4, 9, 16, 25]"
      ]
     },
     "execution_count": 15,
     "metadata": {},
     "output_type": "execute_result"
    }
   ],
   "source": [
    "# list comprehension\n",
    "list_square_numbers = [x**2 for x in numbers]\n",
    "list_square_numbers"
   ]
  },
  {
   "cell_type": "code",
   "execution_count": 16,
   "id": "fac75a79",
   "metadata": {},
   "outputs": [
    {
     "data": {
      "text/plain": [
       "<generator object <genexpr> at 0x0000012FD8A8C200>"
      ]
     },
     "execution_count": 16,
     "metadata": {},
     "output_type": "execute_result"
    }
   ],
   "source": [
    "# generator expression\n",
    "gen_square_numbers = (x**2 for x in numbers)\n",
    "gen_square_numbers"
   ]
  },
  {
   "cell_type": "code",
   "execution_count": 17,
   "id": "659045bf",
   "metadata": {},
   "outputs": [
    {
     "name": "stdout",
     "output_type": "stream",
     "text": [
      "1 4 9 16 25 "
     ]
    }
   ],
   "source": [
    "# display elements of our generator expression using for loop\n",
    "for number in gen_square_numbers:\n",
    "    print(number, end=\" \")"
   ]
  },
  {
   "cell_type": "markdown",
   "id": "67e578c6",
   "metadata": {},
   "source": [
    "## Improve generators creation"
   ]
  },
  {
   "cell_type": "markdown",
   "id": "18110fc7",
   "metadata": {},
   "source": [
    "The example given above is not very useful in the sense that we want to return several elements. To make the function much more useful, a ``for`` loop is often used inside the function by iterating for example on an iterable, a ``list`` for example."
   ]
  },
  {
   "cell_type": "code",
   "execution_count": 18,
   "id": "b742cab6",
   "metadata": {},
   "outputs": [],
   "source": [
    "def generator_func():\n",
    "    for i in range(10):\n",
    "        yield i"
   ]
  },
  {
   "cell_type": "code",
   "execution_count": 19,
   "id": "fc95c333",
   "metadata": {},
   "outputs": [
    {
     "name": "stdout",
     "output_type": "stream",
     "text": [
      "0\n",
      "1\n",
      "2\n",
      "3\n",
      "4\n",
      "5\n",
      "6\n",
      "7\n",
      "8\n",
      "9\n"
     ]
    }
   ],
   "source": [
    "for item in generator_func():\n",
    "    print(item)"
   ]
  },
  {
   "cell_type": "markdown",
   "id": "25fb9160",
   "metadata": {},
   "source": [
    "It is not really useful in this case. ``Generators`` are best for calculating large sets of results (particularly calculations involving loops themselves) where you don’t want to ``allocate the memory`` for all results at the same time. Many Standard Library functions that return lists in Python 2 have been modified to return ``generators`` in Python 3 because ``generators require fewer resources``."
   ]
  },
  {
   "cell_type": "markdown",
   "id": "0caf320d",
   "metadata": {},
   "source": [
    "## Creating an iterator"
   ]
  },
  {
   "cell_type": "markdown",
   "id": "b0d3ae22",
   "metadata": {},
   "source": [
    "To create an ``iterator``, we use the built-in ``iter()`` function of Python on an ``iterable`` object."
   ]
  },
  {
   "cell_type": "code",
   "execution_count": 20,
   "id": "d2655d5a",
   "metadata": {},
   "outputs": [
    {
     "ename": "TypeError",
     "evalue": "'str' object is not an iterator",
     "output_type": "error",
     "traceback": [
      "\u001b[1;31m---------------------------------------------------------------------------\u001b[0m",
      "\u001b[1;31mTypeError\u001b[0m                                 Traceback (most recent call last)",
      "\u001b[1;32m~\\AppData\\Local\\Temp/ipykernel_8772/2456934549.py\u001b[0m in \u001b[0;36m<module>\u001b[1;34m\u001b[0m\n\u001b[0;32m      1\u001b[0m \u001b[1;31m# example\u001b[0m\u001b[1;33m\u001b[0m\u001b[1;33m\u001b[0m\u001b[0m\n\u001b[0;32m      2\u001b[0m \u001b[0mmy_string\u001b[0m \u001b[1;33m=\u001b[0m \u001b[1;34m\"Hello World!\"\u001b[0m\u001b[1;33m\u001b[0m\u001b[1;33m\u001b[0m\u001b[0m\n\u001b[1;32m----> 3\u001b[1;33m \u001b[0mnext\u001b[0m\u001b[1;33m(\u001b[0m\u001b[0mmy_string\u001b[0m\u001b[1;33m)\u001b[0m\u001b[1;33m\u001b[0m\u001b[1;33m\u001b[0m\u001b[0m\n\u001b[0m",
      "\u001b[1;31mTypeError\u001b[0m: 'str' object is not an iterator"
     ]
    }
   ],
   "source": [
    "# example\n",
    "my_string = \"Hello World!\"\n",
    "next(my_string)"
   ]
  },
  {
   "cell_type": "markdown",
   "id": "57ac4c23",
   "metadata": {},
   "source": [
    "Well that’s not what we expected. The error says that ``str is not an iterator``. Well it’s right! It’s an ``iterable`` but not an ``iterator``. This means that it supports ``iteration`` but we can’t ``iterate`` over it directly. So how would we ``iterate`` over it? It’s time to learn about one more built-in function, ``iter()``. It returns an ``iterator`` object from an ``iterable``. While an ``int`` isn’t an ``iterable``, we can use it on ``string``."
   ]
  },
  {
   "cell_type": "code",
   "execution_count": 21,
   "id": "d4c4b706",
   "metadata": {},
   "outputs": [
    {
     "ename": "TypeError",
     "evalue": "'int' object is not iterable",
     "output_type": "error",
     "traceback": [
      "\u001b[1;31m---------------------------------------------------------------------------\u001b[0m",
      "\u001b[1;31mTypeError\u001b[0m                                 Traceback (most recent call last)",
      "\u001b[1;32m~\\AppData\\Local\\Temp/ipykernel_8772/4085987396.py\u001b[0m in \u001b[0;36m<module>\u001b[1;34m\u001b[0m\n\u001b[0;32m      1\u001b[0m \u001b[1;31m# example for int object\u001b[0m\u001b[1;33m\u001b[0m\u001b[1;33m\u001b[0m\u001b[0m\n\u001b[0;32m      2\u001b[0m \u001b[0mint_var\u001b[0m \u001b[1;33m=\u001b[0m \u001b[1;36m1779\u001b[0m\u001b[1;33m\u001b[0m\u001b[1;33m\u001b[0m\u001b[0m\n\u001b[1;32m----> 3\u001b[1;33m \u001b[0miter\u001b[0m\u001b[1;33m(\u001b[0m\u001b[0mint_var\u001b[0m\u001b[1;33m)\u001b[0m\u001b[1;33m\u001b[0m\u001b[1;33m\u001b[0m\u001b[0m\n\u001b[0m",
      "\u001b[1;31mTypeError\u001b[0m: 'int' object is not iterable"
     ]
    }
   ],
   "source": [
    "# example for int object\n",
    "int_var = 1779\n",
    "iter(int_var)"
   ]
  },
  {
   "cell_type": "code",
   "execution_count": 22,
   "id": "e86aadb4",
   "metadata": {},
   "outputs": [
    {
     "name": "stdout",
     "output_type": "stream",
     "text": [
      "H\n"
     ]
    }
   ],
   "source": [
    "# example for string object\n",
    "my_string = \"Hello World!\"\n",
    "my_iter = iter(my_string)\n",
    "print(next(my_iter))"
   ]
  },
  {
   "cell_type": "markdown",
   "id": "6dd0f594",
   "metadata": {},
   "source": [
    "Now that is much better. I am sure that you loved learning about ``generators``. Do bear it in mind that you can fully grasp this concept only when you use it. Make sure that you follow this pattern and use generators whenever they make sense to you. You won’t be disappointed!"
   ]
  }
 ],
 "metadata": {
  "kernelspec": {
   "display_name": "Python 3 (ipykernel)",
   "language": "python",
   "name": "python3"
  },
  "language_info": {
   "codemirror_mode": {
    "name": "ipython",
    "version": 3
   },
   "file_extension": ".py",
   "mimetype": "text/x-python",
   "name": "python",
   "nbconvert_exporter": "python",
   "pygments_lexer": "ipython3",
   "version": "3.9.7"
  }
 },
 "nbformat": 4,
 "nbformat_minor": 5
}
