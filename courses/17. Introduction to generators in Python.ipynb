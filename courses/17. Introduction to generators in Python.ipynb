{
 "cells": [
  {
   "cell_type": "markdown",
   "id": "50e9c4d4",
   "metadata": {},
   "source": [
    "# Python: Introduction to generators"
   ]
  },
  {
   "attachments": {},
   "cell_type": "markdown",
   "id": "1f3f0b14",
   "metadata": {},
   "source": [
    "**Goal**: Understanding generators and how to use them!"
   ]
  },
  {
   "cell_type": "markdown",
   "id": "98fb433c",
   "metadata": {},
   "source": [
    "## What are generators?"
   ]
  },
  {
   "cell_type": "markdown",
   "id": "6362e34f",
   "metadata": {},
   "source": [
    "Python ``generators`` are the functions that are similar to a normal functions defined using ``def`` keyword but uses ``yield`` statement instead of a ``return`` statement. A ``generators`` function returns the ``generator`` object with a sequences of elements, which we can iterate over. Elements in a ``generators`` object can be accessed either by using the ``next()`` function or using a ``for`` loop."
   ]
  },
  {
   "cell_type": "markdown",
   "id": "ce69ed11",
   "metadata": {},
   "source": [
    "## Creating generator"
   ]
  },
  {
   "cell_type": "code",
   "execution_count": 1,
   "id": "54864f8c",
   "metadata": {},
   "outputs": [],
   "source": [
    "def generator_func():\n",
    "    yield 10 \n",
    "    yield 20.0\n",
    "    yield \"Hello World!\""
   ]
  },
  {
   "cell_type": "code",
   "execution_count": 2,
   "id": "3b0faef1",
   "metadata": {},
   "outputs": [
    {
     "name": "stdout",
     "output_type": "stream",
     "text": [
      "<generator object generator_func at 0x000001D214B890B0>\n"
     ]
    }
   ],
   "source": [
    "print(generator_func())"
   ]
  },
  {
   "cell_type": "code",
   "execution_count": 3,
   "id": "2fc6e86f",
   "metadata": {},
   "outputs": [
    {
     "name": "stdout",
     "output_type": "stream",
     "text": [
      "<class 'generator'>\n"
     ]
    }
   ],
   "source": [
    "print(type(generator_func()))"
   ]
  },
  {
   "cell_type": "markdown",
   "id": "6af8ea90",
   "metadata": {},
   "source": [
    "## Accessing generator elements using next()"
   ]
  },
  {
   "cell_type": "code",
   "execution_count": 4,
   "id": "6c0a0d7e",
   "metadata": {},
   "outputs": [],
   "source": [
    "# creating a generator object\n",
    "generator_obj = generator_func()"
   ]
  },
  {
   "cell_type": "code",
   "execution_count": 5,
   "id": "a99bbcb6",
   "metadata": {},
   "outputs": [
    {
     "name": "stdout",
     "output_type": "stream",
     "text": [
      "10\n"
     ]
    }
   ],
   "source": [
    "# access to first element\n",
    "print(next(generator_obj))"
   ]
  },
  {
   "cell_type": "code",
   "execution_count": 6,
   "id": "bc25ce7d",
   "metadata": {},
   "outputs": [
    {
     "name": "stdout",
     "output_type": "stream",
     "text": [
      "20.0\n"
     ]
    }
   ],
   "source": [
    "# access to second element\n",
    "print(next(generator_obj))"
   ]
  },
  {
   "cell_type": "code",
   "execution_count": 7,
   "id": "2ff2a013",
   "metadata": {},
   "outputs": [
    {
     "name": "stdout",
     "output_type": "stream",
     "text": [
      "Hello World!\n"
     ]
    }
   ],
   "source": [
    "# access to third element\n",
    "print(next(generator_obj))"
   ]
  },
  {
   "cell_type": "markdown",
   "id": "640ba8b9",
   "metadata": {},
   "source": [
    "## Accessing generator elements using for loop"
   ]
  },
  {
   "cell_type": "code",
   "execution_count": 8,
   "id": "765d3386",
   "metadata": {},
   "outputs": [],
   "source": [
    "# creating a generator object\n",
    "generator_obj = generator_func()"
   ]
  },
  {
   "cell_type": "code",
   "execution_count": 9,
   "id": "eaeaef74",
   "metadata": {},
   "outputs": [
    {
     "name": "stdout",
     "output_type": "stream",
     "text": [
      "10\n",
      "20.0\n",
      "Hello World!\n"
     ]
    }
   ],
   "source": [
    "# access to elements using for loop\n",
    "for element1 in generator_obj:\n",
    "    print(element1)\n",
    "    \n",
    "for element2 in generator_obj:\n",
    "    print(element2)"
   ]
  },
  {
   "cell_type": "markdown",
   "id": "aada1f5d",
   "metadata": {},
   "source": [
    "## Iteration in a generator"
   ]
  },
  {
   "cell_type": "markdown",
   "id": "2aec0d45",
   "metadata": {},
   "source": [
    "The ``generator`` objects can be iterated ``only once``. As you can see, in previous example we iterated over ``generator`` object two times but the ``generator`` elements are printed only once which illustrates that we can iterate over ``generator`` object ``once``. So to iterate over ``generator`` again, we need to create another ``generator`` object as shown in the following example."
   ]
  },
  {
   "cell_type": "code",
   "execution_count": 10,
   "id": "a0657cdc",
   "metadata": {},
   "outputs": [],
   "source": [
    "# creating two generators object\n",
    "generator_obj_1 = generator_func()\n",
    "generator_obj_2 = generator_func()"
   ]
  },
  {
   "cell_type": "code",
   "execution_count": 11,
   "id": "dc446e5e",
   "metadata": {},
   "outputs": [
    {
     "name": "stdout",
     "output_type": "stream",
     "text": [
      "10\n",
      "20.0\n",
      "Hello World!\n"
     ]
    }
   ],
   "source": [
    "# using the first generator\n",
    "for element1 in generator_obj_1:\n",
    "    print(element1)"
   ]
  },
  {
   "cell_type": "code",
   "execution_count": 12,
   "id": "e3697ddd",
   "metadata": {},
   "outputs": [
    {
     "name": "stdout",
     "output_type": "stream",
     "text": [
      "10\n",
      "20.0\n",
      "Hello World!\n"
     ]
    }
   ],
   "source": [
    "# using the second generator\n",
    "for element2 in generator_obj_2:\n",
    "    print(element2)"
   ]
  },
  {
   "cell_type": "markdown",
   "id": "96070348",
   "metadata": {},
   "source": [
    "## Generator expression"
   ]
  },
  {
   "cell_type": "markdown",
   "id": "d38f2492",
   "metadata": {},
   "source": [
    "``Generator`` expression provides an easy and concise way to create ``generators`` without definiting the ``generator`` function. ``Generator`` expression is similar to the ``list comprehension`` in Python. But the only difference is that it uses round parentheses instead of square brackets. A ``list comprehension`` produces the entire list, whereas the ``generator`` expression doesn't produce the immediate result instead it returns the ``generator`` object and produces one item at a time (only when asked for)."
   ]
  },
  {
   "cell_type": "code",
   "execution_count": 13,
   "id": "1b57c605",
   "metadata": {},
   "outputs": [
    {
     "data": {
      "text/plain": [
       "[1, 2, 3, 4, 5]"
      ]
     },
     "execution_count": 13,
     "metadata": {},
     "output_type": "execute_result"
    }
   ],
   "source": [
    "# example\n",
    "numbers = [1, 2, 3, 4, 5]\n",
    "numbers"
   ]
  },
  {
   "cell_type": "code",
   "execution_count": 14,
   "id": "c769069b",
   "metadata": {},
   "outputs": [
    {
     "data": {
      "text/plain": [
       "[1, 4, 9, 16, 25]"
      ]
     },
     "execution_count": 14,
     "metadata": {},
     "output_type": "execute_result"
    }
   ],
   "source": [
    "# list comprehension\n",
    "list_square_numbers = [x**2 for x in numbers]\n",
    "list_square_numbers"
   ]
  },
  {
   "cell_type": "code",
   "execution_count": 15,
   "id": "fac75a79",
   "metadata": {},
   "outputs": [
    {
     "data": {
      "text/plain": [
       "<generator object <genexpr> at 0x000001D214BA32E0>"
      ]
     },
     "execution_count": 15,
     "metadata": {},
     "output_type": "execute_result"
    }
   ],
   "source": [
    "# generator expression\n",
    "gen_square_numbers = (x**2 for x in numbers)\n",
    "gen_square_numbers"
   ]
  },
  {
   "cell_type": "code",
   "execution_count": 16,
   "id": "659045bf",
   "metadata": {},
   "outputs": [
    {
     "name": "stdout",
     "output_type": "stream",
     "text": [
      "1 4 9 16 25 "
     ]
    }
   ],
   "source": [
    "# display elements of our generator expression using for loop\n",
    "for number in gen_square_numbers:\n",
    "    print(number, end=\" \")"
   ]
  }
 ],
 "metadata": {
  "kernelspec": {
   "display_name": "Python 3 (ipykernel)",
   "language": "python",
   "name": "python3"
  },
  "language_info": {
   "codemirror_mode": {
    "name": "ipython",
    "version": 3
   },
   "file_extension": ".py",
   "mimetype": "text/x-python",
   "name": "python",
   "nbconvert_exporter": "python",
   "pygments_lexer": "ipython3",
   "version": "3.9.7"
  }
 },
 "nbformat": 4,
 "nbformat_minor": 5
}
