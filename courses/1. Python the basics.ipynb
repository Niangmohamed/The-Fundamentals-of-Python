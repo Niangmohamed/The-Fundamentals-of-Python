{
 "cells": [
  {
   "cell_type": "markdown",
   "id": "3fd430c5",
   "metadata": {},
   "source": [
    "# Python: the basics"
   ]
  },
  {
   "cell_type": "markdown",
   "id": "df2b66e5",
   "metadata": {},
   "source": [
    "**Goal**: create and display values for variables and lists."
   ]
  },
  {
   "cell_type": "markdown",
   "id": "95dd8ee9",
   "metadata": {},
   "source": [
    "## Variables: create and display a variable"
   ]
  },
  {
   "cell_type": "markdown",
   "id": "2d3d071f",
   "metadata": {},
   "source": [
    "To create a variable, you have to give a variable name and a value. The name of the variable must be on the left and the value must be on the right."
   ]
  },
  {
   "cell_type": "code",
   "execution_count": 1,
   "id": "e981ae62",
   "metadata": {},
   "outputs": [
    {
     "data": {
      "text/plain": [
       "365"
      ]
     },
     "execution_count": 1,
     "metadata": {},
     "output_type": "execute_result"
    }
   ],
   "source": [
    "days = 365\n",
    "days"
   ]
  },
  {
   "cell_type": "markdown",
   "id": "65459768",
   "metadata": {},
   "source": [
    "To have more meaningful names, you can use the **underscore** symbol. "
   ]
  },
  {
   "cell_type": "code",
   "execution_count": 2,
   "id": "cad95dc9",
   "metadata": {},
   "outputs": [],
   "source": [
    "number_days = 365"
   ]
  },
  {
   "cell_type": "code",
   "execution_count": 3,
   "id": "e1368f53",
   "metadata": {},
   "outputs": [],
   "source": [
    "day_1 = 365\n",
    "day_2 = 366"
   ]
  },
  {
   "cell_type": "code",
   "execution_count": 4,
   "id": "66f1d4b8",
   "metadata": {},
   "outputs": [
    {
     "data": {
      "text/plain": [
       "366"
      ]
     },
     "execution_count": 4,
     "metadata": {},
     "output_type": "execute_result"
    }
   ],
   "source": [
    "days = 366\n",
    "days"
   ]
  },
  {
   "cell_type": "code",
   "execution_count": 5,
   "id": "1619000e",
   "metadata": {},
   "outputs": [],
   "source": [
    "spain = 95\n",
    "france = 82\n",
    "canada = 75"
   ]
  },
  {
   "cell_type": "markdown",
   "id": "cf4e3fe3",
   "metadata": {},
   "source": [
    "The display of variables can be done with the **print()** function."
   ]
  },
  {
   "cell_type": "code",
   "execution_count": 6,
   "id": "3dbf7feb",
   "metadata": {},
   "outputs": [
    {
     "name": "stdout",
     "output_type": "stream",
     "text": [
      "95\n"
     ]
    }
   ],
   "source": [
    "print(spain)"
   ]
  },
  {
   "cell_type": "code",
   "execution_count": 7,
   "id": "f25f96ea",
   "metadata": {},
   "outputs": [
    {
     "name": "stdout",
     "output_type": "stream",
     "text": [
      "82\n"
     ]
    }
   ],
   "source": [
    "print(france)"
   ]
  },
  {
   "cell_type": "code",
   "execution_count": 8,
   "id": "f1b6abf0",
   "metadata": {},
   "outputs": [
    {
     "name": "stdout",
     "output_type": "stream",
     "text": [
      "75\n"
     ]
    }
   ],
   "source": [
    "print(canada)"
   ]
  },
  {
   "cell_type": "code",
   "execution_count": 9,
   "id": "05187025",
   "metadata": {},
   "outputs": [
    {
     "name": "stdout",
     "output_type": "stream",
     "text": [
      "95 82 75\n"
     ]
    }
   ],
   "source": [
    "print(spain, france, canada)"
   ]
  },
  {
   "cell_type": "markdown",
   "id": "c599b415",
   "metadata": {},
   "source": [
    "## Variables: data types"
   ]
  },
  {
   "cell_type": "markdown",
   "id": "70bcefb1",
   "metadata": {},
   "source": [
    "Like all other languages, Python has different types of data: integers, floats, string, etc."
   ]
  },
  {
   "cell_type": "code",
   "execution_count": 10,
   "id": "f141d151",
   "metadata": {},
   "outputs": [],
   "source": [
    "# integer\n",
    "france = 123"
   ]
  },
  {
   "cell_type": "markdown",
   "id": "03a3d2dd",
   "metadata": {},
   "source": [
    "To display the type of a variable, we use the **type()** function."
   ]
  },
  {
   "cell_type": "code",
   "execution_count": 11,
   "id": "514c2b73",
   "metadata": {},
   "outputs": [
    {
     "name": "stdout",
     "output_type": "stream",
     "text": [
      "<class 'int'>\n"
     ]
    }
   ],
   "source": [
    "france_type = type(france)\n",
    "print(france_type)"
   ]
  },
  {
   "cell_type": "code",
   "execution_count": 12,
   "id": "e5a1fcf0",
   "metadata": {},
   "outputs": [
    {
     "name": "stdout",
     "output_type": "stream",
     "text": [
      "<class 'float'>\n"
     ]
    }
   ],
   "source": [
    "# float \n",
    "france_exact= 122.5\n",
    "print(type(france_exact))"
   ]
  },
  {
   "cell_type": "code",
   "execution_count": 13,
   "id": "b69df585",
   "metadata": {},
   "outputs": [],
   "source": [
    "hello = 'Hello'\n",
    "hello_world = \"Hello World!\""
   ]
  },
  {
   "cell_type": "code",
   "execution_count": 14,
   "id": "63e87443",
   "metadata": {},
   "outputs": [
    {
     "name": "stdout",
     "output_type": "stream",
     "text": [
      "Hello\n"
     ]
    }
   ],
   "source": [
    "print(hello)"
   ]
  },
  {
   "cell_type": "code",
   "execution_count": 15,
   "id": "cd7420e7",
   "metadata": {},
   "outputs": [
    {
     "name": "stdout",
     "output_type": "stream",
     "text": [
      "<class 'str'>\n"
     ]
    }
   ],
   "source": [
    "print(type(hello))"
   ]
  },
  {
   "cell_type": "code",
   "execution_count": 16,
   "id": "96ff5907",
   "metadata": {},
   "outputs": [],
   "source": [
    "# boolean\n",
    "true_type = True\n",
    "false_type = False"
   ]
  },
  {
   "cell_type": "code",
   "execution_count": 17,
   "id": "2dee8b39",
   "metadata": {},
   "outputs": [
    {
     "name": "stdout",
     "output_type": "stream",
     "text": [
      "True\n"
     ]
    }
   ],
   "source": [
    "print(true_type)"
   ]
  },
  {
   "cell_type": "code",
   "execution_count": 18,
   "id": "0ab6950f",
   "metadata": {},
   "outputs": [
    {
     "name": "stdout",
     "output_type": "stream",
     "text": [
      "<class 'bool'>\n"
     ]
    }
   ],
   "source": [
    "print(type(true_type))"
   ]
  },
  {
   "cell_type": "markdown",
   "id": "e55621d6",
   "metadata": {},
   "source": [
    "It is also possible to convert data from one format to another. For example, to convert an integer to a string, you can use the **str()** function."
   ]
  },
  {
   "cell_type": "code",
   "execution_count": 19,
   "id": "9b83651c",
   "metadata": {},
   "outputs": [
    {
     "name": "stdout",
     "output_type": "stream",
     "text": [
      "2\n"
     ]
    }
   ],
   "source": [
    "two_int = 2\n",
    "two_in_str = str(two_int)\n",
    "print (two_in_str)"
   ]
  },
  {
   "cell_type": "code",
   "execution_count": 20,
   "id": "996a615f",
   "metadata": {},
   "outputs": [
    {
     "name": "stdout",
     "output_type": "stream",
     "text": [
      "<class 'str'>\n"
     ]
    }
   ],
   "source": [
    "print(type(two_in_str))"
   ]
  },
  {
   "cell_type": "markdown",
   "id": "e71b755d",
   "metadata": {},
   "source": [
    "The reverse conversion is done by using the **int()** function."
   ]
  },
  {
   "cell_type": "code",
   "execution_count": 21,
   "id": "ac305235",
   "metadata": {},
   "outputs": [
    {
     "name": "stdout",
     "output_type": "stream",
     "text": [
      "2\n"
     ]
    }
   ],
   "source": [
    "two_str = \"2\"\n",
    "two_in_int = int(two_str)\n",
    "print(two_in_int)"
   ]
  },
  {
   "cell_type": "code",
   "execution_count": 22,
   "id": "f096f748",
   "metadata": {},
   "outputs": [
    {
     "name": "stdout",
     "output_type": "stream",
     "text": [
      "<class 'int'>\n"
     ]
    }
   ],
   "source": [
    "print(type(two_in_int))"
   ]
  },
  {
   "cell_type": "markdown",
   "id": "d1bfa050",
   "metadata": {},
   "source": [
    "## Operations with variables"
   ]
  },
  {
   "cell_type": "markdown",
   "id": "187365b4",
   "metadata": {},
   "source": [
    "An important point of data science is to perform operations with numerical values. There are operations of **addition**, **multiplication**, **subtraction**, etc."
   ]
  },
  {
   "cell_type": "code",
   "execution_count": 23,
   "id": "8e70dca5",
   "metadata": {},
   "outputs": [
    {
     "name": "stdout",
     "output_type": "stream",
     "text": [
      "79\n"
     ]
    }
   ],
   "source": [
    "# addition\n",
    "sum = 30 + 49\n",
    "print(sum)"
   ]
  },
  {
   "cell_type": "code",
   "execution_count": 24,
   "id": "c742e3e6",
   "metadata": {},
   "outputs": [
    {
     "name": "stdout",
     "output_type": "stream",
     "text": [
      "177\n"
     ]
    }
   ],
   "source": [
    "spain = 95\n",
    "france = 82\n",
    "sum_france_spain = spain + france\n",
    "print(sum_france_spain)"
   ]
  },
  {
   "cell_type": "code",
   "execution_count": 25,
   "id": "3935443b",
   "metadata": {},
   "outputs": [
    {
     "name": "stdout",
     "output_type": "stream",
     "text": [
      "25\n"
     ]
    }
   ],
   "source": [
    "# power and square\n",
    "square = 5\n",
    "squared = square ** 2\n",
    "print(squared)"
   ]
  },
  {
   "cell_type": "code",
   "execution_count": 26,
   "id": "8324e6ef",
   "metadata": {},
   "outputs": [
    {
     "name": "stdout",
     "output_type": "stream",
     "text": [
      "164\n"
     ]
    }
   ],
   "source": [
    "double_france = france * 2\n",
    "print(double_france)"
   ]
  },
  {
   "cell_type": "code",
   "execution_count": 27,
   "id": "e9f4ac71",
   "metadata": {},
   "outputs": [
    {
     "name": "stdout",
     "output_type": "stream",
     "text": [
      "41.0\n"
     ]
    }
   ],
   "source": [
    "# division\n",
    "divide_france = france / 2\n",
    "print(divide_france)"
   ]
  },
  {
   "cell_type": "code",
   "execution_count": 28,
   "id": "5494f862",
   "metadata": {},
   "outputs": [
    {
     "name": "stdout",
     "output_type": "stream",
     "text": [
      "-13\n"
     ]
    }
   ],
   "source": [
    "# subtraction\n",
    "subtract_france_spain = france - spain\n",
    "print(subtract_france_spain)"
   ]
  },
  {
   "cell_type": "code",
   "execution_count": 29,
   "id": "d56a68e3",
   "metadata": {},
   "outputs": [
    {
     "name": "stdout",
     "output_type": "stream",
     "text": [
      "28.000000000000004\n",
      "35.28\n"
     ]
    }
   ],
   "source": [
    "# example\n",
    "france_celsius = (france - 32) * 0.56\n",
    "spain_celsius = (spain - 32) * 0.56\n",
    "print(france_celsius)\n",
    "print(spain_celsius)"
   ]
  },
  {
   "cell_type": "markdown",
   "id": "9a89ecbe",
   "metadata": {},
   "source": [
    "## List creation"
   ]
  },
  {
   "cell_type": "markdown",
   "id": "293f4c2e",
   "metadata": {},
   "source": [
    "Lists are among the most commonly used data structures in data science."
   ]
  },
  {
   "cell_type": "code",
   "execution_count": 30,
   "id": "3c955315",
   "metadata": {},
   "outputs": [],
   "source": [
    "months = []"
   ]
  },
  {
   "cell_type": "code",
   "execution_count": 31,
   "id": "bf5dbfa2",
   "metadata": {},
   "outputs": [
    {
     "name": "stdout",
     "output_type": "stream",
     "text": [
      "['January', 'February']\n"
     ]
    }
   ],
   "source": [
    "# append() method is used to add element in the list\n",
    "months.append(\"January\")\n",
    "months.append(\"February\")\n",
    "print(months)"
   ]
  },
  {
   "cell_type": "code",
   "execution_count": 32,
   "id": "c5a4c316",
   "metadata": {},
   "outputs": [
    {
     "name": "stdout",
     "output_type": "stream",
     "text": [
      "<class 'list'>\n"
     ]
    }
   ],
   "source": [
    "print(type(months))"
   ]
  },
  {
   "cell_type": "code",
   "execution_count": 33,
   "id": "81eb15a7",
   "metadata": {},
   "outputs": [],
   "source": [
    "months = []\n",
    "months.append(1)\n",
    "months.append(\"January\")\n",
    "months.append(2)\n",
    "months.append(\"February\")"
   ]
  },
  {
   "cell_type": "code",
   "execution_count": 34,
   "id": "cc0ec6fb",
   "metadata": {},
   "outputs": [
    {
     "data": {
      "text/plain": [
       "[1, 'January', 2, 'February']"
      ]
     },
     "execution_count": 34,
     "metadata": {},
     "output_type": "execute_result"
    }
   ],
   "source": [
    "months"
   ]
  },
  {
   "cell_type": "markdown",
   "id": "ee131b6d",
   "metadata": {},
   "source": [
    "It is possible to create a list directly with values."
   ]
  },
  {
   "cell_type": "code",
   "execution_count": 35,
   "id": "4698a973",
   "metadata": {},
   "outputs": [
    {
     "data": {
      "text/plain": [
       "[1, 'January', 2, 'February', 3, 'March']"
      ]
     },
     "execution_count": 35,
     "metadata": {},
     "output_type": "execute_result"
    }
   ],
   "source": [
    "months = [1, \"January\", 2, \"February\", 3, \"March\"]\n",
    "months"
   ]
  },
  {
   "cell_type": "code",
   "execution_count": 36,
   "id": "6f20ec93",
   "metadata": {},
   "outputs": [],
   "source": [
    "temperatures = [\"France\", 122.5, \"Spain\", 124.0]"
   ]
  },
  {
   "cell_type": "code",
   "execution_count": 37,
   "id": "0b9f4673",
   "metadata": {},
   "outputs": [
    {
     "name": "stdout",
     "output_type": "stream",
     "text": [
      "['France', 122.5, 'Spain', 124.0, 'United States', 134.1]\n"
     ]
    }
   ],
   "source": [
    "temperatures.append(\"United States\")\n",
    "temperatures.append(134.1)\n",
    "print(temperatures)"
   ]
  },
  {
   "cell_type": "markdown",
   "id": "eee1282d",
   "metadata": {},
   "source": [
    "## Retrieve a value from a list"
   ]
  },
  {
   "cell_type": "markdown",
   "id": "223146e6",
   "metadata": {},
   "source": [
    "To retrieve the values of a list, you have to use the **indexes** starting from 0."
   ]
  },
  {
   "cell_type": "code",
   "execution_count": 38,
   "id": "421fe49e",
   "metadata": {},
   "outputs": [],
   "source": [
    "years = [2013, 2014, 2015, 2016, 2017]\n",
    "first_value = years[0]\n",
    "second_value = years[1]\n",
    "last_value = years[4]"
   ]
  },
  {
   "cell_type": "code",
   "execution_count": 39,
   "id": "fe1bde57",
   "metadata": {},
   "outputs": [
    {
     "name": "stdout",
     "output_type": "stream",
     "text": [
      "2013\n",
      "2017\n"
     ]
    }
   ],
   "source": [
    "print(first_value)\n",
    "print(last_value)"
   ]
  },
  {
   "cell_type": "markdown",
   "id": "03fb7a85",
   "metadata": {},
   "source": [
    "## Return the length of a list"
   ]
  },
  {
   "cell_type": "markdown",
   "id": "0d1e47f8",
   "metadata": {},
   "source": [
    "The length of a list represents the number of elements in a list. To retrieve it, we use the **len()** function."
   ]
  },
  {
   "cell_type": "code",
   "execution_count": 40,
   "id": "f7011886",
   "metadata": {},
   "outputs": [
    {
     "name": "stdout",
     "output_type": "stream",
     "text": [
      "12\n"
     ]
    }
   ],
   "source": [
    "months = [1, 2, 3, 4, 5, 6, 7, 8, 9, 10, 11, 12]\n",
    "lenght_months = len(months)\n",
    "print(lenght_months)"
   ]
  },
  {
   "cell_type": "markdown",
   "id": "c7690acc",
   "metadata": {},
   "source": [
    "To retrieve the last value of a list, we use the following method."
   ]
  },
  {
   "cell_type": "code",
   "execution_count": 41,
   "id": "9b15cdef",
   "metadata": {},
   "outputs": [
    {
     "name": "stdout",
     "output_type": "stream",
     "text": [
      "12\n"
     ]
    }
   ],
   "source": [
    "months_last_value_pos = len(months) - 1\n",
    "months_last_value = months[months_last_value_pos]\n",
    "print(months_last_value)"
   ]
  },
  {
   "cell_type": "markdown",
   "id": "7f16ea38",
   "metadata": {},
   "source": [
    "## Retrieve items from a list (slicing)"
   ]
  },
  {
   "cell_type": "code",
   "execution_count": 42,
   "id": "9cd40d15",
   "metadata": {},
   "outputs": [],
   "source": [
    "months = [\"January\", \"February\", \"March\", \"April\", \"May\", \"June\", \"July\", \n",
    "          \"August\", \"September\", \"October\", \"November\", \"December\"]"
   ]
  },
  {
   "cell_type": "code",
   "execution_count": 43,
   "id": "a9565d1c",
   "metadata": {},
   "outputs": [
    {
     "name": "stdout",
     "output_type": "stream",
     "text": [
      "['May', 'June']\n"
     ]
    }
   ],
   "source": [
    "# Positions 4 and 5: May and June\n",
    "months_slicing_1 = months[4:6]\n",
    "print(months_slicing_1)"
   ]
  },
  {
   "cell_type": "code",
   "execution_count": 44,
   "id": "03aa5ea3",
   "metadata": {},
   "outputs": [
    {
     "name": "stdout",
     "output_type": "stream",
     "text": [
      "['June', 'July', 'August', 'September', 'October', 'November', 'December']\n"
     ]
    }
   ],
   "source": [
    "# Values from position 5 (index 5)\n",
    "# First method\n",
    "months_slicing_2 = months[5:len(months)]\n",
    "print(months_slicing_2)"
   ]
  },
  {
   "cell_type": "code",
   "execution_count": 45,
   "id": "d77c6797",
   "metadata": {},
   "outputs": [
    {
     "name": "stdout",
     "output_type": "stream",
     "text": [
      "['June', 'July', 'August', 'September', 'October', 'November', 'December']\n"
     ]
    }
   ],
   "source": [
    "# Values from position 5 (index 5)\n",
    "# Second method\n",
    "months_slicing_2 = months[5:]\n",
    "print(months_slicing_2)"
   ]
  },
  {
   "cell_type": "markdown",
   "id": "4607fbb0",
   "metadata": {},
   "source": [
    "## Training"
   ]
  },
  {
   "cell_type": "code",
   "execution_count": 46,
   "id": "cfee99cf",
   "metadata": {},
   "outputs": [],
   "source": [
    "countries = [\"France\", \"Spain\", \"United States\", \"Canada\", \"Australia\", \"Argentina\"]\n",
    "temperatures = [122.5, 124.0, 134.1, 105.2, 112.5, 128.3]"
   ]
  },
  {
   "cell_type": "markdown",
   "id": "86a49c3c",
   "metadata": {},
   "source": [
    "For the list of countries above, display the first 3 country values."
   ]
  },
  {
   "cell_type": "code",
   "execution_count": 47,
   "id": "a13955cc",
   "metadata": {},
   "outputs": [
    {
     "name": "stdout",
     "output_type": "stream",
     "text": [
      "['France', 'Spain', 'United States']\n"
     ]
    }
   ],
   "source": [
    "countries_slice = countries[0:3]\n",
    "print(countries_slice)"
   ]
  },
  {
   "cell_type": "markdown",
   "id": "0714766a",
   "metadata": {},
   "source": [
    "Display the last 4 values of the temperature list."
   ]
  },
  {
   "cell_type": "code",
   "execution_count": 48,
   "id": "68659945",
   "metadata": {},
   "outputs": [
    {
     "name": "stdout",
     "output_type": "stream",
     "text": [
      "[134.1, 105.2, 112.5, 128.3]\n"
     ]
    }
   ],
   "source": [
    "temperatures_slice = temperatures[len(temperatures)-4:]\n",
    "print(temperatures_slice)"
   ]
  }
 ],
 "metadata": {
  "kernelspec": {
   "display_name": "Python 3 (ipykernel)",
   "language": "python",
   "name": "python3"
  },
  "language_info": {
   "codemirror_mode": {
    "name": "ipython",
    "version": 3
   },
   "file_extension": ".py",
   "mimetype": "text/x-python",
   "name": "python",
   "nbconvert_exporter": "python",
   "pygments_lexer": "ipython3",
   "version": "3.9.7"
  }
 },
 "nbformat": 4,
 "nbformat_minor": 5
}
