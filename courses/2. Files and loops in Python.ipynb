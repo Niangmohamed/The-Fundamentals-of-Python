{
 "cells": [
  {
   "cell_type": "markdown",
   "id": "069c7bd4",
   "metadata": {},
   "source": [
    "# Python: Files and loops"
   ]
  },
  {
   "cell_type": "markdown",
   "id": "88b814ee",
   "metadata": {},
   "source": [
    "**Goal**: \n",
    "\n",
    "* Open and read a file in a list\n",
    "* Use loops\n",
    "* Create and explore lists\n",
    "* Real case: datasets of French departments"
   ]
  },
  {
   "cell_type": "markdown",
   "id": "954e4c58",
   "metadata": {},
   "source": [
    "## Open and read a file"
   ]
  },
  {
   "cell_type": "markdown",
   "id": "0471ca41",
   "metadata": {},
   "source": [
    "### Opening a file"
   ]
  },
  {
   "cell_type": "markdown",
   "id": "a8872b9d",
   "metadata": {},
   "source": [
    "To open a file, we use the **open()** function."
   ]
  },
  {
   "cell_type": "code",
   "execution_count": 1,
   "id": "2201e1a8",
   "metadata": {},
   "outputs": [
    {
     "data": {
      "text/plain": [
       "<_io.TextIOWrapper name='python.txt' mode='r' encoding='cp1252'>"
      ]
     },
     "execution_count": 1,
     "metadata": {},
     "output_type": "execute_result"
    }
   ],
   "source": [
    "# use open() function\n",
    "open(\"python.txt\", \"r\")"
   ]
  },
  {
   "cell_type": "code",
   "execution_count": 2,
   "id": "e20e0ab2",
   "metadata": {},
   "outputs": [
    {
     "name": "stdout",
     "output_type": "stream",
     "text": [
      "<_io.TextIOWrapper name='python.txt' mode='r' encoding='cp1252'>\n"
     ]
    }
   ],
   "source": [
    "f = open(\"python.txt\", \"r\")\n",
    "print(f)"
   ]
  },
  {
   "cell_type": "markdown",
   "id": "e0deffb8",
   "metadata": {},
   "source": [
    "### Reading a file"
   ]
  },
  {
   "cell_type": "code",
   "execution_count": 3,
   "id": "4e411a59",
   "metadata": {},
   "outputs": [
    {
     "name": "stdout",
     "output_type": "stream",
     "text": [
      "I read my first file!!!\n"
     ]
    }
   ],
   "source": [
    "# use read() method\n",
    "g = f.read()\n",
    "print(g)"
   ]
  },
  {
   "cell_type": "markdown",
   "id": "59fff9c8",
   "metadata": {},
   "source": [
    "### Training"
   ]
  },
  {
   "cell_type": "markdown",
   "id": "51f50609",
   "metadata": {},
   "source": [
    "We will read a csv file named **departements_fr.csv** and display it."
   ]
  },
  {
   "cell_type": "code",
   "execution_count": 4,
   "id": "24e25b0d",
   "metadata": {},
   "outputs": [
    {
     "name": "stdout",
     "output_type": "stream",
     "text": [
      "Ain,643309\n",
      "Aisne,554040\n",
      "Allier,353262\n",
      "Alpes-de-Haute-Provence,166298\n",
      "Alpes-Maritimes,1098785\n",
      "Ardèche,332051\n",
      "\n"
     ]
    }
   ],
   "source": [
    "f = open(\"departements_fr.csv\", \"r\")\n",
    "data = f.read()\n",
    "print(data[0:108])"
   ]
  },
  {
   "cell_type": "markdown",
   "id": "0b47b3ef",
   "metadata": {},
   "source": [
    "## Separation of elements"
   ]
  },
  {
   "cell_type": "markdown",
   "id": "b5717a47",
   "metadata": {},
   "source": [
    "### Creating a list from a string"
   ]
  },
  {
   "cell_type": "code",
   "execution_count": 5,
   "id": "d26f8c9c",
   "metadata": {},
   "outputs": [
    {
     "data": {
      "text/plain": [
       "str"
      ]
     },
     "execution_count": 5,
     "metadata": {},
     "output_type": "execute_result"
    }
   ],
   "source": [
    "type(data)"
   ]
  },
  {
   "cell_type": "code",
   "execution_count": 6,
   "id": "741438cf",
   "metadata": {},
   "outputs": [
    {
     "name": "stdout",
     "output_type": "stream",
     "text": [
      "['Goku', 'Gohan', 'Goten']\n"
     ]
    }
   ],
   "source": [
    "# split()\n",
    "names = \"Goku,Gohan,Goten\"\n",
    "split_names = names.split(\",\")\n",
    "print(split_names)"
   ]
  },
  {
   "cell_type": "markdown",
   "id": "93cf6929",
   "metadata": {},
   "source": [
    "### Training"
   ]
  },
  {
   "cell_type": "markdown",
   "id": "2b74960f",
   "metadata": {},
   "source": [
    "Use the separator **\\n** to convert data to a list and display the first 5 elements."
   ]
  },
  {
   "cell_type": "code",
   "execution_count": 7,
   "id": "6cedc153",
   "metadata": {},
   "outputs": [
    {
     "name": "stdout",
     "output_type": "stream",
     "text": [
      "['Ain,643309', 'Aisne,554040', 'Allier,353262', 'Alpes-de-Haute-Provence,166298', 'Alpes-Maritimes,1098785']\n"
     ]
    }
   ],
   "source": [
    "rows = data.split(\"\\n\")\n",
    "print(rows[0:5])"
   ]
  },
  {
   "cell_type": "markdown",
   "id": "9d7a3557",
   "metadata": {},
   "source": [
    "## Loops"
   ]
  },
  {
   "cell_type": "code",
   "execution_count": 8,
   "id": "d83e903a",
   "metadata": {},
   "outputs": [
    {
     "name": "stdout",
     "output_type": "stream",
     "text": [
      "Niang\n",
      "Diop\n",
      "Pene\n"
     ]
    }
   ],
   "source": [
    "nouns = [\"Niang\", \"Diop\", \"Pene\"]\n",
    "\n",
    "for noun in nouns:\n",
    "    print(noun)"
   ]
  },
  {
   "cell_type": "markdown",
   "id": "8ec8ea77",
   "metadata": {},
   "source": [
    "### Training"
   ]
  },
  {
   "cell_type": "markdown",
   "id": "5bac214f",
   "metadata": {},
   "source": [
    "Using a loop, display the first 10 elements of the rows list."
   ]
  },
  {
   "cell_type": "code",
   "execution_count": 9,
   "id": "c682d8cc",
   "metadata": {},
   "outputs": [
    {
     "name": "stdout",
     "output_type": "stream",
     "text": [
      "Ain,643309\n",
      "Aisne,554040\n",
      "Allier,353262\n",
      "Alpes-de-Haute-Provence,166298\n",
      "Alpes-Maritimes,1098785\n",
      "Ardèche,332051\n",
      "Ardennes,287775\n",
      "Ariège,158076\n",
      "Aube,316098\n",
      "Aude,375065\n"
     ]
    }
   ],
   "source": [
    "ten_rows = rows[0:10]\n",
    "\n",
    "for row in ten_rows:\n",
    "    print(row)"
   ]
  },
  {
   "cell_type": "markdown",
   "id": "264c3fbd",
   "metadata": {},
   "source": [
    "## List of lists"
   ]
  },
  {
   "cell_type": "code",
   "execution_count": 10,
   "id": "c6c2367f",
   "metadata": {},
   "outputs": [
    {
     "name": "stdout",
     "output_type": "stream",
     "text": [
      "[['Karpathy', '100'], ['Lecun', '102'], ['Hinton', '110']]\n"
     ]
    }
   ],
   "source": [
    "ai_levels = [\"Karpathy,100\", \"Lecun,102\", \"Hinton,110\"]\n",
    "\n",
    "final_result = []\n",
    "\n",
    "for ai_level in ai_levels:\n",
    "    split_level = ai_level.split(\",\")\n",
    "    final_result.append(split_level)\n",
    "    \n",
    "print(final_result)"
   ]
  },
  {
   "cell_type": "code",
   "execution_count": 11,
   "id": "2a624f09",
   "metadata": {},
   "outputs": [
    {
     "name": "stdout",
     "output_type": "stream",
     "text": [
      "['Karpathy', '100']\n",
      "['Lecun', '102']\n",
      "['Hinton', '110']\n"
     ]
    }
   ],
   "source": [
    "print(final_result[0])\n",
    "print(final_result[1])\n",
    "print(final_result[2])"
   ]
  },
  {
   "cell_type": "markdown",
   "id": "e7346279",
   "metadata": {},
   "source": [
    "### Training"
   ]
  },
  {
   "cell_type": "markdown",
   "id": "d6092fda",
   "metadata": {},
   "source": [
    "Using a loop and the **split()** method, separate the elements of the dataset as a list and display the first 5 elements."
   ]
  },
  {
   "cell_type": "code",
   "execution_count": 12,
   "id": "1f6d7a59",
   "metadata": {},
   "outputs": [
    {
     "name": "stdout",
     "output_type": "stream",
     "text": [
      "[['Ain', '643309'], ['Aisne', '554040'], ['Allier', '353262'], ['Alpes-de-Haute-Provence', '166298'], ['Alpes-Maritimes', '1098785']]\n"
     ]
    }
   ],
   "source": [
    "final_data = []\n",
    "\n",
    "for row in rows:\n",
    "    split_list = row.split(',')\n",
    "    final_data.append(split_list)\n",
    "    \n",
    "print(final_data[0:5])"
   ]
  },
  {
   "cell_type": "markdown",
   "id": "7d8b778c",
   "metadata": {},
   "source": [
    "## Retrieve and display items from a list of lists"
   ]
  },
  {
   "cell_type": "code",
   "execution_count": 13,
   "id": "88941605",
   "metadata": {},
   "outputs": [
    {
     "name": "stdout",
     "output_type": "stream",
     "text": [
      "['Ain', '643309']\n"
     ]
    }
   ],
   "source": [
    "# First method\n",
    "first_list = final_data[0]\n",
    "print(first_list)"
   ]
  },
  {
   "cell_type": "code",
   "execution_count": 14,
   "id": "bc54b97b",
   "metadata": {},
   "outputs": [
    {
     "name": "stdout",
     "output_type": "stream",
     "text": [
      "Ain\n"
     ]
    }
   ],
   "source": [
    "first_list_first_value = first_list[0]\n",
    "print(first_list_first_value)"
   ]
  },
  {
   "cell_type": "code",
   "execution_count": 15,
   "id": "663e7c74",
   "metadata": {},
   "outputs": [
    {
     "name": "stdout",
     "output_type": "stream",
     "text": [
      "Ain\n"
     ]
    }
   ],
   "source": [
    "# Second method\n",
    "first_list_first_value = final_data[0][0]\n",
    "print(first_list_first_value)"
   ]
  },
  {
   "cell_type": "code",
   "execution_count": 16,
   "id": "3c637ee7",
   "metadata": {},
   "outputs": [
    {
     "name": "stdout",
     "output_type": "stream",
     "text": [
      "Aisne\n"
     ]
    }
   ],
   "source": [
    "second_list_first_value = final_data[1][0]\n",
    "print(second_list_first_value)"
   ]
  },
  {
   "cell_type": "code",
   "execution_count": 17,
   "id": "205b5477",
   "metadata": {},
   "outputs": [
    {
     "name": "stdout",
     "output_type": "stream",
     "text": [
      "554040\n"
     ]
    }
   ],
   "source": [
    "second_list_second_value = final_data[1][1]\n",
    "print(second_list_second_value)"
   ]
  },
  {
   "cell_type": "markdown",
   "id": "46887b4f",
   "metadata": {},
   "source": [
    "### Loop through a list of lists"
   ]
  },
  {
   "cell_type": "code",
   "execution_count": 18,
   "id": "c3f7df24",
   "metadata": {},
   "outputs": [
    {
     "name": "stdout",
     "output_type": "stream",
     "text": [
      "['Ain', 'Aisne', 'Allier', 'Alpes-de-Haute-Provence', 'Alpes-Maritimes']\n"
     ]
    }
   ],
   "source": [
    "# First method with departments\n",
    "first_five_elements = final_data[0:5]\n",
    "\n",
    "departments_list = []\n",
    "\n",
    "departments_list.append(first_five_elements[0][0])\n",
    "departments_list.append(first_five_elements[1][0])\n",
    "departments_list.append(first_five_elements[2][0])\n",
    "departments_list.append(first_five_elements[3][0])\n",
    "departments_list.append(first_five_elements[4][0])\n",
    "\n",
    "print(departments_list)"
   ]
  },
  {
   "cell_type": "code",
   "execution_count": 19,
   "id": "2d6434c3",
   "metadata": {},
   "outputs": [
    {
     "name": "stdout",
     "output_type": "stream",
     "text": [
      "['643309', '554040', '353262', '166298', '1098785']\n"
     ]
    }
   ],
   "source": [
    "# Second method with populations\n",
    "department_populations = []\n",
    "\n",
    "for row in first_five_elements:\n",
    "    department_population = row[1]\n",
    "    department_populations.append(department_population)\n",
    "    \n",
    "print(department_populations)"
   ]
  },
  {
   "cell_type": "markdown",
   "id": "bb80e372",
   "metadata": {},
   "source": [
    "### Training"
   ]
  },
  {
   "cell_type": "markdown",
   "id": "8c52daaa",
   "metadata": {},
   "source": [
    "Put in a new list departments_list the name of all departments of final_data."
   ]
  },
  {
   "cell_type": "code",
   "execution_count": 20,
   "id": "84e91687",
   "metadata": {},
   "outputs": [
    {
     "name": "stdout",
     "output_type": "stream",
     "text": [
      "['Ain', 'Aisne', 'Allier', 'Alpes-de-Haute-Provence', 'Alpes-Maritimes', 'Ardèche', 'Ardennes', 'Ariège', 'Aube', 'Aude', 'Aveyron', 'Bas-Rhin', 'Bouches-du-Rhône', 'Calvados', 'Cantal', 'Charente', 'Charente-Maritime', 'Cher', 'Corrèze', 'Corse-du-Sud', \"Côte-d'Or\", \"Côtes-d'Armor\", 'Creuse', 'Deux-Sèvres', 'Dordogne', 'Doubs', 'Drôme', 'Essonne', 'Eure', 'Eure-et-Loir', 'Finistère', 'Gard', 'Gers', 'Gironde', 'Guadeloupe', 'Guyane', 'Haute-Corse', 'Haute-Garonne', 'Haute-Loire', 'Haute-Marne', 'Hautes-Alpes', 'Haute-Saône', 'Haute-Savoie', 'Hautes-Pyrénées', 'Haute-Vienne', 'Haut-Rhin', 'Hauts-de-Seine', 'Hérault', 'Ille-et-Vilaine', 'Indre', 'Indre-et-Loire', 'Isère', 'Jura', 'La Réunion', 'Landes', 'Loire', 'Loire-Atlantique', 'Loiret', 'Loir-et-Cher', 'Lot', 'Lot-et-Garonne', 'Lozère', 'Maine-et-Loire', 'Manche', 'Marne', 'Martinique', 'Mayenne', 'Meurthe-et-Moselle', 'Meuse', 'Morbihan', 'Moselle', 'Nièvre', 'Nord', 'Oise', 'Orne', 'Paris', 'Pas-de-Calais', 'Puy-de-Dôme', 'Pyrénées-Atlantiques', 'Pyrénées-Orientales', 'Rhône', 'Saône-et-Loire', 'Sarthe', 'Savoie', 'Seine-et-Marne', 'Seine-Maritime', 'Seine-Saint-Denis', 'Somme', 'Tarn', 'Tarn-et-Garonne', 'Territoire de Belfort', 'Val-de-Marne', \"Val-d'Oise\", 'Var', 'Vaucluse', 'Vendée', 'Vienne', 'Vosges', 'Yonne', 'Yvelines']\n"
     ]
    }
   ],
   "source": [
    "departments_list = []\n",
    "\n",
    "for row in final_data:\n",
    "    departments_list.append(row[0])\n",
    "    \n",
    "print(departments_list)"
   ]
  },
  {
   "cell_type": "markdown",
   "id": "fe91eb2d",
   "metadata": {},
   "source": [
    "## Challenge"
   ]
  },
  {
   "cell_type": "markdown",
   "id": "f28c53a1",
   "metadata": {},
   "source": [
    "Create a list of integers containing the number of residents of all French departments."
   ]
  },
  {
   "cell_type": "code",
   "execution_count": 21,
   "id": "a1fc9fd0",
   "metadata": {},
   "outputs": [
    {
     "name": "stdout",
     "output_type": "stream",
     "text": [
      "[643309, 554040, 353262, 166298, 1098785, 332051, 287775, 158076, 316098, 375065, 289901, 1131812, 2035475, 708407, 152400, 366787, 656046, 318590, 249684, 154100, 545001, 617413, 124948, 384655, 428651, 549155, 514104, 1286908, 616076, 445083, 935393, 752382, 197988, 1556663, 406706, 254845, 175499, 1344579, 234078, 186698, 145213, 246022, 806447, 236577, 384708, 775941, 1617484, 1127333, 1060051, 232802, 619004, 1271938, 270826, 541487, 414090, 774262, 1382766, 688098, 344121, 180016, 343198, 80423, 829156, 518322, 584297, 390252, 317716, 746687, 197763, 764338, 1065894, 221048, 2640622, 838646, 297109, 2243739, 1497668, 661248, 688451, 474842, 1833002, 574229, 583961, 440777, 1400477, 1284107, 1582139, 583641, 396341, 258696, 147647, 1377511, 1221946, 1055745, 566592, 681469, 444347, 386978, 352433, 1449398]\n"
     ]
    }
   ],
   "source": [
    "int_dep_populations = []\n",
    "\n",
    "for row in final_data:\n",
    "    int_dep_populations.append(int(row[1]))\n",
    "                               \n",
    "print(int_dep_populations)"
   ]
  },
  {
   "cell_type": "code",
   "execution_count": 22,
   "id": "351617b2",
   "metadata": {},
   "outputs": [
    {
     "name": "stdout",
     "output_type": "stream",
     "text": [
      "<class 'int'>\n"
     ]
    }
   ],
   "source": [
    "print(type(int_dep_populations[0]))"
   ]
  }
 ],
 "metadata": {
  "kernelspec": {
   "display_name": "Python 3 (ipykernel)",
   "language": "python",
   "name": "python3"
  },
  "language_info": {
   "codemirror_mode": {
    "name": "ipython",
    "version": 3
   },
   "file_extension": ".py",
   "mimetype": "text/x-python",
   "name": "python",
   "nbconvert_exporter": "python",
   "pygments_lexer": "ipython3",
   "version": "3.9.7"
  }
 },
 "nbformat": 4,
 "nbformat_minor": 5
}
