{
 "cells": [
  {
   "cell_type": "markdown",
   "id": "4bbb020b",
   "metadata": {},
   "source": [
    "# Python: List operations"
   ]
  },
  {
   "cell_type": "markdown",
   "id": "d25bb0fc",
   "metadata": {},
   "source": [
    "## Dataset"
   ]
  },
  {
   "cell_type": "code",
   "execution_count": 1,
   "id": "6e1158a7",
   "metadata": {},
   "outputs": [
    {
     "name": "stdout",
     "output_type": "stream",
     "text": [
      "[['Jour', 'Climat'], ['1', 'Soleil'], ['2', 'Soleil'], ['3', 'Soleil'], ['4', 'Soleil']]\n"
     ]
    }
   ],
   "source": [
    "weather_data = []\n",
    "\n",
    "f = open(\"madrid_weather_2016.csv\", \"r\")\n",
    "data = f.read()\n",
    "rows = data.split('\\n')\n",
    "for row in rows:\n",
    "    split_row = row.split(',')\n",
    "    weather_data.append(split_row)\n",
    "    \n",
    "print(weather_data[0:5])"
   ]
  },
  {
   "cell_type": "code",
   "execution_count": 2,
   "id": "03d43d1a",
   "metadata": {},
   "outputs": [
    {
     "data": {
      "text/plain": [
       "366"
      ]
     },
     "execution_count": 2,
     "metadata": {},
     "output_type": "execute_result"
    }
   ],
   "source": [
    "len(weather_data)"
   ]
  },
  {
   "cell_type": "markdown",
   "id": "7eb4c20f",
   "metadata": {},
   "source": [
    "## Removing the header"
   ]
  },
  {
   "cell_type": "code",
   "execution_count": 3,
   "id": "eae7e944",
   "metadata": {},
   "outputs": [
    {
     "name": "stdout",
     "output_type": "stream",
     "text": [
      "[['1', 'Soleil'], ['2', 'Soleil'], ['3', 'Soleil'], ['4', 'Soleil'], ['5', 'Soleil']]\n"
     ]
    }
   ],
   "source": [
    "weather_data = weather_data[1:]\n",
    "print(weather_data[0:5])"
   ]
  },
  {
   "cell_type": "markdown",
   "id": "68907b35",
   "metadata": {},
   "source": [
    "## Check the presence of an element in a line"
   ]
  },
  {
   "cell_type": "code",
   "execution_count": 4,
   "id": "71901752",
   "metadata": {},
   "outputs": [
    {
     "name": "stdout",
     "output_type": "stream",
     "text": [
      "Dog found!\n"
     ]
    }
   ],
   "source": [
    "# Method 1\n",
    "animals = [\"Dog\", \"Lion\", \"Giraffe\"]\n",
    "\n",
    "for animal in animals:\n",
    "    if animal == \"Dog\":\n",
    "        print(\"Dog found!\")"
   ]
  },
  {
   "cell_type": "code",
   "execution_count": 5,
   "id": "d90147a6",
   "metadata": {},
   "outputs": [
    {
     "name": "stdout",
     "output_type": "stream",
     "text": [
      "Dog found!\n"
     ]
    }
   ],
   "source": [
    "# Method 2\n",
    "if \"Dog\" in animals:\n",
    "    print(\"Dog found!\")"
   ]
  },
  {
   "cell_type": "code",
   "execution_count": 6,
   "id": "2babb752",
   "metadata": {},
   "outputs": [
    {
     "name": "stdout",
     "output_type": "stream",
     "text": [
      "True\n",
      "False\n"
     ]
    }
   ],
   "source": [
    "# Method 3 with Booleans\n",
    "dog_found = \"Dog\" in animals\n",
    "cat_found = \"Cat\" in animals\n",
    "\n",
    "print(dog_found)\n",
    "print(cat_found)"
   ]
  },
  {
   "cell_type": "code",
   "execution_count": 7,
   "id": "94ef2d9d",
   "metadata": {},
   "outputs": [
    {
     "name": "stdout",
     "output_type": "stream",
     "text": [
      "['Soleil', 'Soleil', 'Soleil', 'Soleil', 'Soleil']\n"
     ]
    }
   ],
   "source": [
    "weather = []\n",
    "\n",
    "for row in weather_data:\n",
    "    weather.append(row[1])\n",
    "    \n",
    "print(weather[0:5])"
   ]
  },
  {
   "cell_type": "markdown",
   "id": "4eea1ce5",
   "metadata": {},
   "source": [
    "### Training"
   ]
  },
  {
   "cell_type": "code",
   "execution_count": 8,
   "id": "65ab21be",
   "metadata": {},
   "outputs": [
    {
     "name": "stdout",
     "output_type": "stream",
     "text": [
      "[True, True, True, True, True, False]\n"
     ]
    }
   ],
   "source": [
    "weather_types = [\"Pluie\", \"Soleil\", \"Nuage\", \"Nuage-Pluie\", \"Orage\", \"Climat\"]\n",
    "weather_types_found = []\n",
    "\n",
    "for item in weather_types:\n",
    "    found = item in weather\n",
    "    weather_types_found.append(found)\n",
    "    \n",
    "print(weather_types_found)"
   ]
  }
 ],
 "metadata": {
  "kernelspec": {
   "display_name": "Python 3 (ipykernel)",
   "language": "python",
   "name": "python3"
  },
  "language_info": {
   "codemirror_mode": {
    "name": "ipython",
    "version": 3
   },
   "file_extension": ".py",
   "mimetype": "text/x-python",
   "name": "python",
   "nbconvert_exporter": "python",
   "pygments_lexer": "ipython3",
   "version": "3.9.7"
  }
 },
 "nbformat": 4,
 "nbformat_minor": 5
}
