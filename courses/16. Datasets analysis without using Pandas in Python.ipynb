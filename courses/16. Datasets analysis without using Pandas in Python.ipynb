{
 "cells": [
  {
   "cell_type": "markdown",
   "id": "d6f79490",
   "metadata": {},
   "source": [
    "# Python: Datasets analysis without using Pandas"
   ]
  },
  {
   "cell_type": "markdown",
   "id": "c4f607ad",
   "metadata": {},
   "source": [
    "## Dataset discovery"
   ]
  },
  {
   "cell_type": "code",
   "execution_count": 1,
   "id": "60a8270b",
   "metadata": {},
   "outputs": [],
   "source": [
    "import csv"
   ]
  },
  {
   "cell_type": "code",
   "execution_count": 2,
   "id": "b91b9eb0",
   "metadata": {},
   "outputs": [],
   "source": [
    "with open(\"guns.csv\") as f:\n",
    "    guns_csv_reader = csv.reader(f)\n",
    "    guns = list(guns_csv_reader)"
   ]
  },
  {
   "cell_type": "code",
   "execution_count": 3,
   "id": "7afa04ea",
   "metadata": {},
   "outputs": [
    {
     "name": "stdout",
     "output_type": "stream",
     "text": [
      "[['', 'year', 'month', 'intent', 'police', 'sex', 'age', 'race', 'hispanic', 'place', 'education'], ['1', '2012', '01', 'Suicide', '0', 'M', '34', 'Asian/Pacific Islander', '100', 'Home', '4'], ['2', '2012', '01', 'Suicide', '0', 'F', '21', 'White', '100', 'Street', '3'], ['3', '2012', '01', 'Suicide', '0', 'M', '60', 'White', '100', 'Other specified', '4'], ['4', '2012', '02', 'Suicide', '0', 'M', '64', 'White', '100', 'Home', '4']]\n"
     ]
    }
   ],
   "source": [
    "print(guns[:5])"
   ]
  },
  {
   "cell_type": "code",
   "execution_count": 4,
   "id": "dda8c648",
   "metadata": {},
   "outputs": [],
   "source": [
    "headers = guns[:1]\n",
    "guns = guns[1:]"
   ]
  },
  {
   "cell_type": "code",
   "execution_count": 5,
   "id": "92c2383b",
   "metadata": {},
   "outputs": [
    {
     "name": "stdout",
     "output_type": "stream",
     "text": [
      "[['', 'year', 'month', 'intent', 'police', 'sex', 'age', 'race', 'hispanic', 'place', 'education']]\n"
     ]
    }
   ],
   "source": [
    "print(headers)"
   ]
  },
  {
   "cell_type": "code",
   "execution_count": 6,
   "id": "dc364fec",
   "metadata": {},
   "outputs": [
    {
     "name": "stdout",
     "output_type": "stream",
     "text": [
      "[['1', '2012', '01', 'Suicide', '0', 'M', '34', 'Asian/Pacific Islander', '100', 'Home', '4'], ['2', '2012', '01', 'Suicide', '0', 'F', '21', 'White', '100', 'Street', '3'], ['3', '2012', '01', 'Suicide', '0', 'M', '60', 'White', '100', 'Other specified', '4'], ['4', '2012', '02', 'Suicide', '0', 'M', '64', 'White', '100', 'Home', '4'], ['5', '2012', '02', 'Suicide', '0', 'M', '31', 'White', '100', 'Other specified', '2']]\n"
     ]
    }
   ],
   "source": [
    "print(guns[:5])"
   ]
  },
  {
   "cell_type": "markdown",
   "id": "37187453",
   "metadata": {},
   "source": [
    "## Count the number of firearm deaths each year"
   ]
  },
  {
   "cell_type": "code",
   "execution_count": 7,
   "id": "6b0ebf47",
   "metadata": {},
   "outputs": [],
   "source": [
    "years = [row[1] for row in guns]\n",
    "years_counts = {}\n",
    "\n",
    "for year in years:\n",
    "    if year not in years_counts:\n",
    "        years_counts[year] = 0\n",
    "    years_counts[year] += 1"
   ]
  },
  {
   "cell_type": "code",
   "execution_count": 8,
   "id": "f480d368",
   "metadata": {},
   "outputs": [
    {
     "name": "stdout",
     "output_type": "stream",
     "text": [
      "{'2012': 33563, '2013': 33636, '2014': 33599}\n"
     ]
    }
   ],
   "source": [
    "print(years_counts)"
   ]
  },
  {
   "cell_type": "markdown",
   "id": "7da8d271",
   "metadata": {},
   "source": [
    "## Exploration of the number of deaths per month"
   ]
  },
  {
   "cell_type": "code",
   "execution_count": 9,
   "id": "cc040e8d",
   "metadata": {},
   "outputs": [],
   "source": [
    "import datetime"
   ]
  },
  {
   "cell_type": "code",
   "execution_count": 10,
   "id": "c043c260",
   "metadata": {},
   "outputs": [
    {
     "data": {
      "text/plain": [
       "[datetime.datetime(2012, 1, 1, 0, 0),\n",
       " datetime.datetime(2012, 1, 1, 0, 0),\n",
       " datetime.datetime(2012, 1, 1, 0, 0),\n",
       " datetime.datetime(2012, 2, 1, 0, 0),\n",
       " datetime.datetime(2012, 2, 1, 0, 0)]"
      ]
     },
     "execution_count": 10,
     "metadata": {},
     "output_type": "execute_result"
    }
   ],
   "source": [
    "dates = [datetime.datetime(year = int(row[1]), month = int(row[2]), day = 1) for row in guns]\n",
    "dates[0:5]"
   ]
  },
  {
   "cell_type": "code",
   "execution_count": 11,
   "id": "9b1139a2",
   "metadata": {},
   "outputs": [],
   "source": [
    "dates_counts = {}\n",
    "\n",
    "for date in dates:\n",
    "    if date not in dates_counts:\n",
    "        dates_counts[date] = 0\n",
    "    dates_counts[date] += 1"
   ]
  },
  {
   "cell_type": "code",
   "execution_count": 12,
   "id": "9c75d630",
   "metadata": {},
   "outputs": [
    {
     "data": {
      "text/plain": [
       "{datetime.datetime(2012, 1, 1, 0, 0): 2758,\n",
       " datetime.datetime(2012, 2, 1, 0, 0): 2357,\n",
       " datetime.datetime(2012, 3, 1, 0, 0): 2743,\n",
       " datetime.datetime(2012, 4, 1, 0, 0): 2795,\n",
       " datetime.datetime(2012, 5, 1, 0, 0): 2999,\n",
       " datetime.datetime(2012, 6, 1, 0, 0): 2826,\n",
       " datetime.datetime(2012, 7, 1, 0, 0): 3026,\n",
       " datetime.datetime(2012, 8, 1, 0, 0): 2954,\n",
       " datetime.datetime(2012, 9, 1, 0, 0): 2852,\n",
       " datetime.datetime(2012, 10, 1, 0, 0): 2733,\n",
       " datetime.datetime(2012, 11, 1, 0, 0): 2729,\n",
       " datetime.datetime(2012, 12, 1, 0, 0): 2791,\n",
       " datetime.datetime(2013, 1, 1, 0, 0): 2864,\n",
       " datetime.datetime(2013, 2, 1, 0, 0): 2375,\n",
       " datetime.datetime(2013, 3, 1, 0, 0): 2862,\n",
       " datetime.datetime(2013, 4, 1, 0, 0): 2798,\n",
       " datetime.datetime(2013, 5, 1, 0, 0): 2806,\n",
       " datetime.datetime(2013, 6, 1, 0, 0): 2920,\n",
       " datetime.datetime(2013, 7, 1, 0, 0): 3079,\n",
       " datetime.datetime(2013, 8, 1, 0, 0): 2859,\n",
       " datetime.datetime(2013, 9, 1, 0, 0): 2742,\n",
       " datetime.datetime(2013, 10, 1, 0, 0): 2808,\n",
       " datetime.datetime(2013, 11, 1, 0, 0): 2758,\n",
       " datetime.datetime(2013, 12, 1, 0, 0): 2765,\n",
       " datetime.datetime(2014, 1, 1, 0, 0): 2651,\n",
       " datetime.datetime(2014, 2, 1, 0, 0): 2361,\n",
       " datetime.datetime(2014, 3, 1, 0, 0): 2684,\n",
       " datetime.datetime(2014, 4, 1, 0, 0): 2862,\n",
       " datetime.datetime(2014, 5, 1, 0, 0): 2864,\n",
       " datetime.datetime(2014, 6, 1, 0, 0): 2931,\n",
       " datetime.datetime(2014, 7, 1, 0, 0): 2884,\n",
       " datetime.datetime(2014, 8, 1, 0, 0): 2970,\n",
       " datetime.datetime(2014, 9, 1, 0, 0): 2914,\n",
       " datetime.datetime(2014, 10, 1, 0, 0): 2865,\n",
       " datetime.datetime(2014, 11, 1, 0, 0): 2756,\n",
       " datetime.datetime(2014, 12, 1, 0, 0): 2857}"
      ]
     },
     "execution_count": 12,
     "metadata": {},
     "output_type": "execute_result"
    }
   ],
   "source": [
    "dates_counts"
   ]
  },
  {
   "cell_type": "markdown",
   "id": "5d60a4fc",
   "metadata": {},
   "source": [
    "## Exploration of the number of deaths by origin and gender"
   ]
  },
  {
   "cell_type": "code",
   "execution_count": 13,
   "id": "df6f4207",
   "metadata": {},
   "outputs": [],
   "source": [
    "sexes = [row[5] for row in guns]\n",
    "sexes_counts = {}\n",
    "\n",
    "for sex in sexes:\n",
    "    if sex not in sexes_counts:\n",
    "        sexes_counts[sex] = 0\n",
    "    sexes_counts[sex] += 1"
   ]
  },
  {
   "cell_type": "code",
   "execution_count": 14,
   "id": "dd5b5f95",
   "metadata": {},
   "outputs": [
    {
     "data": {
      "text/plain": [
       "{'M': 86349, 'F': 14449}"
      ]
     },
     "execution_count": 14,
     "metadata": {},
     "output_type": "execute_result"
    }
   ],
   "source": [
    "sexes_counts"
   ]
  },
  {
   "cell_type": "code",
   "execution_count": 15,
   "id": "d6b8ccf7",
   "metadata": {},
   "outputs": [],
   "source": [
    "races = [row[7] for row in guns]\n",
    "races_counts = {}\n",
    "\n",
    "for race in races:\n",
    "    if race not in races_counts:\n",
    "        races_counts[race] = 0\n",
    "    races_counts[race] += 1"
   ]
  },
  {
   "cell_type": "code",
   "execution_count": 16,
   "id": "16d76e07",
   "metadata": {},
   "outputs": [
    {
     "data": {
      "text/plain": [
       "{'Asian/Pacific Islander': 1326,\n",
       " 'White': 66237,\n",
       " 'Native American/Native Alaskan': 917,\n",
       " 'Black': 23296,\n",
       " 'Hispanic': 9022}"
      ]
     },
     "execution_count": 16,
     "metadata": {},
     "output_type": "execute_result"
    }
   ],
   "source": [
    "races_counts"
   ]
  },
  {
   "cell_type": "markdown",
   "id": "744f77f7",
   "metadata": {},
   "source": [
    "## Dataset total population by origin in the US"
   ]
  },
  {
   "cell_type": "code",
   "execution_count": 17,
   "id": "b995f138",
   "metadata": {},
   "outputs": [],
   "source": [
    "with open(\"census.csv\", \"r\") as f:\n",
    "    census_csv_reader = csv.reader(f)\n",
    "    census = list(census_csv_reader)"
   ]
  },
  {
   "cell_type": "code",
   "execution_count": 18,
   "id": "72ec2418",
   "metadata": {},
   "outputs": [
    {
     "name": "stdout",
     "output_type": "stream",
     "text": [
      "[['Id', 'Year', 'Id', 'Sex', 'Id', 'Hispanic Origin', 'Id', 'Id2', 'Geography', 'Total', 'Race Alone - White', 'Race Alone - Hispanic', 'Race Alone - Black or African American', 'Race Alone - American Indian and Alaska Native', 'Race Alone - Asian', 'Race Alone - Native Hawaiian and Other Pacific Islander', 'Two or More Races'], ['cen42010', 'April 1, 2010 Census', 'totsex', 'Both Sexes', 'tothisp', 'Total', '0100000US', '', 'United States', '308745538', '197318956', '44618105', '40250635', '3739506', '15159516', '674625', '6984195']]\n"
     ]
    }
   ],
   "source": [
    "print(census)"
   ]
  },
  {
   "cell_type": "markdown",
   "id": "69b4011a",
   "metadata": {},
   "source": [
    "## Calculate the ratio of firearm deaths by origin"
   ]
  },
  {
   "cell_type": "code",
   "execution_count": 19,
   "id": "34dfc9e3",
   "metadata": {},
   "outputs": [
    {
     "data": {
      "text/plain": [
       "{'Asian/Pacific Islander': 1326,\n",
       " 'White': 66237,\n",
       " 'Native American/Native Alaskan': 917,\n",
       " 'Black': 23296,\n",
       " 'Hispanic': 9022}"
      ]
     },
     "execution_count": 19,
     "metadata": {},
     "output_type": "execute_result"
    }
   ],
   "source": [
    "# Example \n",
    "races_counts"
   ]
  },
  {
   "cell_type": "code",
   "execution_count": 20,
   "id": "0fddc9da",
   "metadata": {},
   "outputs": [
    {
     "data": {
      "text/plain": [
       "33.56849303419181"
      ]
     },
     "execution_count": 20,
     "metadata": {},
     "output_type": "execute_result"
    }
   ],
   "source": [
    "white_ratio_per_100000 = races_counts['White'] / int(census[1][10]) * 100000\n",
    "white_ratio_per_100000"
   ]
  },
  {
   "cell_type": "code",
   "execution_count": 21,
   "id": "7a4390af",
   "metadata": {},
   "outputs": [],
   "source": [
    "mapping = {\n",
    "    \"Asian/Pacific Islander\" : 15159516 + 674625,\n",
    "    \"Native American/Native Alaskan\" : 3739506,\n",
    "    \"Black\" : 40250635,\n",
    "    \"Hispanic\" : 44618105,\n",
    "    \"White\" : 197318956\n",
    "}"
   ]
  },
  {
   "cell_type": "code",
   "execution_count": 22,
   "id": "619397a6",
   "metadata": {},
   "outputs": [],
   "source": [
    "ratios = {}\n",
    "\n",
    "for k , v in races_counts.items():\n",
    "    ratios[k] = (v / mapping[k]) * 100000"
   ]
  },
  {
   "cell_type": "code",
   "execution_count": 23,
   "id": "64811a79",
   "metadata": {},
   "outputs": [
    {
     "data": {
      "text/plain": [
       "{'Asian/Pacific Islander': 8.374309664161762,\n",
       " 'White': 33.56849303419181,\n",
       " 'Native American/Native Alaskan': 24.521955573811088,\n",
       " 'Black': 57.8773477735196,\n",
       " 'Hispanic': 20.220491210910907}"
      ]
     },
     "execution_count": 23,
     "metadata": {},
     "output_type": "execute_result"
    }
   ],
   "source": [
    "ratios"
   ]
  },
  {
   "cell_type": "markdown",
   "id": "de3ba433",
   "metadata": {},
   "source": [
    "## Filter by homicide"
   ]
  },
  {
   "cell_type": "code",
   "execution_count": 24,
   "id": "b3548133",
   "metadata": {},
   "outputs": [],
   "source": [
    "intents = [row[3] for row in guns]\n",
    "homicides_counts = {}\n",
    "\n",
    "for i , race in enumerate(races):\n",
    "    if race not in homicides_counts:\n",
    "        homicides_counts[race] = 0\n",
    "    if intents[i] == \"Homicide\":\n",
    "        homicides_counts[race] += 1"
   ]
  },
  {
   "cell_type": "code",
   "execution_count": 25,
   "id": "73e514ba",
   "metadata": {},
   "outputs": [
    {
     "data": {
      "text/plain": [
       "{'Asian/Pacific Islander': 559,\n",
       " 'White': 9147,\n",
       " 'Native American/Native Alaskan': 326,\n",
       " 'Black': 19510,\n",
       " 'Hispanic': 5634}"
      ]
     },
     "execution_count": 25,
     "metadata": {},
     "output_type": "execute_result"
    }
   ],
   "source": [
    "homicides_counts"
   ]
  },
  {
   "cell_type": "code",
   "execution_count": 26,
   "id": "f92e1d17",
   "metadata": {},
   "outputs": [],
   "source": [
    "homicides_ratios = {}\n",
    "\n",
    "for k , v in homicides_counts.items():\n",
    "    homicides_ratios[k] = (v / mapping[k]) * 100000"
   ]
  },
  {
   "cell_type": "code",
   "execution_count": 27,
   "id": "d7aaaa5b",
   "metadata": {},
   "outputs": [
    {
     "data": {
      "text/plain": [
       "{'Asian/Pacific Islander': 3.530346230970155,\n",
       " 'White': 4.6356417981453335,\n",
       " 'Native American/Native Alaskan': 8.717729026240365,\n",
       " 'Black': 48.471284987180944,\n",
       " 'Hispanic': 12.627161104219914}"
      ]
     },
     "execution_count": 27,
     "metadata": {},
     "output_type": "execute_result"
    }
   ],
   "source": [
    "homicides_ratios"
   ]
  }
 ],
 "metadata": {
  "kernelspec": {
   "display_name": "Python 3 (ipykernel)",
   "language": "python",
   "name": "python3"
  },
  "language_info": {
   "codemirror_mode": {
    "name": "ipython",
    "version": 3
   },
   "file_extension": ".py",
   "mimetype": "text/x-python",
   "name": "python",
   "nbconvert_exporter": "python",
   "pygments_lexer": "ipython3",
   "version": "3.9.7"
  }
 },
 "nbformat": 4,
 "nbformat_minor": 5
}
