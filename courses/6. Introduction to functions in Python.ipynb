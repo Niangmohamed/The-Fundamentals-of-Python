{
 "cells": [
  {
   "cell_type": "markdown",
   "id": "b971afa3",
   "metadata": {},
   "source": [
    "# Python: Introduction to functions"
   ]
  },
  {
   "cell_type": "markdown",
   "id": "b384f9b9",
   "metadata": {},
   "source": [
    "Goals:\n",
    "\n",
    "* Read correctly written words in a file\n",
    "* Use new methods on strings\n",
    "* Create functions\n",
    "* Datasets: dictionary.txt and text.txt"
   ]
  },
  {
   "cell_type": "markdown",
   "id": "b1f18860",
   "metadata": {},
   "source": [
    "## Vocabulary tokenization"
   ]
  },
  {
   "cell_type": "markdown",
   "id": "d8892767",
   "metadata": {},
   "source": [
    "**Tokenization** consists in transforming the elements of a vocabulary into a list."
   ]
  },
  {
   "cell_type": "code",
   "execution_count": 1,
   "id": "274909ee",
   "metadata": {},
   "outputs": [
    {
     "data": {
      "text/plain": [
       "'à afin autant automatique automatisées autres aux bien calcul ces comme complexes compression connaissance considérée danalyse dans de den densembles des dincertitude discipline disjointes domaines données elle emploie en est et extraire formes généralement généraux haute informations informatique intéressantes la lanalytique lapprentissage larges le les lextraction limitée linformation lingénierie masse mathématiques méthodes modèles modélisation moins ne notamment objectif ou particulièrement pas performance plus plusieurs possible potentiellement premier principalement probabilistes produire programmation prophétique que qui reconnaissance sadaptent science signal soit sont source sources statistique stockage techniques technologie termes théorie théories tirées traitement tri utiles visualisation wikipédia'"
      ]
     },
     "execution_count": 1,
     "metadata": {},
     "output_type": "execute_result"
    }
   ],
   "source": [
    "vocabulary = open(\"dictionnaire.txt\", \"r\", encoding=\"utf-8\").read()\n",
    "vocabulary"
   ]
  },
  {
   "cell_type": "code",
   "execution_count": 2,
   "id": "e18705e5",
   "metadata": {},
   "outputs": [
    {
     "name": "stdout",
     "output_type": "stream",
     "text": [
      "['à', 'afin', 'autant', 'automatique', 'automatisées', 'autres', 'aux', 'bien', 'calcul', 'ces', 'comme', 'complexes', 'compression', 'connaissance', 'considérée', 'danalyse', 'dans', 'de', 'den', 'densembles', 'des', 'dincertitude', 'discipline', 'disjointes', 'domaines', 'données', 'elle', 'emploie', 'en', 'est', 'et', 'extraire', 'formes', 'généralement', 'généraux', 'haute', 'informations', 'informatique', 'intéressantes', 'la', 'lanalytique', 'lapprentissage', 'larges', 'le', 'les', 'lextraction', 'limitée', 'linformation', 'lingénierie', 'masse', 'mathématiques', 'méthodes', 'modèles', 'modélisation', 'moins', 'ne', 'notamment', 'objectif', 'ou', 'particulièrement', 'pas', 'performance', 'plus', 'plusieurs', 'possible', 'potentiellement', 'premier', 'principalement', 'probabilistes', 'produire', 'programmation', 'prophétique', 'que', 'qui', 'reconnaissance', 'sadaptent', 'science', 'signal', 'soit', 'sont', 'source', 'sources', 'statistique', 'stockage', 'techniques', 'technologie', 'termes', 'théorie', 'théories', 'tirées', 'traitement', 'tri', 'utiles', 'visualisation', 'wikipédia']\n"
     ]
    }
   ],
   "source": [
    "tokenized_vocabulary = vocabulary.split(' ')\n",
    "print(tokenized_vocabulary)"
   ]
  },
  {
   "cell_type": "markdown",
   "id": "2f25c6c0",
   "metadata": {},
   "source": [
    "## Special characters replacement"
   ]
  },
  {
   "cell_type": "markdown",
   "id": "9cbc3749",
   "metadata": {},
   "source": [
    "The **replace()** method is widely used in natural language processing. It allows to replace all kinds of characters into other more useful characters."
   ]
  },
  {
   "cell_type": "code",
   "execution_count": 3,
   "id": "0fdda1ce",
   "metadata": {},
   "outputs": [
    {
     "name": "stdout",
     "output_type": "stream",
     "text": [
      "En termes généraux, la scence des données est l'extraction de conaissance d'ensembles de données.   \n",
      " \n",
      "Elle emploie des techniques et des théories tirées de plusieurs autres domaines plus larges des mathématiques, la statistique principalement, la téorie de l'information et la technologie de l'information, notamment le traitement de signal, des modèles probabilistes, l'apprentissage automatique, l'apprentissage statistiqe, la programmation informatique, l'ingénierie de données, la reconnaissance de formes et l'apprentissage, la visualisation, l'analytique prophétique, la modélisation d'incertitude, le stokage de données, la compression de données et le calcul à haute performance. \n",
      " \n",
      "Les méthodes qui s'adaptent aux données de masse sont particulièrement intéressantes dans la science des données, bien que la dicipline ne soit généralement pas considérée come limitée à ces données.   \n",
      " \n",
      "Le premier objectif est de produire des méthodes automatisées, autant que possible de tri et d'analyse de données de masse et de sources plus ou moins complexes ou disjointes de données, afin d'en extraire des informations utiles ou potentiellement utiles. Source Wikipédia\n"
     ]
    }
   ],
   "source": [
    "f = open(\"texte.txt\", \"r\", encoding=\"utf-8\")\n",
    "text_string = f.read()\n",
    "\n",
    "print(text_string)"
   ]
  },
  {
   "cell_type": "code",
   "execution_count": 4,
   "id": "e7b91830",
   "metadata": {},
   "outputs": [
    {
     "data": {
      "text/plain": [
       "'Python is fun!'"
      ]
     },
     "execution_count": 4,
     "metadata": {},
     "output_type": "execute_result"
    }
   ],
   "source": [
    "# Replace() method example\n",
    "text = \"Python,is,fun!\"\n",
    "text_processed = text.replace(\",\", \" \")\n",
    "text_processed"
   ]
  },
  {
   "cell_type": "markdown",
   "id": "dd53e1a2",
   "metadata": {},
   "source": [
    "### Training"
   ]
  },
  {
   "cell_type": "markdown",
   "id": "b2d846dc",
   "metadata": {},
   "source": [
    "Let's replace all the special characters in text_string."
   ]
  },
  {
   "cell_type": "code",
   "execution_count": 5,
   "id": "8a1398c3",
   "metadata": {},
   "outputs": [
    {
     "data": {
      "text/plain": [
       "'En termes généraux la scence des données est lextraction de conaissance densembles de données    Elle emploie des techniques et des théories tirées de plusieurs autres domaines plus larges des mathématiques la statistique principalement la téorie de linformation et la technologie de linformation notamment le traitement de signal des modèles probabilistes lapprentissage automatique lapprentissage statistiqe la programmation informatique lingénierie de données la reconnaissance de formes et lapprentissage la visualisation lanalytique prophétique la modélisation dincertitude le stokage de données la compression de données et le calcul à haute performance  Les méthodes qui sadaptent aux données de masse sont particulièrement intéressantes dans la science des données bien que la dicipline ne soit généralement pas considérée come limitée à ces données    Le premier objectif est de produire des méthodes automatisées autant que possible de tri et danalyse de données de masse et de sources plus ou moins complexes ou disjointes de données afin den extraire des informations utiles ou potentiellement utiles Source Wikipédia'"
      ]
     },
     "execution_count": 5,
     "metadata": {},
     "output_type": "execute_result"
    }
   ],
   "source": [
    "clean_text_string = text_string.replace(\".\", \"\")\n",
    "clean_text_string = clean_text_string.replace(\",\", \"\")\n",
    "clean_text_string = clean_text_string.replace(\"'\", \"\")\n",
    "clean_text_string = clean_text_string.replace(\"\\n\", \"\")\n",
    "clean_text_string"
   ]
  },
  {
   "cell_type": "markdown",
   "id": "faf6c053",
   "metadata": {},
   "source": [
    "## Functions"
   ]
  },
  {
   "cell_type": "code",
   "execution_count": 6,
   "id": "1739d9b5",
   "metadata": {},
   "outputs": [],
   "source": [
    "# Example\n",
    "def clean_string(string):\n",
    "    \n",
    "    cleaned_string = string.replace(\",\", \" \")\n",
    "    \n",
    "    return cleaned_string"
   ]
  },
  {
   "cell_type": "code",
   "execution_count": 7,
   "id": "d0c3fbce",
   "metadata": {},
   "outputs": [
    {
     "data": {
      "text/plain": [
       "'Python is fun!'"
      ]
     },
     "execution_count": 7,
     "metadata": {},
     "output_type": "execute_result"
    }
   ],
   "source": [
    "sentence = \"Python,is,fun!\"\n",
    "cleaned_sentence = clean_string(sentence)\n",
    "cleaned_sentence"
   ]
  },
  {
   "cell_type": "markdown",
   "id": "fd3b77a1",
   "metadata": {},
   "source": [
    "### Training"
   ]
  },
  {
   "cell_type": "markdown",
   "id": "52f608e0",
   "metadata": {},
   "source": [
    "Let's remove the punctuation and empty line that are in text_string using a function."
   ]
  },
  {
   "cell_type": "code",
   "execution_count": 8,
   "id": "e6501067",
   "metadata": {},
   "outputs": [],
   "source": [
    "def clean_text(text):\n",
    "    \n",
    "    cleaned_text = text.replace(\".\", \"\")\n",
    "    cleaned_text = cleaned_text.replace(\",\", \"\")\n",
    "    cleaned_text = cleaned_text.replace(\"'\", \"\")\n",
    "    cleaned_text = cleaned_text.replace(\"\\n\", \"\")\n",
    "    \n",
    "    return cleaned_text"
   ]
  },
  {
   "cell_type": "code",
   "execution_count": 9,
   "id": "0796287a",
   "metadata": {},
   "outputs": [
    {
     "data": {
      "text/plain": [
       "'En termes généraux la scence des données est lextraction de conaissance densembles de données    Elle emploie des techniques et des théories tirées de plusieurs autres domaines plus larges des mathématiques la statistique principalement la téorie de linformation et la technologie de linformation notamment le traitement de signal des modèles probabilistes lapprentissage automatique lapprentissage statistiqe la programmation informatique lingénierie de données la reconnaissance de formes et lapprentissage la visualisation lanalytique prophétique la modélisation dincertitude le stokage de données la compression de données et le calcul à haute performance  Les méthodes qui sadaptent aux données de masse sont particulièrement intéressantes dans la science des données bien que la dicipline ne soit généralement pas considérée come limitée à ces données    Le premier objectif est de produire des méthodes automatisées autant que possible de tri et danalyse de données de masse et de sources plus ou moins complexes ou disjointes de données afin den extraire des informations utiles ou potentiellement utiles Source Wikipédia'"
      ]
     },
     "execution_count": 9,
     "metadata": {},
     "output_type": "execute_result"
    }
   ],
   "source": [
    "cleaned_text_string = clean_text(text_string)\n",
    "cleaned_text_string"
   ]
  },
  {
   "cell_type": "markdown",
   "id": "ef340a3d",
   "metadata": {},
   "source": [
    "## Change upper case letters to lower case"
   ]
  },
  {
   "cell_type": "markdown",
   "id": "71aa079b",
   "metadata": {},
   "source": [
    "To transform words into lower case, we use the **lower()** method."
   ]
  },
  {
   "cell_type": "code",
   "execution_count": 10,
   "id": "7df59e23",
   "metadata": {},
   "outputs": [
    {
     "data": {
      "text/plain": [
       "'andrej karpathy'"
      ]
     },
     "execution_count": 10,
     "metadata": {},
     "output_type": "execute_result"
    }
   ],
   "source": [
    "# Example\n",
    "words = \"Andrej KARPATHY\"\n",
    "lower_words = words.lower()\n",
    "lower_words"
   ]
  },
  {
   "cell_type": "markdown",
   "id": "fbfdf818",
   "metadata": {},
   "source": [
    "Let's improve our function above."
   ]
  },
  {
   "cell_type": "code",
   "execution_count": 11,
   "id": "0c72d4a6",
   "metadata": {},
   "outputs": [],
   "source": [
    "def clean_text(text):\n",
    "    \n",
    "    cleaned_text = text.replace(\".\", \"\")\n",
    "    cleaned_text = cleaned_text.replace(\",\", \"\")\n",
    "    cleaned_text = cleaned_text.replace(\"'\", \"\")\n",
    "    cleaned_text = cleaned_text.replace(\"\\n\", \"\")\n",
    "    cleaned_text = cleaned_text.lower()\n",
    "    \n",
    "    return cleaned_text"
   ]
  },
  {
   "cell_type": "code",
   "execution_count": 12,
   "id": "0f501ef1",
   "metadata": {},
   "outputs": [
    {
     "data": {
      "text/plain": [
       "'en termes généraux la scence des données est lextraction de conaissance densembles de données    elle emploie des techniques et des théories tirées de plusieurs autres domaines plus larges des mathématiques la statistique principalement la téorie de linformation et la technologie de linformation notamment le traitement de signal des modèles probabilistes lapprentissage automatique lapprentissage statistiqe la programmation informatique lingénierie de données la reconnaissance de formes et lapprentissage la visualisation lanalytique prophétique la modélisation dincertitude le stokage de données la compression de données et le calcul à haute performance  les méthodes qui sadaptent aux données de masse sont particulièrement intéressantes dans la science des données bien que la dicipline ne soit généralement pas considérée come limitée à ces données    le premier objectif est de produire des méthodes automatisées autant que possible de tri et danalyse de données de masse et de sources plus ou moins complexes ou disjointes de données afin den extraire des informations utiles ou potentiellement utiles source wikipédia'"
      ]
     },
     "execution_count": 12,
     "metadata": {},
     "output_type": "execute_result"
    }
   ],
   "source": [
    "cleaned_text_string = clean_text(text_string)\n",
    "cleaned_text_string"
   ]
  },
  {
   "cell_type": "markdown",
   "id": "27352162",
   "metadata": {},
   "source": [
    "## Multiple arguments"
   ]
  },
  {
   "cell_type": "code",
   "execution_count": 13,
   "id": "2caa1804",
   "metadata": {},
   "outputs": [],
   "source": [
    "# Example 1\n",
    "def clean_string(string, change_string):\n",
    "    \n",
    "    replacement_string = \"\"\n",
    "    cleaned_string = string.replace(change_string, replacement_string)\n",
    "    \n",
    "    return cleaned_string"
   ]
  },
  {
   "cell_type": "code",
   "execution_count": 14,
   "id": "f81503bb",
   "metadata": {},
   "outputs": [
    {
     "data": {
      "text/plain": [
       "'HEY'"
      ]
     },
     "execution_count": 14,
     "metadata": {},
     "output_type": "execute_result"
    }
   ],
   "source": [
    "hey = clean_string(\"HEY!!!!!\", \"!\")\n",
    "hey "
   ]
  },
  {
   "cell_type": "code",
   "execution_count": 15,
   "id": "e676dff2",
   "metadata": {},
   "outputs": [],
   "source": [
    "# Example 2\n",
    "def clean_string(string, change_string, replacement_string):\n",
    "    \n",
    "    cleaned_string = string.replace(change_string, replacement_string)\n",
    "    \n",
    "    return cleaned_string"
   ]
  },
  {
   "cell_type": "code",
   "execution_count": 16,
   "id": "7d215154",
   "metadata": {},
   "outputs": [
    {
     "data": {
      "text/plain": [
       "'Haha!!!'"
      ]
     },
     "execution_count": 16,
     "metadata": {},
     "output_type": "execute_result"
    }
   ],
   "source": [
    "haha = clean_string(\"Haha...\", \".\", \"!\")\n",
    "haha"
   ]
  },
  {
   "cell_type": "markdown",
   "id": "d9fc3101",
   "metadata": {},
   "source": [
    "### Training 1"
   ]
  },
  {
   "cell_type": "markdown",
   "id": "60e1cac3",
   "metadata": {},
   "source": [
    "Let's improve our function above to make it more general."
   ]
  },
  {
   "cell_type": "code",
   "execution_count": 17,
   "id": "2951fcb2",
   "metadata": {},
   "outputs": [],
   "source": [
    "def clean_text(string, change_string_list, replacement_string):\n",
    "    \n",
    "    cleaned_string = string\n",
    "    \n",
    "    for change_string in change_string_list:\n",
    "        cleaned_string = cleaned_string.replace(change_string, replacement_string)\n",
    "    cleaned_string = cleaned_string.lower()\n",
    "    \n",
    "    return cleaned_string"
   ]
  },
  {
   "cell_type": "code",
   "execution_count": 18,
   "id": "b89a7238",
   "metadata": {},
   "outputs": [
    {
     "data": {
      "text/plain": [
       "'en termes généraux la scence des données est lextraction de conaissance densembles de données    elle emploie des techniques et des théories tirées de plusieurs autres domaines plus larges des mathématiques la statistique principalement la téorie de linformation et la technologie de linformation notamment le traitement de signal des modèles probabilistes lapprentissage automatique lapprentissage statistiqe la programmation informatique lingénierie de données la reconnaissance de formes et lapprentissage la visualisation lanalytique prophétique la modélisation dincertitude le stokage de données la compression de données et le calcul à haute performance  les méthodes qui sadaptent aux données de masse sont particulièrement intéressantes dans la science des données bien que la dicipline ne soit généralement pas considérée come limitée à ces données    le premier objectif est de produire des méthodes automatisées autant que possible de tri et danalyse de données de masse et de sources plus ou moins complexes ou disjointes de données afin den extraire des informations utiles ou potentiellement utiles source wikipédia'"
      ]
     },
     "execution_count": 18,
     "metadata": {},
     "output_type": "execute_result"
    }
   ],
   "source": [
    "change_string_list = [\".\", \",\", \"'\", \"\\n\"]\n",
    "replacement_string = \"\"\n",
    "\n",
    "cleaned_text = clean_text(text_string, change_string_list, replacement_string)\n",
    "cleaned_text"
   ]
  },
  {
   "cell_type": "markdown",
   "id": "36a8d0c8",
   "metadata": {},
   "source": [
    "### Training 2: Text file tokenization"
   ]
  },
  {
   "cell_type": "code",
   "execution_count": 19,
   "id": "7249a73b",
   "metadata": {},
   "outputs": [],
   "source": [
    "def tokenize(string, change_string_list, replacement_string):\n",
    "    \n",
    "    cleaned_text = clean_text(string, change_string_list, replacement_string)\n",
    "    text_tokens = cleaned_text.split(\" \")\n",
    "    \n",
    "    return text_tokens"
   ]
  },
  {
   "cell_type": "code",
   "execution_count": 20,
   "id": "4ccee4dc",
   "metadata": {},
   "outputs": [
    {
     "name": "stdout",
     "output_type": "stream",
     "text": [
      "['en', 'termes', 'généraux', 'la', 'scence', 'des', 'données', 'est', 'lextraction', 'de']\n"
     ]
    }
   ],
   "source": [
    "change_string_list = [\".\", \",\", \"'\", \"\\n\"]\n",
    "replacement_string = \"\"\n",
    "\n",
    "tokenized_text = tokenize(text_string, change_string_list, replacement_string)\n",
    "print(tokenized_text[0:10])"
   ]
  },
  {
   "cell_type": "markdown",
   "id": "954a6598",
   "metadata": {},
   "source": [
    "## Find misspelled words"
   ]
  },
  {
   "cell_type": "markdown",
   "id": "e1ee3c8a",
   "metadata": {},
   "source": [
    "### Training"
   ]
  },
  {
   "cell_type": "code",
   "execution_count": 21,
   "id": "26ecf396",
   "metadata": {},
   "outputs": [
    {
     "name": "stdout",
     "output_type": "stream",
     "text": [
      "['scence', 'conaissance', '', '', '', 'téorie', 'statistiqe', 'stokage', '', 'dicipline', 'come', '', '', '']\n"
     ]
    }
   ],
   "source": [
    "misspelled_words = []\n",
    "\n",
    "for token in tokenized_text:\n",
    "    if token not in tokenized_vocabulary:\n",
    "        misspelled_words.append(token)\n",
    "\n",
    "print(misspelled_words)"
   ]
  }
 ],
 "metadata": {
  "kernelspec": {
   "display_name": "Python 3 (ipykernel)",
   "language": "python",
   "name": "python3"
  },
  "language_info": {
   "codemirror_mode": {
    "name": "ipython",
    "version": 3
   },
   "file_extension": ".py",
   "mimetype": "text/x-python",
   "name": "python",
   "nbconvert_exporter": "python",
   "pygments_lexer": "ipython3",
   "version": "3.9.7"
  }
 },
 "nbformat": 4,
 "nbformat_minor": 5
}
