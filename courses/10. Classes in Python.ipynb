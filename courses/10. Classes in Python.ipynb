{
 "cells": [
  {
   "cell_type": "markdown",
   "id": "f8475e2c",
   "metadata": {},
   "source": [
    "# Python: Classes"
   ]
  },
  {
   "cell_type": "markdown",
   "id": "5a4c4cfb",
   "metadata": {},
   "source": [
    "## Objects & Classes"
   ]
  },
  {
   "cell_type": "markdown",
   "id": "fb8fbee0",
   "metadata": {},
   "source": [
    "A **class** is a set of **functions** and **attributes** (variables) that define an **object**. **Objects** are the **instances** of a **class**. "
   ]
  },
  {
   "cell_type": "code",
   "execution_count": 1,
   "id": "8412b67f",
   "metadata": {},
   "outputs": [
    {
     "data": {
      "text/plain": [
       "'Tesla'"
      ]
     },
     "execution_count": 1,
     "metadata": {},
     "output_type": "execute_result"
    }
   ],
   "source": [
    "# Example 1\n",
    "class Car():\n",
    "    def __init__(self):\n",
    "        self.mark = \"Tesla\"\n",
    "        self.model = \"X Plaid\"\n",
    "        self.color = \"Black\"\n",
    "\n",
    "# Initialize the instance of the Car class\n",
    "car = Car()\n",
    "# Access to the mark instance\n",
    "car.mark"
   ]
  },
  {
   "cell_type": "code",
   "execution_count": 2,
   "id": "002cef5d",
   "metadata": {},
   "outputs": [
    {
     "data": {
      "text/plain": [
       "'Markov Chain'"
      ]
     },
     "execution_count": 2,
     "metadata": {},
     "output_type": "execute_result"
    }
   ],
   "source": [
    "# Example 2\n",
    "class Course():\n",
    "    def __init__(self):\n",
    "        self.name = \"Markov Chain\"\n",
    "\n",
    "# Initialize the instance of the Course class\n",
    "course = Course()\n",
    "# Access to the name instance\n",
    "course.name"
   ]
  },
  {
   "cell_type": "markdown",
   "id": "d191c11d",
   "metadata": {},
   "source": [
    "## The \\_\\_init\\_\\_ instance method"
   ]
  },
  {
   "cell_type": "markdown",
   "id": "99074521",
   "metadata": {},
   "source": [
    "The **init** method allows to add **properties** to an **object**. It is often called the **constructor** of a **class**."
   ]
  },
  {
   "cell_type": "code",
   "execution_count": 3,
   "id": "49199ed3",
   "metadata": {},
   "outputs": [
    {
     "data": {
      "text/plain": [
       "'Markov Chain'"
      ]
     },
     "execution_count": 3,
     "metadata": {},
     "output_type": "execute_result"
    }
   ],
   "source": [
    "class Course():\n",
    "    def __init__(self, name):\n",
    "        self.name = name\n",
    "\n",
    "course = Course(\"Markov Chain\")\n",
    "course.name"
   ]
  },
  {
   "cell_type": "markdown",
   "id": "4baf4631",
   "metadata": {},
   "source": [
    "## Create an instance methods"
   ]
  },
  {
   "cell_type": "code",
   "execution_count": 4,
   "id": "305731b2",
   "metadata": {},
   "outputs": [
    {
     "name": "stdout",
     "output_type": "stream",
     "text": [
      "Markov Chain\n"
     ]
    }
   ],
   "source": [
    "# Example 1\n",
    "class Course():\n",
    "    def __init__(self, name):\n",
    "        self.name = name\n",
    "        \n",
    "    def print_name(self):\n",
    "        print(self.name)\n",
    "\n",
    "course = Course(\"Markov Chain\")\n",
    "course.print_name()"
   ]
  },
  {
   "cell_type": "code",
   "execution_count": 5,
   "id": "bdf8273a",
   "metadata": {},
   "outputs": [],
   "source": [
    "# Example 2\n",
    "import csv\n",
    "\n",
    "f = open(\"nfl.csv\")\n",
    "nfl = list(csv.reader(f))"
   ]
  },
  {
   "cell_type": "code",
   "execution_count": 6,
   "id": "b4aba27d",
   "metadata": {},
   "outputs": [],
   "source": [
    "class Team():\n",
    "    def __init__(self, name):\n",
    "        self.name = name\n",
    "    \n",
    "    def print_name(self):\n",
    "        print(self.name)\n",
    "        \n",
    "    def count_total_wins(self):\n",
    "        count = 0\n",
    "        \n",
    "        for row in nfl:\n",
    "            if row[2] == self.name:\n",
    "                count += 1\n",
    "            \n",
    "        return count"
   ]
  },
  {
   "cell_type": "code",
   "execution_count": 7,
   "id": "107d61f4",
   "metadata": {},
   "outputs": [],
   "source": [
    "denver = Team(\"Denver Broncos\")"
   ]
  },
  {
   "cell_type": "code",
   "execution_count": 8,
   "id": "511cd230",
   "metadata": {},
   "outputs": [
    {
     "name": "stdout",
     "output_type": "stream",
     "text": [
      "Denver Broncos\n"
     ]
    }
   ],
   "source": [
    "denver.print_name()"
   ]
  },
  {
   "cell_type": "code",
   "execution_count": 9,
   "id": "22789eb3",
   "metadata": {},
   "outputs": [
    {
     "data": {
      "text/plain": [
       "46"
      ]
     },
     "execution_count": 9,
     "metadata": {},
     "output_type": "execute_result"
    }
   ],
   "source": [
    "denver.count_total_wins()"
   ]
  },
  {
   "cell_type": "markdown",
   "id": "ea1f6d4f",
   "metadata": {},
   "source": [
    "## Improve the \\_\\_init\\_\\_ instance method"
   ]
  },
  {
   "cell_type": "markdown",
   "id": "aab676d8",
   "metadata": {},
   "source": [
    "### Training"
   ]
  },
  {
   "cell_type": "code",
   "execution_count": 10,
   "id": "0ecb5d77",
   "metadata": {},
   "outputs": [],
   "source": [
    "class Team():\n",
    "    def __init__(self, name):\n",
    "        self.name = name\n",
    "        f = open(\"nfl.csv\")\n",
    "        self.nfl = list(csv.reader(f))\n",
    "        \n",
    "    def count_total_wins(self):\n",
    "        count = 0\n",
    "        \n",
    "        for row in self.nfl:\n",
    "            if row[2] == self.name:\n",
    "                count += 1\n",
    "        \n",
    "        return count"
   ]
  },
  {
   "cell_type": "code",
   "execution_count": 11,
   "id": "cacb1c3a",
   "metadata": {},
   "outputs": [],
   "source": [
    "sf = Team(\"San Francisco 49ers\")"
   ]
  },
  {
   "cell_type": "code",
   "execution_count": 12,
   "id": "292396c1",
   "metadata": {},
   "outputs": [
    {
     "data": {
      "text/plain": [
       "51"
      ]
     },
     "execution_count": 12,
     "metadata": {},
     "output_type": "execute_result"
    }
   ],
   "source": [
    "sf_wins = sf.count_total_wins()\n",
    "sf_wins"
   ]
  },
  {
   "cell_type": "markdown",
   "id": "424dd8e1",
   "metadata": {},
   "source": [
    "## Number of wins in a given year"
   ]
  },
  {
   "cell_type": "markdown",
   "id": "f95477fa",
   "metadata": {},
   "source": [
    "### Training"
   ]
  },
  {
   "cell_type": "code",
   "execution_count": 13,
   "id": "d1f65566",
   "metadata": {},
   "outputs": [],
   "source": [
    "class Team():\n",
    "    def __init__(self, name):\n",
    "        self.name = name\n",
    "        f = open(\"nfl.csv\")\n",
    "        self.nfl = list(csv.reader(f))\n",
    "        \n",
    "    def count_total_wins(self):\n",
    "        count = 0\n",
    "        \n",
    "        for row in self.nfl:\n",
    "            if row[2] == self.name:\n",
    "                count += 1\n",
    "        \n",
    "        return count\n",
    "    \n",
    "    def count_wins_in_year(self, year):\n",
    "        count = 0\n",
    "        \n",
    "        for row in self.nfl:\n",
    "            if row[2] == self.name and row[0] == year:\n",
    "                count += 1\n",
    "                \n",
    "        return count"
   ]
  },
  {
   "cell_type": "code",
   "execution_count": 14,
   "id": "b6b5be76",
   "metadata": {},
   "outputs": [],
   "source": [
    "sf = Team(\"San Francisco 49ers\")"
   ]
  },
  {
   "cell_type": "code",
   "execution_count": 15,
   "id": "7e5ee34e",
   "metadata": {},
   "outputs": [
    {
     "data": {
      "text/plain": [
       "12"
      ]
     },
     "execution_count": 15,
     "metadata": {},
     "output_type": "execute_result"
    }
   ],
   "source": [
    "sf_wins = sf.count_wins_in_year('2013')\n",
    "sf_wins"
   ]
  }
 ],
 "metadata": {
  "kernelspec": {
   "display_name": "Python 3 (ipykernel)",
   "language": "python",
   "name": "python3"
  },
  "language_info": {
   "codemirror_mode": {
    "name": "ipython",
    "version": 3
   },
   "file_extension": ".py",
   "mimetype": "text/x-python",
   "name": "python",
   "nbconvert_exporter": "python",
   "pygments_lexer": "ipython3",
   "version": "3.9.7"
  }
 },
 "nbformat": 4,
 "nbformat_minor": 5
}
