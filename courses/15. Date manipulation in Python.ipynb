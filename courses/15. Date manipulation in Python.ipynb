{
 "cells": [
  {
   "cell_type": "markdown",
   "id": "5b4f98a9",
   "metadata": {},
   "source": [
    "# Python: Date manipulation"
   ]
  },
  {
   "cell_type": "markdown",
   "id": "b7fbac65",
   "metadata": {},
   "source": [
    "**Goal**: Explore the time and date management modules in Python"
   ]
  },
  {
   "cell_type": "markdown",
   "id": "8fa4daed",
   "metadata": {},
   "source": [
    "## The time module"
   ]
  },
  {
   "cell_type": "markdown",
   "id": "d97a8434",
   "metadata": {},
   "source": [
    "The **time** module manages the timestamp in a UNIX format, i.e. in the form of an integer which represents the number of seconds elapsed since the year 1970."
   ]
  },
  {
   "cell_type": "code",
   "execution_count": 1,
   "id": "fcc766a7",
   "metadata": {},
   "outputs": [],
   "source": [
    "# Example\n",
    "import time"
   ]
  },
  {
   "cell_type": "code",
   "execution_count": 2,
   "id": "9781e0e6",
   "metadata": {},
   "outputs": [
    {
     "data": {
      "text/plain": [
       "1641505267.926285"
      ]
     },
     "execution_count": 2,
     "metadata": {},
     "output_type": "execute_result"
    }
   ],
   "source": [
    "current_time = time.time()\n",
    "current_time"
   ]
  },
  {
   "cell_type": "markdown",
   "id": "be0c9c9d",
   "metadata": {},
   "source": [
    "To convert this timestamp into a more readable format, we use the **gmtime()** function of the time module."
   ]
  },
  {
   "cell_type": "code",
   "execution_count": 3,
   "id": "eb1c1bc7",
   "metadata": {},
   "outputs": [
    {
     "data": {
      "text/plain": [
       "time.struct_time(tm_year=2022, tm_mon=1, tm_mday=6, tm_hour=21, tm_min=41, tm_sec=7, tm_wday=3, tm_yday=6, tm_isdst=0)"
      ]
     },
     "execution_count": 3,
     "metadata": {},
     "output_type": "execute_result"
    }
   ],
   "source": [
    "current_struct_time = time.gmtime(current_time)\n",
    "current_struct_time"
   ]
  },
  {
   "cell_type": "code",
   "execution_count": 4,
   "id": "5204ee1d",
   "metadata": {},
   "outputs": [
    {
     "data": {
      "text/plain": [
       "21"
      ]
     },
     "execution_count": 4,
     "metadata": {},
     "output_type": "execute_result"
    }
   ],
   "source": [
    "current_hour = current_struct_time.tm_hour\n",
    "current_hour"
   ]
  },
  {
   "cell_type": "code",
   "execution_count": 5,
   "id": "5fdf5d33",
   "metadata": {},
   "outputs": [
    {
     "data": {
      "text/plain": [
       "2022"
      ]
     },
     "execution_count": 5,
     "metadata": {},
     "output_type": "execute_result"
    }
   ],
   "source": [
    "current_year = current_struct_time.tm_year\n",
    "current_year"
   ]
  },
  {
   "cell_type": "markdown",
   "id": "e6bde7ba",
   "metadata": {},
   "source": [
    "## The datetime module"
   ]
  },
  {
   "cell_type": "markdown",
   "id": "341e8242",
   "metadata": {},
   "source": [
    "The **datetime** module offers a better representation for dates and also allows you to perform operations on them."
   ]
  },
  {
   "cell_type": "code",
   "execution_count": 6,
   "id": "b088b897",
   "metadata": {},
   "outputs": [],
   "source": [
    "# Example\n",
    "import datetime"
   ]
  },
  {
   "cell_type": "code",
   "execution_count": 7,
   "id": "558eaff1",
   "metadata": {},
   "outputs": [
    {
     "data": {
      "text/plain": [
       "datetime.datetime(2022, 1, 6, 22, 41, 8, 15035)"
      ]
     },
     "execution_count": 7,
     "metadata": {},
     "output_type": "execute_result"
    }
   ],
   "source": [
    "current_datetime = datetime.datetime.now()\n",
    "current_datetime"
   ]
  },
  {
   "cell_type": "code",
   "execution_count": 8,
   "id": "5424d259",
   "metadata": {},
   "outputs": [
    {
     "name": "stdout",
     "output_type": "stream",
     "text": [
      "2022-01-06 22:41:08.015035\n"
     ]
    }
   ],
   "source": [
    "print(current_datetime)"
   ]
  },
  {
   "cell_type": "code",
   "execution_count": 9,
   "id": "c300e7b2",
   "metadata": {},
   "outputs": [
    {
     "data": {
      "text/plain": [
       "2022"
      ]
     },
     "execution_count": 9,
     "metadata": {},
     "output_type": "execute_result"
    }
   ],
   "source": [
    "current_year = current_datetime.year\n",
    "current_year"
   ]
  },
  {
   "cell_type": "code",
   "execution_count": 10,
   "id": "9bb919d4",
   "metadata": {},
   "outputs": [
    {
     "data": {
      "text/plain": [
       "1"
      ]
     },
     "execution_count": 10,
     "metadata": {},
     "output_type": "execute_result"
    }
   ],
   "source": [
    "current_month = current_datetime.month\n",
    "current_month"
   ]
  },
  {
   "cell_type": "code",
   "execution_count": 11,
   "id": "7bc46dff",
   "metadata": {},
   "outputs": [
    {
     "data": {
      "text/plain": [
       "6"
      ]
     },
     "execution_count": 11,
     "metadata": {},
     "output_type": "execute_result"
    }
   ],
   "source": [
    "current_day = current_datetime.day\n",
    "current_day"
   ]
  },
  {
   "cell_type": "markdown",
   "id": "20ce2902",
   "metadata": {},
   "source": [
    "## Timedelta class"
   ]
  },
  {
   "cell_type": "markdown",
   "id": "a84af1ab",
   "metadata": {},
   "source": [
    "The **timedelta** class is very useful to perform operations on objects of type datetime."
   ]
  },
  {
   "cell_type": "code",
   "execution_count": 12,
   "id": "f7ab1dda",
   "metadata": {},
   "outputs": [
    {
     "name": "stdout",
     "output_type": "stream",
     "text": [
      "2022-01-06 22:41:08.093825\n"
     ]
    }
   ],
   "source": [
    "# Example 1\n",
    "today = datetime.datetime.now()\n",
    "print(today)"
   ]
  },
  {
   "cell_type": "code",
   "execution_count": 13,
   "id": "04968e5b",
   "metadata": {},
   "outputs": [
    {
     "name": "stdout",
     "output_type": "stream",
     "text": [
      "12 days, 0:00:00\n"
     ]
    }
   ],
   "source": [
    "diff = datetime.timedelta(weeks=1, days=5)\n",
    "print(diff)"
   ]
  },
  {
   "cell_type": "code",
   "execution_count": 14,
   "id": "6e7d16b2",
   "metadata": {},
   "outputs": [
    {
     "name": "stdout",
     "output_type": "stream",
     "text": [
      "2022-01-18 22:41:08.093825\n"
     ]
    }
   ],
   "source": [
    "result = today + diff\n",
    "print(result)"
   ]
  },
  {
   "cell_type": "code",
   "execution_count": 15,
   "id": "13478ac0",
   "metadata": {},
   "outputs": [
    {
     "name": "stdout",
     "output_type": "stream",
     "text": [
      "1 day, 0:00:00\n"
     ]
    }
   ],
   "source": [
    "# Example 2\n",
    "diff = datetime.timedelta(days=1)\n",
    "print(diff)"
   ]
  },
  {
   "cell_type": "code",
   "execution_count": 16,
   "id": "19c10bbf",
   "metadata": {},
   "outputs": [
    {
     "name": "stdout",
     "output_type": "stream",
     "text": [
      "2022-01-07 22:41:08.093825\n"
     ]
    }
   ],
   "source": [
    "tomorrow = today + diff\n",
    "print(tomorrow)"
   ]
  },
  {
   "cell_type": "code",
   "execution_count": 17,
   "id": "b88d1f0f",
   "metadata": {},
   "outputs": [
    {
     "name": "stdout",
     "output_type": "stream",
     "text": [
      "2022-01-05 22:41:08.093825\n"
     ]
    }
   ],
   "source": [
    "yesterday = today - diff\n",
    "print(yesterday)"
   ]
  },
  {
   "cell_type": "markdown",
   "id": "f2365aa3",
   "metadata": {},
   "source": [
    "## Date formatting"
   ]
  },
  {
   "cell_type": "markdown",
   "id": "613fd1d0",
   "metadata": {},
   "source": [
    "The **strftime()** method of the datetime class allows to format the dates the way you want."
   ]
  },
  {
   "cell_type": "code",
   "execution_count": 18,
   "id": "bcf45c7b",
   "metadata": {},
   "outputs": [
    {
     "name": "stdout",
     "output_type": "stream",
     "text": [
      "2022-01-06 22:41:08.093825\n"
     ]
    }
   ],
   "source": [
    "# Example\n",
    "print(today)"
   ]
  },
  {
   "cell_type": "code",
   "execution_count": 19,
   "id": "5a55b1c5",
   "metadata": {},
   "outputs": [
    {
     "name": "stdout",
     "output_type": "stream",
     "text": [
      "<class 'datetime.datetime'>\n"
     ]
    }
   ],
   "source": [
    "print(type(today))"
   ]
  },
  {
   "cell_type": "code",
   "execution_count": 20,
   "id": "6a55d08b",
   "metadata": {},
   "outputs": [
    {
     "name": "stdout",
     "output_type": "stream",
     "text": [
      "06 Jan 2022\n"
     ]
    }
   ],
   "source": [
    "string_today = today.strftime(\"%d %b %Y\")\n",
    "print(string_today)"
   ]
  },
  {
   "cell_type": "markdown",
   "id": "89d37699",
   "metadata": {},
   "source": [
    "It is also possible to do the reverse conversion, i.e. from a string to the time format with the **strptime()** method."
   ]
  },
  {
   "cell_type": "code",
   "execution_count": 21,
   "id": "a8605f52",
   "metadata": {},
   "outputs": [
    {
     "data": {
      "text/plain": [
       "time.struct_time(tm_year=2022, tm_mon=1, tm_mday=6, tm_hour=0, tm_min=0, tm_sec=0, tm_wday=3, tm_yday=6, tm_isdst=-1)"
      ]
     },
     "execution_count": 21,
     "metadata": {},
     "output_type": "execute_result"
    }
   ],
   "source": [
    "today = time.strptime(string_today, \"%d %b %Y\")\n",
    "today"
   ]
  },
  {
   "cell_type": "markdown",
   "id": "71b19801",
   "metadata": {},
   "source": [
    "## Applications on our dataset"
   ]
  },
  {
   "cell_type": "code",
   "execution_count": 22,
   "id": "e48d55d7",
   "metadata": {},
   "outputs": [],
   "source": [
    "import csv"
   ]
  },
  {
   "cell_type": "code",
   "execution_count": 23,
   "id": "b185b1c6",
   "metadata": {},
   "outputs": [],
   "source": [
    "f = open(\"askreddit_2015.csv\", encoding='utf-8')\n",
    "csv_reader_f = csv.reader(f)\n",
    "posts = list(csv_reader_f)\n",
    "posts = posts[1:]"
   ]
  },
  {
   "cell_type": "code",
   "execution_count": 24,
   "id": "19007a6c",
   "metadata": {},
   "outputs": [
    {
     "data": {
      "text/plain": [
       "[['What\\'s your internet \"white whale\", something you\\'ve been searching for years to find with no luck?',\n",
       "  '11510',\n",
       "  '1433213314.0',\n",
       "  '1',\n",
       "  '26195'],\n",
       " [\"What's your favorite video that is 10 seconds or less?\",\n",
       "  '8656',\n",
       "  '1434205517.0',\n",
       "  '4',\n",
       "  '8479'],\n",
       " ['What are some interesting tests you can take to find out about yourself?',\n",
       "  '8480',\n",
       "  '1443409636.0',\n",
       "  '1',\n",
       "  '4055'],\n",
       " [\"PhD's of Reddit. What is a dumbed down summary of your thesis?\",\n",
       "  '7927',\n",
       "  '1440188623.0',\n",
       "  '0',\n",
       "  '13201'],\n",
       " ['What is cool to be good at, yet uncool to be REALLY good at?',\n",
       "  '7711',\n",
       "  '1440082910.0',\n",
       "  '0',\n",
       "  '20325']]"
      ]
     },
     "execution_count": 24,
     "metadata": {},
     "output_type": "execute_result"
    }
   ],
   "source": [
    "posts[0:5]"
   ]
  },
  {
   "cell_type": "markdown",
   "id": "e7dbd3cf",
   "metadata": {},
   "source": [
    "Let's convert the dates of our dataset (in UNIX format) into a more understandable format (datetime) by using the **fromtimestamp()** method of the datetime class."
   ]
  },
  {
   "cell_type": "code",
   "execution_count": 25,
   "id": "c1156f60",
   "metadata": {},
   "outputs": [
    {
     "name": "stdout",
     "output_type": "stream",
     "text": [
      "2015-08-20 17:01:50\n"
     ]
    }
   ],
   "source": [
    "# Example\n",
    "datetime_object = datetime.datetime.fromtimestamp(1440082910.0)\n",
    "print(datetime_object)"
   ]
  },
  {
   "cell_type": "markdown",
   "id": "65c7f042",
   "metadata": {},
   "source": [
    "### Training"
   ]
  },
  {
   "cell_type": "code",
   "execution_count": 26,
   "id": "291c949b",
   "metadata": {},
   "outputs": [],
   "source": [
    "for row in posts:\n",
    "    \n",
    "    time_stamp = float(row[2])\n",
    "    date = datetime.datetime.fromtimestamp(time_stamp)\n",
    "    \n",
    "    row[2] = date"
   ]
  },
  {
   "cell_type": "code",
   "execution_count": 27,
   "id": "5da78841",
   "metadata": {},
   "outputs": [
    {
     "name": "stdout",
     "output_type": "stream",
     "text": [
      "[['What\\'s your internet \"white whale\", something you\\'ve been searching for years to find with no luck?', '11510', datetime.datetime(2015, 6, 2, 4, 48, 34), '1', '26195'], [\"What's your favorite video that is 10 seconds or less?\", '8656', datetime.datetime(2015, 6, 13, 16, 25, 17), '4', '8479'], ['What are some interesting tests you can take to find out about yourself?', '8480', datetime.datetime(2015, 9, 28, 5, 7, 16), '1', '4055'], [\"PhD's of Reddit. What is a dumbed down summary of your thesis?\", '7927', datetime.datetime(2015, 8, 21, 22, 23, 43), '0', '13201'], ['What is cool to be good at, yet uncool to be REALLY good at?', '7711', datetime.datetime(2015, 8, 20, 17, 1, 50), '0', '20325']]\n"
     ]
    }
   ],
   "source": [
    "print(posts[0:5])"
   ]
  },
  {
   "cell_type": "code",
   "execution_count": 28,
   "id": "c5802251",
   "metadata": {},
   "outputs": [
    {
     "name": "stdout",
     "output_type": "stream",
     "text": [
      "2015-06-02 04:48:34\n"
     ]
    }
   ],
   "source": [
    "print(posts[0][2])"
   ]
  },
  {
   "cell_type": "markdown",
   "id": "acd551ac",
   "metadata": {},
   "source": [
    "## Counting posts published in May"
   ]
  },
  {
   "cell_type": "markdown",
   "id": "fdcfce19",
   "metadata": {},
   "source": [
    "### Training"
   ]
  },
  {
   "cell_type": "code",
   "execution_count": 29,
   "id": "db28fd7e",
   "metadata": {},
   "outputs": [],
   "source": [
    "may_count = 0\n",
    "\n",
    "for row in posts:\n",
    "    if row[2].month == 5:\n",
    "        may_count += 1"
   ]
  },
  {
   "cell_type": "code",
   "execution_count": 30,
   "id": "0771e3c2",
   "metadata": {},
   "outputs": [
    {
     "name": "stdout",
     "output_type": "stream",
     "text": [
      "75\n"
     ]
    }
   ],
   "source": [
    "print(may_count)"
   ]
  },
  {
   "cell_type": "markdown",
   "id": "d006c962",
   "metadata": {},
   "source": [
    "## Count posts from any month"
   ]
  },
  {
   "cell_type": "markdown",
   "id": "cb42adcd",
   "metadata": {},
   "source": [
    "### Training"
   ]
  },
  {
   "cell_type": "code",
   "execution_count": 31,
   "id": "f4280946",
   "metadata": {},
   "outputs": [],
   "source": [
    "def count_post_in_month(month):\n",
    "    count = 0\n",
    "\n",
    "    for row in posts:\n",
    "        if row[2].month == month:\n",
    "            count += 1\n",
    "            \n",
    "    return count"
   ]
  },
  {
   "cell_type": "code",
   "execution_count": 32,
   "id": "931cf070",
   "metadata": {},
   "outputs": [
    {
     "name": "stdout",
     "output_type": "stream",
     "text": [
      "52\n",
      "46\n",
      "59\n",
      "58\n",
      "75\n",
      "74\n",
      "77\n",
      "94\n",
      "69\n",
      "78\n",
      "96\n",
      "89\n"
     ]
    }
   ],
   "source": [
    "months = [1, 2, 3, 4, 5, 6, 7, 8, 9, 10 , 11, 12]\n",
    "\n",
    "for month in months:\n",
    "    print(count_post_in_month(month))"
   ]
  }
 ],
 "metadata": {
  "kernelspec": {
   "display_name": "Python 3 (ipykernel)",
   "language": "python",
   "name": "python3"
  },
  "language_info": {
   "codemirror_mode": {
    "name": "ipython",
    "version": 3
   },
   "file_extension": ".py",
   "mimetype": "text/x-python",
   "name": "python",
   "nbconvert_exporter": "python",
   "pygments_lexer": "ipython3",
   "version": "3.9.7"
  }
 },
 "nbformat": 4,
 "nbformat_minor": 5
}
