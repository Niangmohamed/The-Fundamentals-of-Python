{
 "cells": [
  {
   "cell_type": "markdown",
   "id": "751f4f63",
   "metadata": {},
   "source": [
    "# Python: Errors management"
   ]
  },
  {
   "cell_type": "markdown",
   "id": "517b6790",
   "metadata": {},
   "source": [
    "Goals:\n",
    "\n",
    "* Learn how to find the unique values in a dataset\n",
    "\n",
    "* Manage missing values in a dataset\n",
    "\n",
    "* Use the try/except block to avoid errors\n",
    "\n",
    "* Extract a year from a date, convert it to an integer and add the year column in a dataset"
   ]
  },
  {
   "cell_type": "markdown",
   "id": "6f906f5c",
   "metadata": {},
   "source": [
    "## Sets "
   ]
  },
  {
   "cell_type": "markdown",
   "id": "4005d000",
   "metadata": {},
   "source": [
    "The **set()** function returns a **set** that contains the **unique elements** of a list."
   ]
  },
  {
   "cell_type": "code",
   "execution_count": 1,
   "id": "281c7129",
   "metadata": {},
   "outputs": [
    {
     "name": "stdout",
     "output_type": "stream",
     "text": [
      "{'Dog', 'Cat', 'Tiger'}\n"
     ]
    }
   ],
   "source": [
    "# Example\n",
    "animals = [\"Dog\", \"Tiger\", \"Cat\", \"Cat\", \"Dog\", \"Dog\"]\n",
    "unique_animals = set(animals)\n",
    "print(unique_animals)"
   ]
  },
  {
   "cell_type": "markdown",
   "id": "0f3d9818",
   "metadata": {},
   "source": [
    "To add elements to a set, we use the **add()** method."
   ]
  },
  {
   "cell_type": "code",
   "execution_count": 2,
   "id": "cc718f80",
   "metadata": {},
   "outputs": [
    {
     "name": "stdout",
     "output_type": "stream",
     "text": [
      "{'Dog', 'Cat', 'Tiger', 'Turtle'}\n"
     ]
    }
   ],
   "source": [
    "# Example\n",
    "unique_animals.add(\"Turtle\")\n",
    "print(unique_animals)"
   ]
  },
  {
   "cell_type": "markdown",
   "id": "8694323e",
   "metadata": {},
   "source": [
    "To remove an element, we use the **remove()** method."
   ]
  },
  {
   "cell_type": "code",
   "execution_count": 3,
   "id": "331e121c",
   "metadata": {},
   "outputs": [
    {
     "name": "stdout",
     "output_type": "stream",
     "text": [
      "{'Dog', 'Tiger', 'Turtle'}\n"
     ]
    }
   ],
   "source": [
    "# Example\n",
    "unique_animals.remove(\"Cat\")\n",
    "print(unique_animals)"
   ]
  },
  {
   "cell_type": "markdown",
   "id": "9bc157c9",
   "metadata": {},
   "source": [
    "To convert a set into a list, we use the **list()** function."
   ]
  },
  {
   "cell_type": "code",
   "execution_count": 4,
   "id": "b5ef6f1e",
   "metadata": {},
   "outputs": [
    {
     "name": "stdout",
     "output_type": "stream",
     "text": [
      "['Dog', 'Tiger', 'Turtle']\n"
     ]
    }
   ],
   "source": [
    "unique_animals = list(unique_animals)\n",
    "print(unique_animals)"
   ]
  },
  {
   "cell_type": "markdown",
   "id": "d45e2248",
   "metadata": {},
   "source": [
    "### Training"
   ]
  },
  {
   "cell_type": "code",
   "execution_count": 5,
   "id": "cac8ccae",
   "metadata": {},
   "outputs": [],
   "source": [
    "import csv\n",
    "\n",
    "f = open(\"legislators.csv\")\n",
    "legislators = list(csv.reader(f))"
   ]
  },
  {
   "cell_type": "code",
   "execution_count": 6,
   "id": "d505bc29",
   "metadata": {},
   "outputs": [
    {
     "name": "stdout",
     "output_type": "stream",
     "text": [
      "[['last_name', 'first_name', 'birthday', 'gender', 'type', 'state', 'party'], ['Bassett', 'Richard', '1745-04-02', 'M', 'sen', 'DE', 'Anti-Administration'], ['Bland', 'Theodorick', '1742-03-21', '', 'rep', 'VA', ''], ['Burke', 'Aedanus', '1743-06-16', '', 'rep', 'SC', ''], ['Carroll', 'Daniel', '1730-07-22', 'M', 'rep', 'MD', '']]\n"
     ]
    }
   ],
   "source": [
    "print(legislators[0:5])"
   ]
  },
  {
   "cell_type": "code",
   "execution_count": 7,
   "id": "f2fb9191",
   "metadata": {},
   "outputs": [],
   "source": [
    "gender = []\n",
    "\n",
    "for item in legislators:\n",
    "    gender.append(item[3])"
   ]
  },
  {
   "cell_type": "code",
   "execution_count": 8,
   "id": "d436c4ca",
   "metadata": {},
   "outputs": [
    {
     "name": "stdout",
     "output_type": "stream",
     "text": [
      "['gender', 'M', '', '', 'M', 'M', 'M', '', 'M', 'M', 'M', 'M', 'M', 'M', 'M', 'M', 'M', 'M', 'M', 'M', 'M', 'M', 'M', 'M', 'M', 'M', 'M', 'M', 'M', '', 'M', 'M', 'M', 'M', 'M', 'M', 'M', '', 'M', '', 'M', 'M', 'M', 'M', 'M', '', 'M', 'M', 'M', 'M']\n"
     ]
    }
   ],
   "source": [
    "print(gender[0:50])"
   ]
  },
  {
   "cell_type": "code",
   "execution_count": 9,
   "id": "1226ab31",
   "metadata": {},
   "outputs": [
    {
     "name": "stdout",
     "output_type": "stream",
     "text": [
      "{'M', '', 'gender', 'F'}\n"
     ]
    }
   ],
   "source": [
    "gender = set(gender)\n",
    "print(gender)"
   ]
  },
  {
   "cell_type": "markdown",
   "id": "b2458e5c",
   "metadata": {},
   "source": [
    "## Dataset exploration"
   ]
  },
  {
   "cell_type": "markdown",
   "id": "4c9fde50",
   "metadata": {},
   "source": [
    "Let's look at all the unique party in our dataset."
   ]
  },
  {
   "cell_type": "code",
   "execution_count": 10,
   "id": "19865ce1",
   "metadata": {},
   "outputs": [],
   "source": [
    "party = []\n",
    "\n",
    "for item in legislators:\n",
    "    party.append(item[6])"
   ]
  },
  {
   "cell_type": "code",
   "execution_count": 11,
   "id": "e3fc3da0",
   "metadata": {},
   "outputs": [
    {
     "name": "stdout",
     "output_type": "stream",
     "text": [
      "{'', 'Constitutional Unionist', 'American Labor', 'Readjuster', 'Whig', 'Crawford Republican', 'Unknown', 'Jacksonian', 'Populist', 'Socialist', 'Union Democrat', 'Prohibitionist', 'Coalitionist', 'Pro-Administration', 'Anti Masonic', 'National Greenbacker', 'Farmer-Labor', 'Adams Democrat', 'Adams', 'Conservative', 'Independent', 'Conservative Republican', 'Jackson Republican', 'Progressive Republican', 'Anti Jacksonian', 'Liberty', 'Anti-Lecompton Democrat', 'Silver Republican', 'Ind. Republican-Democrat', 'Anti Jackson', 'States Rights', 'Republican', 'Unconditional Unionist', 'Unionist', 'American', 'Democrat-Liberal', 'Anti-Administration', 'Ind. Whig', 'Anti-Jacksonian', 'Nonpartisan', 'party', 'Progressive', 'Nullifier', 'Union', 'Liberal Republican', 'Jackson', 'Free Soil', 'Law and Order', 'Union Labor', 'Republican-Conservative', 'Free Silver', 'Ind. Republican', 'Democratic and Union Labor', 'New Progressive', 'Federalist', 'Readjuster Democrat', 'Ind. Democrat', 'Democrat', 'Independent Democrat', 'Democratic Republican', 'Popular Democrat'}\n"
     ]
    }
   ],
   "source": [
    "party = set(party)\n",
    "print(party)"
   ]
  },
  {
   "cell_type": "markdown",
   "id": "62a32496",
   "metadata": {},
   "source": [
    "## Missing values"
   ]
  },
  {
   "cell_type": "markdown",
   "id": "bc8c8e78",
   "metadata": {},
   "source": [
    "Let's replace all missing values in the party column with \"No Party\" label."
   ]
  },
  {
   "cell_type": "code",
   "execution_count": 12,
   "id": "dd9513b7",
   "metadata": {},
   "outputs": [],
   "source": [
    "for row in legislators:\n",
    "    if row[6] == '':\n",
    "        row[6] = \"No Party\""
   ]
  },
  {
   "cell_type": "code",
   "execution_count": 13,
   "id": "08a6e3b1",
   "metadata": {},
   "outputs": [],
   "source": [
    "party = []\n",
    "\n",
    "for item in legislators:\n",
    "    party.append(item[6])"
   ]
  },
  {
   "cell_type": "code",
   "execution_count": 14,
   "id": "7273b177",
   "metadata": {},
   "outputs": [
    {
     "name": "stdout",
     "output_type": "stream",
     "text": [
      "{'Constitutional Unionist', 'American Labor', 'Readjuster', 'Whig', 'Crawford Republican', 'Unknown', 'Jacksonian', 'Populist', 'Socialist', 'Union Democrat', 'Prohibitionist', 'No Party', 'Coalitionist', 'Pro-Administration', 'Anti Masonic', 'National Greenbacker', 'Farmer-Labor', 'Adams Democrat', 'Adams', 'Conservative', 'Independent', 'Conservative Republican', 'Jackson Republican', 'Progressive Republican', 'Anti Jacksonian', 'Liberty', 'Anti-Lecompton Democrat', 'Silver Republican', 'Ind. Republican-Democrat', 'Anti Jackson', 'States Rights', 'Republican', 'Unconditional Unionist', 'Unionist', 'American', 'Democrat-Liberal', 'Anti-Administration', 'Ind. Whig', 'Anti-Jacksonian', 'Nonpartisan', 'party', 'Progressive', 'Nullifier', 'Union', 'Liberal Republican', 'Jackson', 'Free Soil', 'Law and Order', 'Union Labor', 'Republican-Conservative', 'Free Silver', 'Ind. Republican', 'Democratic and Union Labor', 'New Progressive', 'Federalist', 'Readjuster Democrat', 'Ind. Democrat', 'Democrat', 'Independent Democrat', 'Democratic Republican', 'Popular Democrat'}\n"
     ]
    }
   ],
   "source": [
    "party = set(party)\n",
    "print(party)"
   ]
  },
  {
   "cell_type": "markdown",
   "id": "d2ec18eb",
   "metadata": {},
   "source": [
    "### Training"
   ]
  },
  {
   "cell_type": "markdown",
   "id": "defdbf71",
   "metadata": {},
   "source": [
    "Replace all missing values in the gender column with sex \"M\"."
   ]
  },
  {
   "cell_type": "code",
   "execution_count": 15,
   "id": "d189f921",
   "metadata": {},
   "outputs": [],
   "source": [
    "for row in legislators:\n",
    "    if row[3] == '':\n",
    "        row[3] = \"M\""
   ]
  },
  {
   "cell_type": "code",
   "execution_count": 16,
   "id": "15097111",
   "metadata": {},
   "outputs": [],
   "source": [
    "gender = []\n",
    "\n",
    "for item in legislators:\n",
    "    gender.append(item[3])"
   ]
  },
  {
   "cell_type": "code",
   "execution_count": 17,
   "id": "47b86815",
   "metadata": {},
   "outputs": [
    {
     "name": "stdout",
     "output_type": "stream",
     "text": [
      "{'M', 'F', 'gender'}\n"
     ]
    }
   ],
   "source": [
    "gender = set(gender)\n",
    "print(gender)"
   ]
  },
  {
   "cell_type": "markdown",
   "id": "6547870f",
   "metadata": {},
   "source": [
    "## Analysis of the years of birth"
   ]
  },
  {
   "cell_type": "markdown",
   "id": "86ec7e31",
   "metadata": {},
   "source": [
    "The **split()** method is widely used to **extract information** about dates as shown in the following example."
   ]
  },
  {
   "cell_type": "code",
   "execution_count": 18,
   "id": "3d8c14b5",
   "metadata": {},
   "outputs": [
    {
     "data": {
      "text/plain": [
       "['2022', '01', '04']"
      ]
     },
     "execution_count": 18,
     "metadata": {},
     "output_type": "execute_result"
    }
   ],
   "source": [
    "# Example\n",
    "date = \"2022-01-04\"\n",
    "date_parts = date.split('-')\n",
    "date_parts"
   ]
  },
  {
   "cell_type": "code",
   "execution_count": 19,
   "id": "c4fbe348",
   "metadata": {},
   "outputs": [
    {
     "data": {
      "text/plain": [
       "'2022'"
      ]
     },
     "execution_count": 19,
     "metadata": {},
     "output_type": "execute_result"
    }
   ],
   "source": [
    "year = date_parts[0]\n",
    "year"
   ]
  },
  {
   "cell_type": "code",
   "execution_count": 20,
   "id": "f3ab2266",
   "metadata": {},
   "outputs": [
    {
     "data": {
      "text/plain": [
       "'01'"
      ]
     },
     "execution_count": 20,
     "metadata": {},
     "output_type": "execute_result"
    }
   ],
   "source": [
    "month = date_parts[1]\n",
    "month"
   ]
  },
  {
   "cell_type": "code",
   "execution_count": 21,
   "id": "59006c8a",
   "metadata": {},
   "outputs": [
    {
     "data": {
      "text/plain": [
       "'04'"
      ]
     },
     "execution_count": 21,
     "metadata": {},
     "output_type": "execute_result"
    }
   ],
   "source": [
    "day = date_parts[2]\n",
    "day"
   ]
  },
  {
   "cell_type": "markdown",
   "id": "2fe1c455",
   "metadata": {},
   "source": [
    "### Training"
   ]
  },
  {
   "cell_type": "code",
   "execution_count": 22,
   "id": "f1a0338a",
   "metadata": {},
   "outputs": [],
   "source": [
    "birth_years = []\n",
    "\n",
    "for row in legislators:\n",
    "    date = row[2]\n",
    "    date_parts = date.split('-')\n",
    "    birth_years.append(date_parts[0])"
   ]
  },
  {
   "cell_type": "code",
   "execution_count": 23,
   "id": "8f1a03e6",
   "metadata": {},
   "outputs": [
    {
     "name": "stdout",
     "output_type": "stream",
     "text": [
      "['birthday', '1745', '1742', '1743', '1730', '1739', '', '1738', '1745', '1748']\n"
     ]
    }
   ],
   "source": [
    "print(birth_years[0:10])"
   ]
  },
  {
   "cell_type": "markdown",
   "id": "ae754a8a",
   "metadata": {},
   "source": [
    "## Try / Except block"
   ]
  },
  {
   "cell_type": "code",
   "execution_count": 24,
   "id": "de965946",
   "metadata": {},
   "outputs": [
    {
     "ename": "ValueError",
     "evalue": "invalid literal for int() with base 10: ''",
     "output_type": "error",
     "traceback": [
      "\u001b[1;31m---------------------------------------------------------------------------\u001b[0m",
      "\u001b[1;31mValueError\u001b[0m                                Traceback (most recent call last)",
      "\u001b[1;32m~\\AppData\\Local\\Temp/ipykernel_472/2255494570.py\u001b[0m in \u001b[0;36m<module>\u001b[1;34m\u001b[0m\n\u001b[0;32m      1\u001b[0m \u001b[1;31m# Motivation\u001b[0m\u001b[1;33m\u001b[0m\u001b[1;33m\u001b[0m\u001b[0m\n\u001b[1;32m----> 2\u001b[1;33m \u001b[0mint\u001b[0m\u001b[1;33m(\u001b[0m\u001b[1;34m''\u001b[0m\u001b[1;33m)\u001b[0m\u001b[1;33m\u001b[0m\u001b[1;33m\u001b[0m\u001b[0m\n\u001b[0m",
      "\u001b[1;31mValueError\u001b[0m: invalid literal for int() with base 10: ''"
     ]
    }
   ],
   "source": [
    "# Motivation\n",
    "int('')"
   ]
  },
  {
   "cell_type": "markdown",
   "id": "490b5313",
   "metadata": {},
   "source": [
    "The **try/except** block allows to continue the execution even if there is an error."
   ]
  },
  {
   "cell_type": "code",
   "execution_count": 25,
   "id": "ed5ea1a0",
   "metadata": {},
   "outputs": [
    {
     "name": "stdout",
     "output_type": "stream",
     "text": [
      "Impossible to convert!\n"
     ]
    }
   ],
   "source": [
    "# Example\n",
    "try:\n",
    "    int('')\n",
    "except:\n",
    "    print(\"Impossible to convert!\")"
   ]
  },
  {
   "cell_type": "markdown",
   "id": "d682ed06",
   "metadata": {},
   "source": [
    "Let's take a closer look at what is in the exception class."
   ]
  },
  {
   "cell_type": "code",
   "execution_count": 26,
   "id": "06fcbfde",
   "metadata": {},
   "outputs": [
    {
     "name": "stdout",
     "output_type": "stream",
     "text": [
      "<class 'ValueError'>\n",
      "invalid literal for int() with base 10: ''\n"
     ]
    }
   ],
   "source": [
    "try:\n",
    "    int('')\n",
    "except Exception as e:\n",
    "    print(type(e))\n",
    "    print(str(e))"
   ]
  },
  {
   "cell_type": "markdown",
   "id": "d91df126",
   "metadata": {},
   "source": [
    "## The keyword pass"
   ]
  },
  {
   "cell_type": "code",
   "execution_count": 27,
   "id": "e0ad24b5",
   "metadata": {},
   "outputs": [
    {
     "name": "stdout",
     "output_type": "stream",
     "text": [
      "There is an error!\n",
      "There is an error!\n",
      "There is an error!\n",
      "There is an error!\n",
      "There is an error!\n",
      "There is an error!\n",
      "There is an error!\n",
      "There is an error!\n",
      "There is an error!\n",
      "There is an error!\n"
     ]
    }
   ],
   "source": [
    "# Example\n",
    "numbers = [1,2,3,4,5,6,7,8,9,10]\n",
    "\n",
    "for i in numbers:\n",
    "    try:\n",
    "        int('')\n",
    "    except Exception:\n",
    "        print(\"There is an error!\")"
   ]
  },
  {
   "cell_type": "markdown",
   "id": "c1e9f931",
   "metadata": {},
   "source": [
    "In the try/except context, the **pass** keyword is used if you do not want to execute an action in case of an error."
   ]
  },
  {
   "cell_type": "code",
   "execution_count": 28,
   "id": "bd615651",
   "metadata": {},
   "outputs": [],
   "source": [
    "numbers = [1,2,3,4,5,6,7,8,9,10]\n",
    "\n",
    "for i in numbers:\n",
    "    try:\n",
    "        int('')\n",
    "    except Exception:\n",
    "        pass"
   ]
  },
  {
   "cell_type": "markdown",
   "id": "d0fc9620",
   "metadata": {},
   "source": [
    "### Training"
   ]
  },
  {
   "cell_type": "code",
   "execution_count": 29,
   "id": "f0c97b5c",
   "metadata": {},
   "outputs": [],
   "source": [
    "int_years = []\n",
    "\n",
    "for year in birth_years:\n",
    "    try:\n",
    "        year = int(year)\n",
    "    except Exception:\n",
    "        pass\n",
    "    int_years.append(year)"
   ]
  },
  {
   "cell_type": "code",
   "execution_count": 30,
   "id": "abe1c10c",
   "metadata": {},
   "outputs": [
    {
     "name": "stdout",
     "output_type": "stream",
     "text": [
      "['birthday', 1745, 1742, 1743, 1730, 1739, '', 1738, 1745, 1748, 1734, 1756, '', 1737, 1754, 1736, '', 1727, 1733, 1732, 1737, 1739, 1734, 1740, 1745, 1728, '', 1738, 1737, 1739, 1744, '', 1761, 1756, 1752, 1737, 1745, 1744, 1742, 1726, '', 1733]\n"
     ]
    }
   ],
   "source": [
    "print(int_years[0:42])"
   ]
  },
  {
   "cell_type": "markdown",
   "id": "bf1b75e4",
   "metadata": {},
   "source": [
    "## Convert the year of birth into integer in the dataset"
   ]
  },
  {
   "cell_type": "markdown",
   "id": "9af80c05",
   "metadata": {},
   "source": [
    "### Training"
   ]
  },
  {
   "cell_type": "code",
   "execution_count": 31,
   "id": "b4cf570c",
   "metadata": {},
   "outputs": [],
   "source": [
    "for row in legislators:\n",
    "    \n",
    "    birthday = row[2]\n",
    "    birth_year = birthday.split('-')[0]\n",
    "    \n",
    "    try:\n",
    "        birth_year = int(birth_year)\n",
    "    except Exception:\n",
    "        birth_year = 0\n",
    "    \n",
    "    row.append(birth_year)"
   ]
  },
  {
   "cell_type": "code",
   "execution_count": 32,
   "id": "b3600ecc",
   "metadata": {},
   "outputs": [
    {
     "name": "stdout",
     "output_type": "stream",
     "text": [
      "[['last_name', 'first_name', 'birthday', 'gender', 'type', 'state', 'party', 'birth_year'], ['Bassett', 'Richard', '1745-04-02', 'M', 'sen', 'DE', 'Anti-Administration', 1745], ['Bland', 'Theodorick', '1742-03-21', 'M', 'rep', 'VA', 'No Party', 1742], ['Burke', 'Aedanus', '1743-06-16', 'M', 'rep', 'SC', 'No Party', 1743], ['Carroll', 'Daniel', '1730-07-22', 'M', 'rep', 'MD', 'No Party', 1730], ['Clymer', 'George', '1739-03-16', 'M', 'rep', 'PA', 'No Party', 1739], ['Contee', 'Benjamin', '', 'M', 'rep', 'MD', 'No Party', 0], ['Dalton', 'Tristram', '1738-05-28', 'M', 'sen', 'MA', 'Pro-Administration', 1738], ['Elmer', 'Jonathan', '1745-11-29', 'M', 'sen', 'NJ', 'Pro-Administration', 1745], ['Few', 'William', '1748-06-08', 'M', 'sen', 'GA', 'Anti-Administration', 1748]]\n"
     ]
    }
   ],
   "source": [
    "legislators[0][7] = \"birth_year\"\n",
    "print(legislators[0:10])"
   ]
  },
  {
   "cell_type": "markdown",
   "id": "3775fd30",
   "metadata": {},
   "source": [
    "## Modify the values of the missing years"
   ]
  },
  {
   "cell_type": "markdown",
   "id": "4437c06d",
   "metadata": {},
   "source": [
    "### Training"
   ]
  },
  {
   "cell_type": "code",
   "execution_count": 33,
   "id": "65926542",
   "metadata": {},
   "outputs": [],
   "source": [
    "last_value = 1\n",
    "\n",
    "for row in legislators:\n",
    "    if row[7] == 0:\n",
    "        row[7] = last_value\n",
    "    last_value = row[7]"
   ]
  },
  {
   "cell_type": "code",
   "execution_count": 34,
   "id": "07012053",
   "metadata": {},
   "outputs": [
    {
     "name": "stdout",
     "output_type": "stream",
     "text": [
      "[['last_name', 'first_name', 'birthday', 'gender', 'type', 'state', 'party', 'birth_year'], ['Bassett', 'Richard', '1745-04-02', 'M', 'sen', 'DE', 'Anti-Administration', 1745], ['Bland', 'Theodorick', '1742-03-21', 'M', 'rep', 'VA', 'No Party', 1742], ['Burke', 'Aedanus', '1743-06-16', 'M', 'rep', 'SC', 'No Party', 1743], ['Carroll', 'Daniel', '1730-07-22', 'M', 'rep', 'MD', 'No Party', 1730], ['Clymer', 'George', '1739-03-16', 'M', 'rep', 'PA', 'No Party', 1739], ['Contee', 'Benjamin', '', 'M', 'rep', 'MD', 'No Party', 1739], ['Dalton', 'Tristram', '1738-05-28', 'M', 'sen', 'MA', 'Pro-Administration', 1738], ['Elmer', 'Jonathan', '1745-11-29', 'M', 'sen', 'NJ', 'Pro-Administration', 1745], ['Few', 'William', '1748-06-08', 'M', 'sen', 'GA', 'Anti-Administration', 1748]]\n"
     ]
    }
   ],
   "source": [
    "print(legislators[0:10])"
   ]
  }
 ],
 "metadata": {
  "kernelspec": {
   "display_name": "Python 3 (ipykernel)",
   "language": "python",
   "name": "python3"
  },
  "language_info": {
   "codemirror_mode": {
    "name": "ipython",
    "version": 3
   },
   "file_extension": ".py",
   "mimetype": "text/x-python",
   "name": "python",
   "nbconvert_exporter": "python",
   "pygments_lexer": "ipython3",
   "version": "3.9.7"
  }
 },
 "nbformat": 4,
 "nbformat_minor": 5
}
