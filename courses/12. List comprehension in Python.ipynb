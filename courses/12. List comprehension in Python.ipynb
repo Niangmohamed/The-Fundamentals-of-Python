{
 "cells": [
  {
   "cell_type": "markdown",
   "id": "5da991f7",
   "metadata": {},
   "source": [
    "# Python: List comprehension"
   ]
  },
  {
   "cell_type": "markdown",
   "id": "4ad2a495",
   "metadata": {},
   "source": [
    "Goals: \n",
    "\n",
    "* Interesting new functions: enumerate() and item()\n",
    "\n",
    "* Discovering the lists comprehension and its advantages\n",
    "\n",
    "* Real case: dataset on the historical members of the American Congress\n",
    "\n",
    "* Count and determine the most frequent first names"
   ]
  },
  {
   "cell_type": "markdown",
   "id": "daf998a0",
   "metadata": {},
   "source": [
    "## The enumerate function"
   ]
  },
  {
   "cell_type": "code",
   "execution_count": 1,
   "id": "9dec8c14",
   "metadata": {},
   "outputs": [],
   "source": [
    "# Motivation\n",
    "students = [\"Daouda\", \"Moha\", \"Seyni\", \"Khadir\", \"Mamadou\"]\n",
    "ages = [16, 12, 17, 10, 15]"
   ]
  },
  {
   "cell_type": "markdown",
   "id": "387099e3",
   "metadata": {},
   "source": [
    "Let's display for each student his age."
   ]
  },
  {
   "cell_type": "code",
   "execution_count": 2,
   "id": "e357a061",
   "metadata": {},
   "outputs": [
    {
     "name": "stdout",
     "output_type": "stream",
     "text": [
      "Daouda\n",
      "Moha\n",
      "Seyni\n",
      "Khadir\n",
      "Mamadou\n",
      "16\n",
      "12\n",
      "17\n",
      "10\n",
      "15\n"
     ]
    }
   ],
   "source": [
    "for student in students:\n",
    "    print(student)\n",
    "for age in ages:\n",
    "    print(age)"
   ]
  },
  {
   "cell_type": "markdown",
   "id": "a7bda7de",
   "metadata": {},
   "source": [
    "We notice that by displaying the elements of the first list, we are not able to display the elements of the second list. To do this, Python's **enumerate()** function can help us do this task more easily."
   ]
  },
  {
   "cell_type": "code",
   "execution_count": 3,
   "id": "19543bd8",
   "metadata": {},
   "outputs": [
    {
     "name": "stdout",
     "output_type": "stream",
     "text": [
      "Index: 0\n",
      "Student: Daouda\n",
      "Index: 1\n",
      "Student: Moha\n",
      "Index: 2\n",
      "Student: Seyni\n",
      "Index: 3\n",
      "Student: Khadir\n",
      "Index: 4\n",
      "Student: Mamadou\n"
     ]
    }
   ],
   "source": [
    "# Overview\n",
    "for index, student in enumerate(students):\n",
    "    print(\"Index:\", index)\n",
    "    print(\"Student:\", student)"
   ]
  },
  {
   "cell_type": "markdown",
   "id": "31d44db5",
   "metadata": {},
   "source": [
    "Thus with the index, it is possible to retrieve the age of each student."
   ]
  },
  {
   "cell_type": "code",
   "execution_count": 4,
   "id": "d76af816",
   "metadata": {},
   "outputs": [
    {
     "name": "stdout",
     "output_type": "stream",
     "text": [
      "Student: Daouda\n",
      "Age: 16\n",
      "Student: Moha\n",
      "Age: 12\n",
      "Student: Seyni\n",
      "Age: 17\n",
      "Student: Khadir\n",
      "Age: 10\n",
      "Student: Mamadou\n",
      "Age: 15\n"
     ]
    }
   ],
   "source": [
    "# Example 1\n",
    "for index, student in enumerate(students):\n",
    "    print(\"Student:\", student)\n",
    "    print(\"Age:\", ages[index])"
   ]
  },
  {
   "cell_type": "code",
   "execution_count": 5,
   "id": "f6d3170c",
   "metadata": {},
   "outputs": [],
   "source": [
    "# Example 2\n",
    "cars = [[\"Black\", \"Tesla\", \"Model X\"], [\"Grey\", \"Tesla\", \"Model S Plaid\"]]\n",
    "prices = [114990, 129990]"
   ]
  },
  {
   "cell_type": "markdown",
   "id": "ae70301e",
   "metadata": {},
   "source": [
    "Let's use the **enumerate()** function to add the price to each car."
   ]
  },
  {
   "cell_type": "code",
   "execution_count": 6,
   "id": "6427eb34",
   "metadata": {},
   "outputs": [],
   "source": [
    "for i, car in enumerate(cars):\n",
    "    car.append(prices[i])"
   ]
  },
  {
   "cell_type": "code",
   "execution_count": 7,
   "id": "f55ba4c9",
   "metadata": {},
   "outputs": [
    {
     "name": "stdout",
     "output_type": "stream",
     "text": [
      "[['Black', 'Tesla', 'Model X', 114990], ['Grey', 'Tesla', 'Model S Plaid', 129990]]\n"
     ]
    }
   ],
   "source": [
    "print(cars)"
   ]
  },
  {
   "cell_type": "markdown",
   "id": "c972871d",
   "metadata": {},
   "source": [
    "## List comprehension"
   ]
  },
  {
   "cell_type": "code",
   "execution_count": 8,
   "id": "79b91b12",
   "metadata": {},
   "outputs": [],
   "source": [
    "# Motivation\n",
    "animals = [\"Dog\", \"Tiger\", \"Lion\", \"Cow\", \"Snake\"]\n",
    "animals_lenght = []\n",
    "\n",
    "for animal in animals:\n",
    "    animals_lenght.append(len(animal))"
   ]
  },
  {
   "cell_type": "code",
   "execution_count": 9,
   "id": "9ca5b5b2",
   "metadata": {},
   "outputs": [
    {
     "name": "stdout",
     "output_type": "stream",
     "text": [
      "[3, 5, 4, 3, 5]\n"
     ]
    }
   ],
   "source": [
    "print(animals_lenght)"
   ]
  },
  {
   "cell_type": "code",
   "execution_count": 10,
   "id": "3d78d194",
   "metadata": {},
   "outputs": [
    {
     "data": {
      "text/plain": [
       "[3, 5, 4, 3, 5]"
      ]
     },
     "execution_count": 10,
     "metadata": {},
     "output_type": "execute_result"
    }
   ],
   "source": [
    "# Use of list comprehension\n",
    "animals_lenght = [len(animal) for animal in animals]\n",
    "animals_lenght"
   ]
  },
  {
   "cell_type": "code",
   "execution_count": 11,
   "id": "531a41f7",
   "metadata": {},
   "outputs": [
    {
     "data": {
      "text/plain": [
       "[20, 300, 400, 700]"
      ]
     },
     "execution_count": 11,
     "metadata": {},
     "output_type": "execute_result"
    }
   ],
   "source": [
    "# Example\n",
    "prices = [10, 150, 200, 350]\n",
    "prices_doubled = [price * 2 for price in prices]\n",
    "prices_doubled"
   ]
  },
  {
   "cell_type": "markdown",
   "id": "02889f93",
   "metadata": {},
   "source": [
    "## Counting female names"
   ]
  },
  {
   "cell_type": "markdown",
   "id": "9889a9a4",
   "metadata": {},
   "source": [
    "### Training"
   ]
  },
  {
   "cell_type": "code",
   "execution_count": 12,
   "id": "faf738d2",
   "metadata": {},
   "outputs": [],
   "source": [
    "import csv\n",
    "\n",
    "f = open(\"legislators.csv\")\n",
    "legislators = list(csv.reader(f))"
   ]
  },
  {
   "cell_type": "code",
   "execution_count": 13,
   "id": "47fb4e83",
   "metadata": {},
   "outputs": [],
   "source": [
    "for row in legislators:\n",
    "    \n",
    "    birthday = row[2]\n",
    "    birth_year = birthday.split('-')[0]\n",
    "    \n",
    "    try:\n",
    "        birth_year = int(birth_year)\n",
    "    except Exception:\n",
    "        birth_year = 0\n",
    "    \n",
    "    row.append(birth_year)"
   ]
  },
  {
   "cell_type": "code",
   "execution_count": 14,
   "id": "c6a6f916",
   "metadata": {},
   "outputs": [],
   "source": [
    "legislators[0][7] = \"birth_year\""
   ]
  },
  {
   "cell_type": "code",
   "execution_count": 15,
   "id": "331ac01d",
   "metadata": {},
   "outputs": [],
   "source": [
    "name_counts = {}\n",
    "\n",
    "for row in legislators:\n",
    "    \n",
    "    gender = row[3]\n",
    "    year = row[7]\n",
    "    \n",
    "    if gender == 'F' and year > 1950:\n",
    "        name = row[1]\n",
    "        if name in name_counts:\n",
    "            name_counts[name] += 1\n",
    "        else:\n",
    "            name_counts[name] = 1"
   ]
  },
  {
   "cell_type": "code",
   "execution_count": 16,
   "id": "55116d42",
   "metadata": {},
   "outputs": [
    {
     "name": "stdout",
     "output_type": "stream",
     "text": [
      "{'Enid': 1, 'Lynn': 1, 'Karen': 1, 'Denise': 1, 'Katherine': 1, 'Melissa': 2, 'Blanche': 1, 'Cynthia': 1, 'Shelley': 2, 'Nancy': 1, 'Deborah': 2, 'Heather': 1, 'Kathleen': 2, 'Mary': 2, 'Stephanie': 1, 'Betsy': 1, 'Hilda': 1, 'Ellen': 1, 'Gabrielle': 1, 'Sandy': 1, 'Ann Marie': 1, 'Nan': 1, 'Laura': 1, 'Jean': 1, 'Betty': 1}\n"
     ]
    }
   ],
   "source": [
    "print(name_counts)"
   ]
  },
  {
   "cell_type": "markdown",
   "id": "32a97d9c",
   "metadata": {},
   "source": [
    "## The None object"
   ]
  },
  {
   "cell_type": "code",
   "execution_count": 17,
   "id": "f496a70b",
   "metadata": {},
   "outputs": [
    {
     "name": "stdout",
     "output_type": "stream",
     "text": [
      "60\n"
     ]
    }
   ],
   "source": [
    "# Motivation 1\n",
    "values = [2, 12, 60]\n",
    "max_value = 0\n",
    "\n",
    "for value in values:\n",
    "    if value > max_value:\n",
    "        max_value = value\n",
    "\n",
    "print(max_value)"
   ]
  },
  {
   "cell_type": "code",
   "execution_count": 18,
   "id": "59eb17ba",
   "metadata": {},
   "outputs": [
    {
     "name": "stdout",
     "output_type": "stream",
     "text": [
      "0\n"
     ]
    }
   ],
   "source": [
    "# Motivation 2\n",
    "values = [-2, -12, -60]\n",
    "max_value = 0\n",
    "\n",
    "for value in values:\n",
    "    if value > max_value:\n",
    "        max_value = value\n",
    "\n",
    "print(max_value)"
   ]
  },
  {
   "cell_type": "code",
   "execution_count": 19,
   "id": "f23e86fe",
   "metadata": {},
   "outputs": [
    {
     "name": "stdout",
     "output_type": "stream",
     "text": [
      "-2\n"
     ]
    }
   ],
   "source": [
    "# With None\n",
    "values = [-2, -12, -60]\n",
    "max_value = None\n",
    "\n",
    "for value in values:\n",
    "    if max_value is None or value > max_value:\n",
    "        max_value = value\n",
    "\n",
    "print(max_value)"
   ]
  },
  {
   "cell_type": "markdown",
   "id": "d1b65008",
   "metadata": {},
   "source": [
    "### Training"
   ]
  },
  {
   "cell_type": "code",
   "execution_count": 20,
   "id": "bed626bf",
   "metadata": {},
   "outputs": [
    {
     "data": {
      "text/plain": [
       "[False, False, True, False, True]"
      ]
     },
     "execution_count": 20,
     "metadata": {},
     "output_type": "execute_result"
    }
   ],
   "source": [
    "values = [None, 1, 45, None, 75]\n",
    "check_bool = [x is not None and x > 30 for x in values]\n",
    "check_bool"
   ]
  },
  {
   "cell_type": "markdown",
   "id": "8be83484",
   "metadata": {},
   "source": [
    "## Application: most frequent female names"
   ]
  },
  {
   "cell_type": "markdown",
   "id": "2c5c4d06",
   "metadata": {},
   "source": [
    "### Training"
   ]
  },
  {
   "cell_type": "code",
   "execution_count": 21,
   "id": "e5c3fee9",
   "metadata": {},
   "outputs": [],
   "source": [
    "max_value = None\n",
    "\n",
    "for key in name_counts:\n",
    "    value = name_counts[key]\n",
    "    \n",
    "    if max_value is None or value > max_value:\n",
    "        max_value = value"
   ]
  },
  {
   "cell_type": "code",
   "execution_count": 22,
   "id": "22777684",
   "metadata": {},
   "outputs": [
    {
     "name": "stdout",
     "output_type": "stream",
     "text": [
      "{'Enid': 1, 'Lynn': 1, 'Karen': 1, 'Denise': 1, 'Katherine': 1, 'Melissa': 2, 'Blanche': 1, 'Cynthia': 1, 'Shelley': 2, 'Nancy': 1, 'Deborah': 2, 'Heather': 1, 'Kathleen': 2, 'Mary': 2, 'Stephanie': 1, 'Betsy': 1, 'Hilda': 1, 'Ellen': 1, 'Gabrielle': 1, 'Sandy': 1, 'Ann Marie': 1, 'Nan': 1, 'Laura': 1, 'Jean': 1, 'Betty': 1}\n"
     ]
    }
   ],
   "source": [
    "print(name_counts)"
   ]
  },
  {
   "cell_type": "code",
   "execution_count": 23,
   "id": "54f73f7c",
   "metadata": {},
   "outputs": [
    {
     "name": "stdout",
     "output_type": "stream",
     "text": [
      "2\n"
     ]
    }
   ],
   "source": [
    "print(max_value)"
   ]
  },
  {
   "cell_type": "markdown",
   "id": "72ba0a90",
   "metadata": {},
   "source": [
    "## The items method"
   ]
  },
  {
   "cell_type": "code",
   "execution_count": 24,
   "id": "d108e869",
   "metadata": {},
   "outputs": [],
   "source": [
    "# Example\n",
    "fruits = {\n",
    "    \"apple\" : 12,\n",
    "    \"banana\" : 5,\n",
    "    \"orange\" : 20\n",
    "}"
   ]
  },
  {
   "cell_type": "code",
   "execution_count": 25,
   "id": "0ae2cfd8",
   "metadata": {},
   "outputs": [
    {
     "name": "stdout",
     "output_type": "stream",
     "text": [
      "apple : 12\n",
      "banana : 5\n",
      "orange : 20\n"
     ]
    }
   ],
   "source": [
    "for fruit, number in fruits.items():\n",
    "    print(fruit, \":\", number)"
   ]
  },
  {
   "cell_type": "markdown",
   "id": "9274aa2d",
   "metadata": {},
   "source": [
    "## Find frequent first names"
   ]
  },
  {
   "cell_type": "markdown",
   "id": "a9b8707e",
   "metadata": {},
   "source": [
    "### Training 1"
   ]
  },
  {
   "cell_type": "code",
   "execution_count": 26,
   "id": "9a7ff8c6",
   "metadata": {},
   "outputs": [
    {
     "data": {
      "text/plain": [
       "['Melissa', 'Shelley', 'Deborah', 'Kathleen', 'Mary']"
      ]
     },
     "execution_count": 26,
     "metadata": {},
     "output_type": "execute_result"
    }
   ],
   "source": [
    "top_female_names = [k for k, v in name_counts.items() if v == 2]\n",
    "top_female_names"
   ]
  },
  {
   "cell_type": "markdown",
   "id": "c96aec1d",
   "metadata": {},
   "source": [
    "### Training 2"
   ]
  },
  {
   "cell_type": "code",
   "execution_count": 27,
   "id": "8f080cb1",
   "metadata": {},
   "outputs": [],
   "source": [
    "top_male_names = []\n",
    "male_name_counts = {}\n",
    "\n",
    "for row in legislators:\n",
    "    if row[3] == \"M\" and row[7] > 1940:\n",
    "        name = row[1]\n",
    "        if name in male_name_counts:\n",
    "            male_name_counts[name] += 1\n",
    "        else:\n",
    "            male_name_counts[name] = 1"
   ]
  },
  {
   "cell_type": "code",
   "execution_count": 28,
   "id": "7ae58a47",
   "metadata": {},
   "outputs": [],
   "source": [
    "top_male_count = None\n",
    "\n",
    "for name, count in male_name_counts.items():\n",
    "    if top_male_count is None or count > top_male_count:\n",
    "        top_male_count = count"
   ]
  },
  {
   "cell_type": "code",
   "execution_count": 29,
   "id": "6297844f",
   "metadata": {},
   "outputs": [],
   "source": [
    "for name, count in male_name_counts.items():\n",
    "    if count == top_male_count:\n",
    "        top_male_names.append(name)"
   ]
  },
  {
   "cell_type": "code",
   "execution_count": 30,
   "id": "e504075c",
   "metadata": {},
   "outputs": [
    {
     "name": "stdout",
     "output_type": "stream",
     "text": [
      "['John']\n"
     ]
    }
   ],
   "source": [
    "print(top_male_names)"
   ]
  },
  {
   "cell_type": "markdown",
   "id": "f4bb4958",
   "metadata": {},
   "source": [
    "## Challenge"
   ]
  },
  {
   "cell_type": "markdown",
   "id": "394a9af9",
   "metadata": {},
   "source": [
    "### Dataset"
   ]
  },
  {
   "cell_type": "code",
   "execution_count": 31,
   "id": "814d8ff9",
   "metadata": {},
   "outputs": [],
   "source": [
    "import csv\n",
    "\n",
    "f = open(\"nfl_suspensions_data.csv\")\n",
    "nfl_suspensions = list(csv.reader(f))\n",
    "nfl_suspensions = nfl_suspensions[1:]"
   ]
  },
  {
   "cell_type": "code",
   "execution_count": 32,
   "id": "6b225817",
   "metadata": {},
   "outputs": [
    {
     "name": "stdout",
     "output_type": "stream",
     "text": [
      "[['F. Davis', 'WAS', 'Indef.', 'Substance abuse, repeated offense', 'Marijuana-related', '2014', 'http://www.cbssports.com/nfl/eye-on-football/24448694/redskins-te-fred-davis-suspended-Indefiniteinitely-by-nfl'], ['J. Blackmon', 'JAX', 'Indef.', 'Substance abuse, repeated offense', '', '2014', 'http://espn.go.com/nfl/story/_/id/11257934/justin-blackmon-jacksonville-jaguars-arrested-marijuana-possession'], ['L. Brazill', 'IND', 'Indef.', 'Substance abuse, repeated offense', '', '2014', 'http://www.nfl.com/news/story/0ap2000000364622/article/lavon-brazill-released-by-colts-in-wake-of-suspension'], ['T. Jackson', 'WAS', 'Indef.', 'Substance abuse, repeated offense', '', '2014', 'http://www.nfl.com/news/story/0ap2000000364087/article/tanard-jackson-suspended-Indefiniteinitely-by-nfl'], ['M. Hapes', 'NYG', 'Indef.', 'Personal conduct', 'Gambling-related', '1946', 'http://espn.go.com/blog/nflnation/tag/_/name/frank-filchock']]\n"
     ]
    }
   ],
   "source": [
    "print(nfl_suspensions[:5])"
   ]
  },
  {
   "cell_type": "code",
   "execution_count": 33,
   "id": "0e5740cf",
   "metadata": {},
   "outputs": [],
   "source": [
    "years = {}\n",
    "\n",
    "for suspension in nfl_suspensions:\n",
    "    \n",
    "    row_year = suspension[5]\n",
    "    if row_year in years:\n",
    "        years[row_year] += 1\n",
    "    else:\n",
    "        years[row_year] = 1"
   ]
  },
  {
   "cell_type": "code",
   "execution_count": 34,
   "id": "8f27daa1",
   "metadata": {},
   "outputs": [
    {
     "name": "stdout",
     "output_type": "stream",
     "text": [
      "{'2014': 29, '1946': 1, '1947': 1, '2010': 21, '2008': 10, '2007': 17, '1983': 1, '2009': 10, '2005': 8, '2000': 1, '2012': 45, '2001': 3, '2006': 11, '1989': 17, '   ': 1, '1963': 1, '2013': 40, '1990': 3, '2011': 13, '2004': 6, '2002': 7, '2003': 9, '1997': 3, '1999': 5, '1993': 1, '1995': 1, '1998': 2, '1994': 1, '1986': 1}\n"
     ]
    }
   ],
   "source": [
    "print(years)"
   ]
  },
  {
   "cell_type": "markdown",
   "id": "17864b9f",
   "metadata": {},
   "source": [
    "### Unique values"
   ]
  },
  {
   "cell_type": "code",
   "execution_count": 35,
   "id": "cc506983",
   "metadata": {},
   "outputs": [],
   "source": [
    "teams = [row[1] for row in nfl_suspensions]\n",
    "unique_teams = set(teams)"
   ]
  },
  {
   "cell_type": "code",
   "execution_count": 36,
   "id": "b9dc8cd8",
   "metadata": {},
   "outputs": [
    {
     "name": "stdout",
     "output_type": "stream",
     "text": [
      "{'HOU', 'SEA', 'JAX', 'TEN', 'CIN', 'LA', 'GB', 'DEN', 'TB', 'SD', 'NYG', 'WAS', 'DAL', 'MIN', 'OAK', 'NE', 'DET', 'SF', 'CLE', 'BUF', 'CHI', 'NO', 'STL', 'BAL', 'FREE', 'CAR', 'IND', 'NYJ', 'PIT', 'MIA', 'ARI', 'PHI', 'KC', 'ATL'}\n"
     ]
    }
   ],
   "source": [
    "print(unique_teams)"
   ]
  },
  {
   "cell_type": "code",
   "execution_count": 37,
   "id": "a7102bdc",
   "metadata": {},
   "outputs": [],
   "source": [
    "games = [row[2] for row in nfl_suspensions]\n",
    "unique_games = set(games)"
   ]
  },
  {
   "cell_type": "code",
   "execution_count": 38,
   "id": "50ee98c4",
   "metadata": {},
   "outputs": [
    {
     "name": "stdout",
     "output_type": "stream",
     "text": [
      "{'2', '36', 'Indef.', '10', '4', '14', '3', '16', '1', '20', '6', '8', '32', '5'}\n"
     ]
    }
   ],
   "source": [
    "print(unique_games)"
   ]
  },
  {
   "cell_type": "markdown",
   "id": "4eca4269",
   "metadata": {},
   "source": [
    "### Suspension class"
   ]
  },
  {
   "cell_type": "code",
   "execution_count": 39,
   "id": "c3140a10",
   "metadata": {},
   "outputs": [],
   "source": [
    "class Suspension():\n",
    "    def __init__(self, row):\n",
    "        self.name = row[0]\n",
    "        self.team = row[1]\n",
    "        self.games = row[2]\n",
    "        self.year = row[5]"
   ]
  },
  {
   "cell_type": "code",
   "execution_count": 40,
   "id": "0217551f",
   "metadata": {},
   "outputs": [],
   "source": [
    "third_suspension = Suspension(nfl_suspensions[2])"
   ]
  },
  {
   "cell_type": "code",
   "execution_count": 41,
   "id": "20589dbd",
   "metadata": {},
   "outputs": [
    {
     "name": "stdout",
     "output_type": "stream",
     "text": [
      "L. Brazill | IND | Indef. | 2014\n"
     ]
    }
   ],
   "source": [
    "print(third_suspension.name, \"|\", third_suspension.team, \"|\", third_suspension.games, \"|\", third_suspension.year)"
   ]
  },
  {
   "cell_type": "markdown",
   "id": "9cb85d92",
   "metadata": {},
   "source": [
    "### Improved suspension class"
   ]
  },
  {
   "cell_type": "code",
   "execution_count": 42,
   "id": "104b6eaf",
   "metadata": {},
   "outputs": [],
   "source": [
    "class Suspension():\n",
    "    def __init__(self, row):\n",
    "        self.name = row[0]\n",
    "        self.team = row[1]\n",
    "        self.games = row[2]\n",
    "        try:\n",
    "            self.year = int(row[5])\n",
    "        except Exception:\n",
    "            self.year = 0\n",
    "            \n",
    "    def get_year(self):\n",
    "        return self.year"
   ]
  },
  {
   "cell_type": "code",
   "execution_count": 43,
   "id": "e0c44581",
   "metadata": {},
   "outputs": [],
   "source": [
    "missing_year = Suspension(nfl_suspensions[22])\n",
    "get_missing_year = missing_year.get_year()"
   ]
  },
  {
   "cell_type": "code",
   "execution_count": 44,
   "id": "2c077fca",
   "metadata": {},
   "outputs": [
    {
     "name": "stdout",
     "output_type": "stream",
     "text": [
      "0\n"
     ]
    }
   ],
   "source": [
    "print(get_missing_year)"
   ]
  }
 ],
 "metadata": {
  "kernelspec": {
   "display_name": "Python 3 (ipykernel)",
   "language": "python",
   "name": "python3"
  },
  "language_info": {
   "codemirror_mode": {
    "name": "ipython",
    "version": 3
   },
   "file_extension": ".py",
   "mimetype": "text/x-python",
   "name": "python",
   "nbconvert_exporter": "python",
   "pygments_lexer": "ipython3",
   "version": "3.9.7"
  }
 },
 "nbformat": 4,
 "nbformat_minor": 5
}
